{
 "cells": [
  {
   "cell_type": "markdown",
   "id": "c63c515d",
   "metadata": {},
   "source": [
    "# Python Ilk Ders\n",
    "## Temel Kodlar\n",
    "\n",
    "* Listeler"
   ]
  },
  {
   "cell_type": "markdown",
   "id": "303859c8",
   "metadata": {},
   "source": [
    "# Hi All\n",
    "\n",
    " * We are learning Python with Jupyter Notebook"
   ]
  },
  {
   "cell_type": "markdown",
   "id": "ff854672",
   "metadata": {},
   "source": [
    "### SECTION : INTRO"
   ]
  },
  {
   "cell_type": "code",
   "execution_count": null,
   "id": "3dedc95e",
   "metadata": {},
   "outputs": [],
   "source": [
    "# The first code\n",
    "\n",
    "3+3 "
   ]
  },
  {
   "cell_type": "code",
   "execution_count": null,
   "id": "05abddf0",
   "metadata": {},
   "outputs": [],
   "source": [
    "4/3"
   ]
  },
  {
   "cell_type": "code",
   "execution_count": null,
   "id": "c8b8fd01",
   "metadata": {},
   "outputs": [],
   "source": [
    "type(\"miuul\")"
   ]
  },
  {
   "cell_type": "code",
   "execution_count": null,
   "id": "a472128d",
   "metadata": {},
   "outputs": [],
   "source": [
    "type(4/3)"
   ]
  },
  {
   "cell_type": "code",
   "execution_count": null,
   "id": "026e1f80",
   "metadata": {},
   "outputs": [],
   "source": [
    "f = 6"
   ]
  },
  {
   "cell_type": "code",
   "execution_count": null,
   "id": "a33b4ba4",
   "metadata": {},
   "outputs": [],
   "source": [
    "f"
   ]
  },
  {
   "cell_type": "code",
   "execution_count": null,
   "id": "d0b97186",
   "metadata": {},
   "outputs": [],
   "source": [
    "type(f)"
   ]
  },
  {
   "cell_type": "code",
   "execution_count": null,
   "id": "de78969d",
   "metadata": {},
   "outputs": [],
   "source": [
    "# Step by step\n",
    "\n",
    "4/3"
   ]
  },
  {
   "cell_type": "code",
   "execution_count": null,
   "id": "721fb3c5",
   "metadata": {},
   "outputs": [],
   "source": [
    "# Value\n",
    "\n",
    "3.2"
   ]
  },
  {
   "cell_type": "code",
   "execution_count": null,
   "id": "899b2ee8",
   "metadata": {},
   "outputs": [],
   "source": [
    "# Invalid  Variable\n",
    "\n",
    "type(\"chrhrhshshthth\")"
   ]
  },
  {
   "cell_type": "code",
   "execution_count": null,
   "id": "2c1fade2",
   "metadata": {},
   "outputs": [],
   "source": [
    "'a'"
   ]
  },
  {
   "cell_type": "code",
   "execution_count": null,
   "id": "1bddbd77",
   "metadata": {},
   "outputs": [],
   "source": [
    "# Variable\n",
    "\n",
    "a=3\n",
    "\n",
    "a"
   ]
  },
  {
   "cell_type": "code",
   "execution_count": null,
   "id": "7c162dad",
   "metadata": {},
   "outputs": [],
   "source": [
    "9*10"
   ]
  },
  {
   "cell_type": "code",
   "execution_count": null,
   "id": "64372723",
   "metadata": {},
   "outputs": [],
   "source": [
    "a*b"
   ]
  },
  {
   "cell_type": "code",
   "execution_count": null,
   "id": "db91a115",
   "metadata": {},
   "outputs": [],
   "source": [
    "# BASE..."
   ]
  },
  {
   "cell_type": "code",
   "execution_count": null,
   "id": "b401ee6b",
   "metadata": {},
   "outputs": [],
   "source": [
    "a = 9\n",
    "\n",
    "b = 10"
   ]
  },
  {
   "cell_type": "code",
   "execution_count": null,
   "id": "6a9529d1",
   "metadata": {},
   "outputs": [],
   "source": [
    "a * b"
   ]
  },
  {
   "cell_type": "code",
   "execution_count": null,
   "id": "12a77d22",
   "metadata": {},
   "outputs": [],
   "source": [
    "a + b"
   ]
  },
  {
   "cell_type": "code",
   "execution_count": null,
   "id": "ba17c398",
   "metadata": {},
   "outputs": [],
   "source": [
    "c+d"
   ]
  },
  {
   "cell_type": "code",
   "execution_count": null,
   "id": "5f277cd9",
   "metadata": {},
   "outputs": [],
   "source": [
    "\"Python\""
   ]
  },
  {
   "cell_type": "code",
   "execution_count": null,
   "id": "af6170af",
   "metadata": {},
   "outputs": [],
   "source": [
    "a= 3\n",
    "b = \"DA Bootcamp\""
   ]
  },
  {
   "cell_type": "code",
   "execution_count": null,
   "id": "7c1982a1",
   "metadata": {},
   "outputs": [],
   "source": [
    "a*b"
   ]
  },
  {
   "cell_type": "code",
   "execution_count": null,
   "id": "e9e79120",
   "metadata": {},
   "outputs": [],
   "source": [
    "b.upper()"
   ]
  },
  {
   "cell_type": "code",
   "execution_count": null,
   "id": "492fc9da",
   "metadata": {},
   "outputs": [],
   "source": [
    "b.upper().lower().count(\"a\")"
   ]
  },
  {
   "cell_type": "code",
   "execution_count": null,
   "id": "76dc756a",
   "metadata": {},
   "outputs": [],
   "source": [
    "b.lower()"
   ]
  },
  {
   "cell_type": "code",
   "execution_count": null,
   "id": "d3848d01",
   "metadata": {},
   "outputs": [],
   "source": [
    "b"
   ]
  },
  {
   "cell_type": "code",
   "execution_count": null,
   "id": "056f6b83",
   "metadata": {},
   "outputs": [],
   "source": [
    "b.islower()"
   ]
  },
  {
   "cell_type": "code",
   "execution_count": null,
   "id": "b4625a97",
   "metadata": {},
   "outputs": [],
   "source": [
    "b.islower()   #nokta koyup tab yapiyorum"
   ]
  },
  {
   "cell_type": "code",
   "execution_count": null,
   "id": "3a11887a",
   "metadata": {},
   "outputs": [],
   "source": [
    "b.lower().islower()"
   ]
  },
  {
   "cell_type": "code",
   "execution_count": null,
   "id": "be07c218",
   "metadata": {},
   "outputs": [],
   "source": [
    "type(\"Python\")"
   ]
  },
  {
   "cell_type": "code",
   "execution_count": null,
   "id": "ef3ae674",
   "metadata": {},
   "outputs": [],
   "source": [
    "\"Python\".upper()"
   ]
  },
  {
   "cell_type": "code",
   "execution_count": null,
   "id": "51fadbd7",
   "metadata": {},
   "outputs": [],
   "source": [
    "len(\"Python\")"
   ]
  },
  {
   "cell_type": "code",
   "execution_count": null,
   "id": "63ef9ee0",
   "metadata": {},
   "outputs": [],
   "source": [
    "print(\"En sevdigim sayi\" )"
   ]
  },
  {
   "cell_type": "code",
   "execution_count": null,
   "id": "e6dc1db0",
   "metadata": {},
   "outputs": [],
   "source": [
    "print(\"En sevdigim sayi : \",3)"
   ]
  },
  {
   "cell_type": "code",
   "execution_count": null,
   "id": "7b04da98",
   "metadata": {},
   "outputs": [],
   "source": [
    "c = 9*10"
   ]
  },
  {
   "cell_type": "code",
   "execution_count": null,
   "id": "28315ba9",
   "metadata": {},
   "outputs": [],
   "source": [
    "print(\"En sevdigim sayi : \",c)"
   ]
  },
  {
   "cell_type": "code",
   "execution_count": null,
   "id": "0c76d183",
   "metadata": {},
   "outputs": [],
   "source": [
    "True"
   ]
  },
  {
   "cell_type": "code",
   "execution_count": null,
   "id": "683c0ba1",
   "metadata": {},
   "outputs": [],
   "source": [
    "True + True"
   ]
  },
  {
   "cell_type": "code",
   "execution_count": null,
   "id": "3dc2ae11",
   "metadata": {},
   "outputs": [],
   "source": [
    "True+False"
   ]
  },
  {
   "cell_type": "code",
   "execution_count": null,
   "id": "8bd8e84d",
   "metadata": {},
   "outputs": [],
   "source": [
    "# a = [3,4,5,6,7,-2,5] => [False,False,False,False,False,True,False] "
   ]
  },
  {
   "cell_type": "code",
   "execution_count": null,
   "id": "e7f66e3a",
   "metadata": {},
   "outputs": [],
   "source": [
    "False+False+False+False+False+True+False"
   ]
  },
  {
   "cell_type": "code",
   "execution_count": null,
   "id": "83624fd5",
   "metadata": {},
   "outputs": [],
   "source": [
    "# DATA >>> Bos hucren var mi...>>> Boslara True, Dolulara False \n",
    "# df.isnull().sum()"
   ]
  },
  {
   "cell_type": "code",
   "execution_count": null,
   "id": "82c9ee75",
   "metadata": {},
   "outputs": [],
   "source": [
    "True+True"
   ]
  },
  {
   "cell_type": "code",
   "execution_count": null,
   "id": "813da16e",
   "metadata": {},
   "outputs": [],
   "source": [
    "True+False"
   ]
  },
  {
   "cell_type": "code",
   "execution_count": null,
   "id": "d8384397",
   "metadata": {},
   "outputs": [],
   "source": [
    "False+False"
   ]
  },
  {
   "cell_type": "code",
   "execution_count": null,
   "id": "7ce9f170",
   "metadata": {},
   "outputs": [],
   "source": [
    "True-True"
   ]
  },
  {
   "cell_type": "code",
   "execution_count": null,
   "id": "c9cfb202",
   "metadata": {},
   "outputs": [],
   "source": [
    "info = \"Assignments Operations\""
   ]
  },
  {
   "cell_type": "code",
   "execution_count": null,
   "id": "d69caf6a",
   "metadata": {},
   "outputs": [],
   "source": [
    "type(info)"
   ]
  },
  {
   "cell_type": "code",
   "execution_count": null,
   "id": "1c65a34f",
   "metadata": {},
   "outputs": [],
   "source": [
    "info.capitalize()"
   ]
  },
  {
   "cell_type": "code",
   "execution_count": null,
   "id": "89d79b0b",
   "metadata": {},
   "outputs": [],
   "source": [
    "info.title()"
   ]
  },
  {
   "cell_type": "code",
   "execution_count": null,
   "id": "8a2e49c8",
   "metadata": {},
   "outputs": [],
   "source": [
    "info.find(\"i\") # soft dursun... \n",
    "#Assignments Operations\n",
    "#0,1,2,3"
   ]
  },
  {
   "cell_type": "code",
   "execution_count": null,
   "id": "48cbe87d",
   "metadata": {},
   "outputs": [],
   "source": [
    "info.split(\"g\")"
   ]
  },
  {
   "cell_type": "code",
   "execution_count": null,
   "id": "0a878757",
   "metadata": {},
   "outputs": [],
   "source": [
    "info.count(\"w\")"
   ]
  },
  {
   "cell_type": "code",
   "execution_count": null,
   "id": "cb9d1fed",
   "metadata": {},
   "outputs": [],
   "source": [
    "info.endswith(\"s\")"
   ]
  },
  {
   "cell_type": "code",
   "execution_count": null,
   "id": "6899857c",
   "metadata": {},
   "outputs": [],
   "source": [
    "info.count(\"s\")"
   ]
  },
  {
   "cell_type": "code",
   "execution_count": null,
   "id": "21ffd683",
   "metadata": {},
   "outputs": [],
   "source": [
    "info.lower()"
   ]
  },
  {
   "cell_type": "code",
   "execution_count": null,
   "id": "5f3680b6",
   "metadata": {},
   "outputs": [],
   "source": [
    "info"
   ]
  },
  {
   "cell_type": "code",
   "execution_count": null,
   "id": "5b45c3ca",
   "metadata": {},
   "outputs": [],
   "source": [
    "info = info.upper()"
   ]
  },
  {
   "cell_type": "code",
   "execution_count": null,
   "id": "a4b15d2e",
   "metadata": {},
   "outputs": [],
   "source": [
    "info"
   ]
  },
  {
   "cell_type": "code",
   "execution_count": null,
   "id": "925d1d42",
   "metadata": {},
   "outputs": [],
   "source": [
    "info.lower()"
   ]
  },
  {
   "cell_type": "code",
   "execution_count": null,
   "id": "281a4edd",
   "metadata": {},
   "outputs": [],
   "source": [
    "info.lower().replace(\" \",\"|\")"
   ]
  },
  {
   "cell_type": "code",
   "execution_count": null,
   "id": "9c264342",
   "metadata": {},
   "outputs": [],
   "source": [
    "info.lower().replace(\" \",\"|\").split(\"|\").append(3)"
   ]
  },
  {
   "cell_type": "code",
   "execution_count": null,
   "id": "ae01f886",
   "metadata": {},
   "outputs": [],
   "source": [
    "info.lower().replace(\" \",\"|\").split(\"|\")"
   ]
  },
  {
   "cell_type": "code",
   "execution_count": null,
   "id": "43232c28",
   "metadata": {},
   "outputs": [],
   "source": [
    "listem = info.lower().replace(\" \",\"|\").split(\"|\") #.append(3)"
   ]
  },
  {
   "cell_type": "code",
   "execution_count": null,
   "id": "79efa3ba",
   "metadata": {},
   "outputs": [],
   "source": [
    "listem"
   ]
  },
  {
   "cell_type": "code",
   "execution_count": null,
   "id": "9a3aa671",
   "metadata": {},
   "outputs": [],
   "source": [
    "listem = info.lower().replace(\" \",\"|\").split(\"|\")"
   ]
  },
  {
   "cell_type": "code",
   "execution_count": null,
   "id": "eafc20e9",
   "metadata": {},
   "outputs": [],
   "source": [
    "listem.append(3)"
   ]
  },
  {
   "cell_type": "code",
   "execution_count": null,
   "id": "8982f7c8",
   "metadata": {},
   "outputs": [],
   "source": [
    "listem"
   ]
  },
  {
   "cell_type": "code",
   "execution_count": null,
   "id": "b8b50d4d",
   "metadata": {},
   "outputs": [],
   "source": [
    "#listem.insert() tekrar... :)"
   ]
  },
  {
   "cell_type": "code",
   "execution_count": null,
   "id": "50ada5ff",
   "metadata": {},
   "outputs": [],
   "source": [
    "info.replace(\" \",\"-\")"
   ]
  },
  {
   "cell_type": "code",
   "execution_count": null,
   "id": "abf9c6b8",
   "metadata": {},
   "outputs": [],
   "source": [
    "info"
   ]
  },
  {
   "cell_type": "code",
   "execution_count": null,
   "id": "9e559cc8",
   "metadata": {},
   "outputs": [],
   "source": [
    "info.replace(\" \", \"=\")"
   ]
  },
  {
   "cell_type": "code",
   "execution_count": null,
   "id": "b8fd0c0b",
   "metadata": {},
   "outputs": [],
   "source": [
    "info = info.replace(\" \", \"=\")"
   ]
  },
  {
   "cell_type": "code",
   "execution_count": null,
   "id": "b5277bf9",
   "metadata": {},
   "outputs": [],
   "source": [
    "info"
   ]
  },
  {
   "cell_type": "code",
   "execution_count": null,
   "id": "4f03136c",
   "metadata": {},
   "outputs": [],
   "source": [
    "info.upper()"
   ]
  },
  {
   "cell_type": "code",
   "execution_count": null,
   "id": "c5c92087",
   "metadata": {},
   "outputs": [],
   "source": [
    "info.replace(\"=\", \":\")"
   ]
  },
  {
   "cell_type": "code",
   "execution_count": null,
   "id": "0921230e",
   "metadata": {},
   "outputs": [],
   "source": [
    "info = info.upper()"
   ]
  },
  {
   "cell_type": "code",
   "execution_count": null,
   "id": "da2774c0",
   "metadata": {},
   "outputs": [],
   "source": [
    "info.replace(\" \", \"=\")"
   ]
  },
  {
   "cell_type": "code",
   "execution_count": null,
   "id": "406f9113",
   "metadata": {},
   "outputs": [],
   "source": [
    "info.replace(\" \",\"|\").lower().isupper()"
   ]
  },
  {
   "cell_type": "code",
   "execution_count": null,
   "id": "1e6a04d3",
   "metadata": {},
   "outputs": [],
   "source": [
    "info.upper().replace(\" \", \"=\")"
   ]
  },
  {
   "cell_type": "markdown",
   "id": "2bdc1ea3",
   "metadata": {},
   "source": [
    "## SECTION : DATA TYPES"
   ]
  },
  {
   "cell_type": "code",
   "execution_count": null,
   "id": "f65ba204",
   "metadata": {},
   "outputs": [],
   "source": [
    "# Data Types & Integer\n",
    "\n",
    "x = 18\n",
    "type(x)"
   ]
  },
  {
   "cell_type": "code",
   "execution_count": null,
   "id": "4ca6aba1",
   "metadata": {},
   "outputs": [],
   "source": [
    "# Data Types & Integer\n",
    "\n",
    "y = 4.2\n",
    "type(y)"
   ]
  },
  {
   "cell_type": "code",
   "execution_count": null,
   "id": "36f47122",
   "metadata": {},
   "outputs": [],
   "source": [
    "# Data Types & String\n",
    "\n",
    "a = \"Hello miuul\"\n",
    "type(a)"
   ]
  },
  {
   "cell_type": "code",
   "execution_count": null,
   "id": "bd3dbcd4",
   "metadata": {},
   "outputs": [],
   "source": [
    "a.isupper()"
   ]
  },
  {
   "cell_type": "code",
   "execution_count": null,
   "id": "173c68f9",
   "metadata": {},
   "outputs": [],
   "source": [
    "type(a.isupper())"
   ]
  },
  {
   "cell_type": "markdown",
   "id": "58ee4a51",
   "metadata": {},
   "source": [
    "### LIST"
   ]
  },
  {
   "cell_type": "code",
   "execution_count": null,
   "id": "4baaf903",
   "metadata": {},
   "outputs": [],
   "source": [
    "# LISTE >> ARRAY >> DATA FRAME\n",
    "\n",
    "\n",
    "a =[3,5]"
   ]
  },
  {
   "cell_type": "code",
   "execution_count": null,
   "id": "aa22ac86",
   "metadata": {},
   "outputs": [],
   "source": [
    "listem = [2,3,11,\"1\",\"q\",True]"
   ]
  },
  {
   "cell_type": "code",
   "execution_count": null,
   "id": "e87c6e67",
   "metadata": {},
   "outputs": [],
   "source": [
    "listem"
   ]
  },
  {
   "cell_type": "code",
   "execution_count": null,
   "id": "3d9a2aab",
   "metadata": {},
   "outputs": [],
   "source": [
    "listem = [2,3,11,\"1\",\"q\",True,[1,1]]"
   ]
  },
  {
   "cell_type": "code",
   "execution_count": null,
   "id": "f3f37fba",
   "metadata": {},
   "outputs": [],
   "source": [
    "listem[6]"
   ]
  },
  {
   "cell_type": "code",
   "execution_count": null,
   "id": "8f94baac",
   "metadata": {},
   "outputs": [],
   "source": [
    "listem[6][0]"
   ]
  },
  {
   "cell_type": "code",
   "execution_count": null,
   "id": "1129e6b2",
   "metadata": {},
   "outputs": [],
   "source": [
    "type(listem)"
   ]
  },
  {
   "cell_type": "code",
   "execution_count": null,
   "id": "8aa84b48",
   "metadata": {},
   "outputs": [],
   "source": [
    "listem[0]"
   ]
  },
  {
   "cell_type": "code",
   "execution_count": null,
   "id": "875a3bb6",
   "metadata": {},
   "outputs": [],
   "source": [
    "listem[5]"
   ]
  },
  {
   "cell_type": "code",
   "execution_count": null,
   "id": "dbb90fc4",
   "metadata": {},
   "outputs": [],
   "source": [
    "listem.append(3)"
   ]
  },
  {
   "cell_type": "code",
   "execution_count": null,
   "id": "d533bf87",
   "metadata": {},
   "outputs": [],
   "source": [
    "listem"
   ]
  },
  {
   "cell_type": "code",
   "execution_count": null,
   "id": "e550a145",
   "metadata": {},
   "outputs": [],
   "source": [
    "listem.insert(1,1)"
   ]
  },
  {
   "cell_type": "code",
   "execution_count": null,
   "id": "20d2ee82",
   "metadata": {},
   "outputs": [],
   "source": [
    "listem"
   ]
  },
  {
   "cell_type": "code",
   "execution_count": null,
   "id": "f52a731b",
   "metadata": {},
   "outputs": [],
   "source": [
    "listem.insert(1,\"a\")"
   ]
  },
  {
   "cell_type": "code",
   "execution_count": null,
   "id": "bf6991d6",
   "metadata": {},
   "outputs": [],
   "source": [
    "listem"
   ]
  },
  {
   "cell_type": "code",
   "execution_count": null,
   "id": "42631b17",
   "metadata": {},
   "outputs": [],
   "source": [
    "len(listem)"
   ]
  },
  {
   "cell_type": "code",
   "execution_count": null,
   "id": "6600f9b1",
   "metadata": {},
   "outputs": [],
   "source": [
    "listem.index(1)"
   ]
  },
  {
   "cell_type": "code",
   "execution_count": null,
   "id": "aa3a0f0b",
   "metadata": {},
   "outputs": [],
   "source": [
    "listem = [3,5,8,\"Python\",True,10]"
   ]
  },
  {
   "cell_type": "code",
   "execution_count": null,
   "id": "56df994c",
   "metadata": {},
   "outputs": [],
   "source": [
    "listem"
   ]
  },
  {
   "cell_type": "code",
   "execution_count": null,
   "id": "44211275",
   "metadata": {},
   "outputs": [],
   "source": [
    "listem[len(listem)-1]"
   ]
  },
  {
   "cell_type": "code",
   "execution_count": null,
   "id": "99927aeb",
   "metadata": {},
   "outputs": [],
   "source": [
    "listem[-1]"
   ]
  },
  {
   "cell_type": "code",
   "execution_count": null,
   "id": "1be0309a",
   "metadata": {},
   "outputs": [],
   "source": [
    "#[0,1,2,3,4,5]\n",
    "\n",
    "listem[4:6]"
   ]
  },
  {
   "cell_type": "code",
   "execution_count": null,
   "id": "b47eb7de",
   "metadata": {},
   "outputs": [],
   "source": [
    "len(listem)"
   ]
  },
  {
   "cell_type": "code",
   "execution_count": null,
   "id": "a0853b3f",
   "metadata": {},
   "outputs": [],
   "source": [
    "listem[len(listem)-1]"
   ]
  },
  {
   "cell_type": "code",
   "execution_count": null,
   "id": "9c4c59e3",
   "metadata": {},
   "outputs": [],
   "source": [
    "listem[-2]"
   ]
  },
  {
   "cell_type": "code",
   "execution_count": null,
   "id": "004bb1fd",
   "metadata": {},
   "outputs": [],
   "source": [
    "listem"
   ]
  },
  {
   "cell_type": "code",
   "execution_count": null,
   "id": "3b77186d",
   "metadata": {},
   "outputs": [],
   "source": [
    "[2, 1, 3, 11, '1', 'q']"
   ]
  },
  {
   "cell_type": "code",
   "execution_count": null,
   "id": "59f5af8c",
   "metadata": {},
   "outputs": [],
   "source": [
    "[2,3.2,True,[3,4,5]]"
   ]
  },
  {
   "cell_type": "code",
   "execution_count": null,
   "id": "9f6449e6",
   "metadata": {},
   "outputs": [],
   "source": [
    "[2,3.2,True,[3,4,5,[3,4,5]]]"
   ]
  },
  {
   "cell_type": "code",
   "execution_count": null,
   "id": "ec481afb",
   "metadata": {},
   "outputs": [],
   "source": [
    "t= [2,3.2,True,[3,4,5,[3,4,5]]] # ikinci dorde nasil gidilir"
   ]
  },
  {
   "cell_type": "code",
   "execution_count": null,
   "id": "cff00ab6",
   "metadata": {},
   "outputs": [],
   "source": [
    "t[3][3][1]"
   ]
  },
  {
   "cell_type": "code",
   "execution_count": null,
   "id": "6c6a07e4",
   "metadata": {},
   "outputs": [],
   "source": [
    "q= [[2,1,2,10,11],[2,1,2,10,11],[2,1,2,10,11]]\n",
    "q"
   ]
  },
  {
   "cell_type": "code",
   "execution_count": null,
   "id": "36ce42d8",
   "metadata": {},
   "outputs": [],
   "source": [
    "q[2][-1]"
   ]
  },
  {
   "cell_type": "code",
   "execution_count": null,
   "id": "23f1748a",
   "metadata": {},
   "outputs": [],
   "source": [
    "listem"
   ]
  },
  {
   "cell_type": "code",
   "execution_count": null,
   "id": "c904c257",
   "metadata": {},
   "outputs": [],
   "source": [
    "#listem = [3,5,8,\"Python\",True,10]\n",
    "#array = [3,5,8,3,10]\n",
    "#array = [2,1,2,10,11]\n",
    "\n",
    "[[2,1,2,10,11],\n",
    " [2,1,2,10,11],\n",
    " [2,1,2,10,11]]\n",
    "\n",
    "\n",
    "\n",
    "#Liste>>>Array>>>DataFrame\n",
    "#Orj>>>Numpy>>>Pandas +++ Veri Manipulasyonu\n",
    "#Veri Gorsellestirme .. \n"
   ]
  },
  {
   "cell_type": "code",
   "execution_count": null,
   "id": "d3c46c87",
   "metadata": {},
   "outputs": [],
   "source": [
    "my_list = [3,3,4, 'a',True]\n",
    "\n",
    "#[3,3,4, 'a',True]\n",
    "#0,1,2,3,4"
   ]
  },
  {
   "cell_type": "code",
   "execution_count": null,
   "id": "aa270697",
   "metadata": {},
   "outputs": [],
   "source": [
    "my_list"
   ]
  },
  {
   "cell_type": "code",
   "execution_count": null,
   "id": "0dc311ed",
   "metadata": {},
   "outputs": [],
   "source": [
    "len(my_list)"
   ]
  },
  {
   "cell_type": "code",
   "execution_count": null,
   "id": "4227d230",
   "metadata": {},
   "outputs": [],
   "source": [
    "#[3, 3, 4, 'a', True]\n",
    "#[0, 1, 2,  3,   4]"
   ]
  },
  {
   "cell_type": "code",
   "execution_count": null,
   "id": "370de069",
   "metadata": {},
   "outputs": [],
   "source": [
    "my_list[3]"
   ]
  },
  {
   "cell_type": "code",
   "execution_count": null,
   "id": "5e14a124",
   "metadata": {},
   "outputs": [],
   "source": [
    "veri = my_list[3]"
   ]
  },
  {
   "cell_type": "code",
   "execution_count": null,
   "id": "61e4818a",
   "metadata": {},
   "outputs": [],
   "source": [
    "veri # Listenin. 4. elemani"
   ]
  },
  {
   "cell_type": "code",
   "execution_count": null,
   "id": "f19a4143",
   "metadata": {},
   "outputs": [],
   "source": [
    "my_list[3]='miuul'"
   ]
  },
  {
   "cell_type": "code",
   "execution_count": null,
   "id": "75d2419c",
   "metadata": {},
   "outputs": [],
   "source": [
    "my_list"
   ]
  },
  {
   "cell_type": "code",
   "execution_count": null,
   "id": "72600099",
   "metadata": {},
   "outputs": [],
   "source": [
    "my_list[2]  #2. indeks... 0,1,2,3..."
   ]
  },
  {
   "cell_type": "code",
   "execution_count": null,
   "id": "28385efe",
   "metadata": {},
   "outputs": [],
   "source": [
    "my_list[3]"
   ]
  },
  {
   "cell_type": "code",
   "execution_count": null,
   "id": "5eb5e3ae",
   "metadata": {},
   "outputs": [],
   "source": [
    "my_list[2:4]"
   ]
  },
  {
   "cell_type": "code",
   "execution_count": null,
   "id": "da06b5df",
   "metadata": {},
   "outputs": [],
   "source": [
    "my_list[3]='miuul'"
   ]
  },
  {
   "cell_type": "code",
   "execution_count": null,
   "id": "81b90d8d",
   "metadata": {},
   "outputs": [],
   "source": [
    "my_list"
   ]
  },
  {
   "cell_type": "markdown",
   "id": "aa5f4ab6",
   "metadata": {},
   "source": [
    "### DICTIONARY"
   ]
  },
  {
   "cell_type": "code",
   "execution_count": null,
   "id": "eea84310",
   "metadata": {},
   "outputs": [],
   "source": [
    "# sisteme>>> kitap >> book\n",
    "# key = kitap\n",
    "# value  = book\n",
    "# {key:value}\n",
    "# {\"Age\":38}"
   ]
  },
  {
   "cell_type": "code",
   "execution_count": null,
   "id": "2d805d8d",
   "metadata": {},
   "outputs": [],
   "source": [
    "a = {\"Age\":38}"
   ]
  },
  {
   "cell_type": "code",
   "execution_count": null,
   "id": "1055dc5e",
   "metadata": {},
   "outputs": [],
   "source": [
    "a"
   ]
  },
  {
   "cell_type": "code",
   "execution_count": null,
   "id": "23dbd25d",
   "metadata": {},
   "outputs": [],
   "source": [
    "a.values()"
   ]
  },
  {
   "cell_type": "code",
   "execution_count": null,
   "id": "8f872ff3",
   "metadata": {},
   "outputs": [],
   "source": [
    "b = {\"Book\": \"Kitap\",\"Door\": \"Kapi\",\"Car\": \"Araba\",\"Pencil\": \"Kalem\"}"
   ]
  },
  {
   "cell_type": "code",
   "execution_count": null,
   "id": "c16c99bb",
   "metadata": {},
   "outputs": [],
   "source": [
    "#{\"Isim\": \"Atilla\",\"Soyisim\": \"Yrd\",\"Yas\": 33,\"Adres\": {\"Sokak\":\"Cicek\",\"Kapi\":14}}"
   ]
  },
  {
   "cell_type": "code",
   "execution_count": null,
   "id": "401c5658",
   "metadata": {},
   "outputs": [],
   "source": [
    "#{\"Age\": [\"mean\",\"count\",\"sum\"]}"
   ]
  },
  {
   "cell_type": "code",
   "execution_count": null,
   "id": "2129bab7",
   "metadata": {},
   "outputs": [],
   "source": [
    "my_dict = {\"Name\": \"Arda\",\"Age\": 40}"
   ]
  },
  {
   "cell_type": "code",
   "execution_count": null,
   "id": "7ed1e401",
   "metadata": {},
   "outputs": [],
   "source": [
    "my_dict "
   ]
  },
  {
   "cell_type": "code",
   "execution_count": null,
   "id": "9a6cbe01",
   "metadata": {},
   "outputs": [],
   "source": [
    "my_dict.keys()"
   ]
  },
  {
   "cell_type": "code",
   "execution_count": null,
   "id": "f403436e",
   "metadata": {},
   "outputs": [],
   "source": [
    "my_dict.values()"
   ]
  },
  {
   "cell_type": "markdown",
   "id": "0a3dc1f5",
   "metadata": {},
   "source": [
    "## SECTION 3 : LIST is THE BEST"
   ]
  },
  {
   "cell_type": "code",
   "execution_count": null,
   "id": "921b7c8f",
   "metadata": {},
   "outputs": [],
   "source": [
    "# LIST  >> Array >> Data Frame"
   ]
  },
  {
   "cell_type": "code",
   "execution_count": null,
   "id": "25f32306",
   "metadata": {},
   "outputs": [],
   "source": [
    "# LIST  >> Array >> Data Frame\n",
    "\n",
    "# [\"a\",1,[2,3],True]\n",
    "# [2,3,4,7,10] # lineer cebir \n",
    "# [2,3,4,7,10] # data kolonu (Ismi) \n",
    "\n",
    "\n"
   ]
  },
  {
   "cell_type": "code",
   "execution_count": null,
   "id": "19c444b5",
   "metadata": {},
   "outputs": [],
   "source": [
    "listem = [\"a\",1,[2,3],True,1,\"a\"]"
   ]
  },
  {
   "cell_type": "code",
   "execution_count": null,
   "id": "458d6e04",
   "metadata": {},
   "outputs": [],
   "source": [
    "listem[0] = \"b\"\n",
    "listem"
   ]
  },
  {
   "cell_type": "code",
   "execution_count": null,
   "id": "ff6cb92b",
   "metadata": {},
   "outputs": [],
   "source": [
    "yeniliste = [1,2,3,4,5]"
   ]
  },
  {
   "cell_type": "code",
   "execution_count": null,
   "id": "d832ad91",
   "metadata": {},
   "outputs": [],
   "source": [
    "for G in yeniliste:\n",
    "    print(G*2)"
   ]
  },
  {
   "cell_type": "code",
   "execution_count": null,
   "id": "89ce73f8",
   "metadata": {},
   "outputs": [],
   "source": [
    "for G in yeniliste:\n",
    "    print(G*G)"
   ]
  },
  {
   "cell_type": "code",
   "execution_count": null,
   "id": "3058dbd1",
   "metadata": {},
   "outputs": [],
   "source": [
    "for G in yeniliste:\n",
    "    print(G)\n",
    "    print(G*G)\n",
    "    print(\"--------\")"
   ]
  },
  {
   "cell_type": "code",
   "execution_count": null,
   "id": "6cc4405c",
   "metadata": {},
   "outputs": [],
   "source": [
    "viki = \"Albert Einstein (Almanca telaffuz Tüm zamanların en iyi fizikçilerinden kabul edilen Einstein, en çok görelilik teorisini geliştirmesiyle tanınır.\""
   ]
  },
  {
   "cell_type": "code",
   "execution_count": null,
   "id": "5a657650",
   "metadata": {},
   "outputs": [],
   "source": [
    "len(viki)"
   ]
  },
  {
   "cell_type": "code",
   "execution_count": null,
   "id": "5db9ceaf",
   "metadata": {},
   "outputs": [],
   "source": [
    "viki_list = viki.split()"
   ]
  },
  {
   "cell_type": "code",
   "execution_count": null,
   "id": "064b541e",
   "metadata": {},
   "outputs": [],
   "source": [
    "viki_list"
   ]
  },
  {
   "cell_type": "code",
   "execution_count": null,
   "id": "51c13707",
   "metadata": {},
   "outputs": [],
   "source": [
    "for B in viki_list: \n",
    "    print(B.count(\"a\"))"
   ]
  },
  {
   "cell_type": "code",
   "execution_count": null,
   "id": "a850735e",
   "metadata": {},
   "outputs": [],
   "source": [
    "for B in viki_list: \n",
    "    print(B.upper())"
   ]
  },
  {
   "cell_type": "code",
   "execution_count": null,
   "id": "9e80aab2",
   "metadata": {},
   "outputs": [],
   "source": [
    "for u in viki_list:\n",
    "    print(u, \", uzunlugu \", len(u))"
   ]
  },
  {
   "cell_type": "code",
   "execution_count": null,
   "id": "3ffd28f0",
   "metadata": {},
   "outputs": [],
   "source": [
    "for t in viki_list:\n",
    "    print(t.split(\"l\"))"
   ]
  },
  {
   "cell_type": "code",
   "execution_count": null,
   "id": "bec49867",
   "metadata": {},
   "outputs": [],
   "source": [
    "for u in viki_list:\n",
    "    print(u.upper(),\":\",len(u))"
   ]
  },
  {
   "cell_type": "code",
   "execution_count": null,
   "id": "4f26fc26",
   "metadata": {},
   "outputs": [],
   "source": [
    "viki_list[0]"
   ]
  },
  {
   "cell_type": "code",
   "execution_count": null,
   "id": "8c4ecff8",
   "metadata": {},
   "outputs": [],
   "source": [
    "viki_list[0].count(\"e\")"
   ]
  },
  {
   "cell_type": "code",
   "execution_count": null,
   "id": "3e8d2341",
   "metadata": {},
   "outputs": [],
   "source": [
    "viki.count(\"e\")"
   ]
  },
  {
   "cell_type": "code",
   "execution_count": null,
   "id": "744bc944",
   "metadata": {},
   "outputs": [],
   "source": [
    "viki"
   ]
  },
  {
   "cell_type": "markdown",
   "id": "cbe64e0e",
   "metadata": {},
   "source": [
    "## SECTION : FOR"
   ]
  },
  {
   "cell_type": "code",
   "execution_count": null,
   "id": "6edc816b",
   "metadata": {},
   "outputs": [],
   "source": [
    "# ben bir n'im.. listede gezerim. Her turda bir sayiyi tasirim"
   ]
  },
  {
   "cell_type": "code",
   "execution_count": null,
   "id": "f5c11300",
   "metadata": {},
   "outputs": [],
   "source": [
    "for num in [3,4,40]:\n",
    "    print(\"veri:\",num)\n",
    "    a = num*num\n",
    "    print(\"karesi :\",a)  \n",
    "    print(\"...\")"
   ]
  },
  {
   "cell_type": "code",
   "execution_count": null,
   "id": "cc514e68",
   "metadata": {},
   "outputs": [],
   "source": [
    "for num in [3,4,40]:\n",
    "    print(\"veri:\",num)\n",
    "    a = num*num\n",
    "    print(\"karesi :\",a)  \n",
    "\n",
    "print(\"...\")"
   ]
  },
  {
   "cell_type": "code",
   "execution_count": null,
   "id": "334c1552",
   "metadata": {
    "scrolled": true
   },
   "outputs": [],
   "source": [
    "for u in [3,4,40]:\n",
    "    print(u)"
   ]
  },
  {
   "cell_type": "code",
   "execution_count": null,
   "id": "612e562a",
   "metadata": {},
   "outputs": [],
   "source": [
    "for a in [3,4,40]:\n",
    "    print(a*a)"
   ]
  },
  {
   "cell_type": "code",
   "execution_count": null,
   "id": "214349da",
   "metadata": {},
   "outputs": [],
   "source": [
    "for u in [3,4,40]:\n",
    "    print(u)\n",
    "    a = u*u\n",
    "    print(a)\n",
    "    print(\"----\")"
   ]
  },
  {
   "cell_type": "code",
   "execution_count": null,
   "id": "8313554a",
   "metadata": {},
   "outputs": [],
   "source": [
    "for a in [3,4,40,14]:\n",
    "    a = a+1\n",
    "    print(a)"
   ]
  },
  {
   "cell_type": "code",
   "execution_count": null,
   "id": "bcf928de",
   "metadata": {},
   "outputs": [],
   "source": [
    "for u in [\"Age\",\"Gender\",\"Income\",\"City\"]:\n",
    "    a = u.upper() + \"_cat\"\n",
    "    print(a)"
   ]
  },
  {
   "cell_type": "code",
   "execution_count": null,
   "id": "f16451e7",
   "metadata": {},
   "outputs": [],
   "source": [
    "a"
   ]
  },
  {
   "cell_type": "code",
   "execution_count": null,
   "id": "f3ef0c7e",
   "metadata": {},
   "outputs": [],
   "source": [
    "a=0\n",
    "\n",
    "for d in [3,4,40]:\n",
    "    print(a)\n",
    "    a = a + d\n"
   ]
  },
  {
   "cell_type": "code",
   "execution_count": null,
   "id": "ee48f9e0",
   "metadata": {},
   "outputs": [],
   "source": [
    "a=0\n",
    "\n",
    "for d in [3,4,40]:\n",
    "  a = a + d\n",
    "\n",
    "print(a)"
   ]
  },
  {
   "cell_type": "code",
   "execution_count": null,
   "id": "8e0b53f7",
   "metadata": {},
   "outputs": [],
   "source": [
    "range(0, 10)"
   ]
  },
  {
   "cell_type": "code",
   "execution_count": null,
   "id": "dee104ec",
   "metadata": {},
   "outputs": [],
   "source": [
    "for u in range(0, 100,10):\n",
    "    print(u*u)"
   ]
  },
  {
   "cell_type": "code",
   "execution_count": null,
   "id": "74e86185",
   "metadata": {},
   "outputs": [],
   "source": [
    "a = \"miuul\"\n",
    "for u in range(0, 3):\n",
    "    a=a+a\n",
    "    print(a)"
   ]
  },
  {
   "cell_type": "code",
   "execution_count": null,
   "id": "7690aa66",
   "metadata": {},
   "outputs": [],
   "source": [
    "x = range(0, 10,2)\n",
    "\n",
    "for n in x:\n",
    "  print(n)"
   ]
  },
  {
   "cell_type": "code",
   "execution_count": null,
   "id": "21da169b",
   "metadata": {},
   "outputs": [],
   "source": [
    "x = range(0, 10,2)\n",
    "a=0\n",
    "for n in x:\n",
    "  print(\"su anda a:\", a)\n",
    "  print(\"su anda n:\", n)\n",
    "  print(\"---------\")\n",
    "  a =n+3\n",
    "  print(\"su anda a:\", a)\n"
   ]
  },
  {
   "cell_type": "code",
   "execution_count": null,
   "id": "ea74caa2",
   "metadata": {},
   "outputs": [],
   "source": [
    "x = range(0, 10,2)\n",
    "\n",
    "for n in x:\n",
    "  print(n)"
   ]
  },
  {
   "cell_type": "code",
   "execution_count": null,
   "id": "14b90e2a",
   "metadata": {},
   "outputs": [],
   "source": [
    "for u in range(0, 15,5):\n",
    "    print(u)"
   ]
  },
  {
   "cell_type": "code",
   "execution_count": null,
   "id": "d42aa39c",
   "metadata": {},
   "outputs": [],
   "source": [
    "listem = [100]\n",
    "listem"
   ]
  },
  {
   "cell_type": "code",
   "execution_count": null,
   "id": "560bee9f",
   "metadata": {},
   "outputs": [],
   "source": [
    "listem.insert(1,200)"
   ]
  },
  {
   "cell_type": "code",
   "execution_count": null,
   "id": "1595dc5e",
   "metadata": {},
   "outputs": [],
   "source": [
    "listem"
   ]
  },
  {
   "cell_type": "code",
   "execution_count": null,
   "id": "5105ff66",
   "metadata": {},
   "outputs": [],
   "source": [
    "listem = [100]\n",
    "\n",
    "\n",
    "for u in range(0, 100,5):\n",
    "    listem.insert(1,listem[0]+u)\n",
    "    print(listem)"
   ]
  },
  {
   "cell_type": "markdown",
   "id": "6bdc57c7",
   "metadata": {},
   "source": [
    "# def - Benim Fonksiyonum"
   ]
  },
  {
   "cell_type": "code",
   "execution_count": null,
   "id": "6aaa99de",
   "metadata": {},
   "outputs": [],
   "source": [
    "listem = \"miuul\""
   ]
  },
  {
   "cell_type": "code",
   "execution_count": null,
   "id": "9498b870",
   "metadata": {},
   "outputs": [],
   "source": [
    "listem.upper()"
   ]
  },
  {
   "cell_type": "code",
   "execution_count": null,
   "id": "09b2b66a",
   "metadata": {},
   "outputs": [],
   "source": [
    "for m in listem:\n",
    "    print(m.upper())"
   ]
  },
  {
   "cell_type": "code",
   "execution_count": null,
   "id": "9aab92a4",
   "metadata": {},
   "outputs": [],
   "source": [
    "def kendifonksiyonum(listem):\n",
    "    for m in listem:\n",
    "        print(m.upper())"
   ]
  },
  {
   "cell_type": "code",
   "execution_count": null,
   "id": "8b9cd229",
   "metadata": {},
   "outputs": [],
   "source": [
    "kendifonksiyonum(\"miuul\")"
   ]
  },
  {
   "cell_type": "code",
   "execution_count": null,
   "id": "c03deef7",
   "metadata": {},
   "outputs": [],
   "source": [
    "kendifonksiyonum(\"gizay\")"
   ]
  },
  {
   "cell_type": "code",
   "execution_count": null,
   "id": "33ca239b",
   "metadata": {},
   "outputs": [],
   "source": [
    "kendifonksiyonum(\"bootcamp\")"
   ]
  },
  {
   "cell_type": "code",
   "execution_count": null,
   "id": "2c5913ad",
   "metadata": {},
   "outputs": [],
   "source": [
    "a = 3\n",
    "b = 4\n",
    "a+b"
   ]
  },
  {
   "cell_type": "code",
   "execution_count": null,
   "id": "cac23043",
   "metadata": {},
   "outputs": [],
   "source": [
    "def halil():\n",
    "    a=3\n",
    "    b=4\n",
    "    print(a+b)"
   ]
  },
  {
   "cell_type": "code",
   "execution_count": null,
   "id": "158e0dd2",
   "metadata": {},
   "outputs": [],
   "source": [
    "halil()"
   ]
  },
  {
   "cell_type": "code",
   "execution_count": null,
   "id": "fac78b30",
   "metadata": {},
   "outputs": [],
   "source": [
    "def halil(a,b):\n",
    "    print(a+b)"
   ]
  },
  {
   "cell_type": "code",
   "execution_count": null,
   "id": "a8a9df1b",
   "metadata": {},
   "outputs": [],
   "source": [
    "halil(6,4)"
   ]
  },
  {
   "cell_type": "code",
   "execution_count": null,
   "id": "dab8391d",
   "metadata": {},
   "outputs": [],
   "source": [
    "halil(3,4)"
   ]
  },
  {
   "cell_type": "code",
   "execution_count": null,
   "id": "d9d449bc",
   "metadata": {},
   "outputs": [],
   "source": [
    "def toplama(a,b):\n",
    "    c=a+b\n",
    "    print(c)"
   ]
  },
  {
   "cell_type": "code",
   "execution_count": null,
   "id": "c4141b80",
   "metadata": {},
   "outputs": [],
   "source": [
    "toplama(2,4)"
   ]
  },
  {
   "cell_type": "code",
   "execution_count": null,
   "id": "70599470",
   "metadata": {},
   "outputs": [],
   "source": [
    "def umut(f,l,k):\n",
    "    x = range(f, l,k)\n",
    "    for n in x:\n",
    "        print(n) "
   ]
  },
  {
   "cell_type": "code",
   "execution_count": null,
   "id": "c4401b67",
   "metadata": {},
   "outputs": [],
   "source": [
    "# umut(3,100,4)"
   ]
  },
  {
   "cell_type": "code",
   "execution_count": null,
   "id": "4d629354",
   "metadata": {},
   "outputs": [],
   "source": [
    "def for_ogreniyorum(a,b,c): # def ile for_ogreniyorum adında bir fonksiyon tanımlıyorum. Fonksiyon 3 parametreli.\n",
    "    x = range(a, b,c) # 3 parametre rangre fonsiyonunun verileri için gerekli. range' i x e atıyorum\n",
    "    for n in x:       # for döngüsü ile x range'i içindeki bilgilerde dolaşıyorum ve \n",
    "        print(n*n)    # her bir bilginin karesini alıp yazdırıyorum"
   ]
  },
  {
   "cell_type": "code",
   "execution_count": null,
   "id": "c518bd9f",
   "metadata": {},
   "outputs": [],
   "source": [
    "for_ogreniyorum(2,40,4)"
   ]
  },
  {
   "cell_type": "code",
   "execution_count": null,
   "id": "9723a93e",
   "metadata": {},
   "outputs": [],
   "source": [
    "for_ogreniyorum(1,30,4)"
   ]
  },
  {
   "cell_type": "code",
   "execution_count": null,
   "id": "4aef3d8f",
   "metadata": {},
   "outputs": [],
   "source": [
    "for_ogreniyorum(4,54,3)"
   ]
  },
  {
   "cell_type": "code",
   "execution_count": null,
   "id": "c08feea0",
   "metadata": {},
   "outputs": [],
   "source": [
    "a =input()*2\n",
    "a"
   ]
  },
  {
   "cell_type": "code",
   "execution_count": null,
   "id": "c2e9e226",
   "metadata": {},
   "outputs": [],
   "source": [
    "def sum_function():\n",
    "    \n",
    "\n",
    "    print(\"The first number : \")\n",
    "    \n",
    "    num1 = int(input())\n",
    "    \n",
    "    print(\"The second number : \")\n",
    "    \n",
    "    num2 = int(input())\n",
    "    \n",
    "    print(\"Total: \",num1 + num2)\n",
    "    "
   ]
  },
  {
   "cell_type": "code",
   "execution_count": null,
   "id": "6fcc17ca",
   "metadata": {},
   "outputs": [],
   "source": [
    "sum_function()"
   ]
  },
  {
   "cell_type": "code",
   "execution_count": null,
   "id": "9f38bb6f",
   "metadata": {},
   "outputs": [],
   "source": [
    "#Liste>>>Array>>>DataFrame\n",
    "#Orj>>>Numpy>>>Pandas +++ Veri Manipulasyonu\n",
    "#Veri Gorsellestirme .. "
   ]
  },
  {
   "cell_type": "code",
   "execution_count": null,
   "id": "72ba593f",
   "metadata": {},
   "outputs": [],
   "source": [
    "a = [10,20]\n",
    "b = [22,23]"
   ]
  },
  {
   "cell_type": "code",
   "execution_count": null,
   "id": "5ce4c475",
   "metadata": {},
   "outputs": [],
   "source": [
    "c = a+b"
   ]
  },
  {
   "cell_type": "code",
   "execution_count": null,
   "id": "37b908f7",
   "metadata": {},
   "outputs": [],
   "source": [
    "c"
   ]
  },
  {
   "cell_type": "markdown",
   "id": "ae1e3a8c",
   "metadata": {},
   "source": [
    "## Ödev..\n",
    "\n",
    "* Notebooku baştan sona RUN edin\n",
    "\n",
    "* İstediğiniz 10 tane satıra o satırda olan işlemi comment olarak yazın\n",
    "\n",
    "* a = [10,20,30,40] ve b = [22,23,24,25] iki listeyi toplayıp c = [32,43,54,65] olușturun, for, append() kullanınız"
   ]
  },
  {
   "cell_type": "code",
   "execution_count": null,
   "id": "729baca5",
   "metadata": {},
   "outputs": [],
   "source": [
    "a = [10,20,30,40]\n",
    "b = [22,23,24,25]\n",
    "a+b"
   ]
  },
  {
   "cell_type": "markdown",
   "id": "8218ccad",
   "metadata": {},
   "source": [
    "# TEKRAR"
   ]
  },
  {
   "cell_type": "code",
   "execution_count": 454,
   "id": "815b1bde",
   "metadata": {},
   "outputs": [
    {
     "data": {
      "text/plain": [
       "6"
      ]
     },
     "execution_count": 454,
     "metadata": {},
     "output_type": "execute_result"
    }
   ],
   "source": [
    "# The first code\n",
    "\n",
    "3+3 "
   ]
  },
  {
   "cell_type": "code",
   "execution_count": 455,
   "id": "bbdefd7c",
   "metadata": {},
   "outputs": [
    {
     "data": {
      "text/plain": [
       "str"
      ]
     },
     "execution_count": 455,
     "metadata": {},
     "output_type": "execute_result"
    }
   ],
   "source": [
    "type(\"miuul\")"
   ]
  },
  {
   "cell_type": "code",
   "execution_count": 456,
   "id": "caae41fe",
   "metadata": {},
   "outputs": [
    {
     "data": {
      "text/plain": [
       "3"
      ]
     },
     "execution_count": 456,
     "metadata": {},
     "output_type": "execute_result"
    }
   ],
   "source": [
    "# Variable\n",
    "\n",
    "a=3\n",
    "\n",
    "a"
   ]
  },
  {
   "cell_type": "code",
   "execution_count": 457,
   "id": "b9599950",
   "metadata": {},
   "outputs": [],
   "source": [
    "b = \"DA Bootcamp\""
   ]
  },
  {
   "cell_type": "code",
   "execution_count": 458,
   "id": "f68b716b",
   "metadata": {},
   "outputs": [
    {
     "data": {
      "text/plain": [
       "'DA BOOTCAMP'"
      ]
     },
     "execution_count": 458,
     "metadata": {},
     "output_type": "execute_result"
    }
   ],
   "source": [
    "b.upper()"
   ]
  },
  {
   "cell_type": "code",
   "execution_count": 462,
   "id": "37df97a8",
   "metadata": {},
   "outputs": [
    {
     "data": {
      "text/plain": [
       "'da bootcamp'"
      ]
     },
     "execution_count": 462,
     "metadata": {},
     "output_type": "execute_result"
    }
   ],
   "source": [
    "b.upper().lower().count(\"a\")"
   ]
  },
  {
   "cell_type": "code",
   "execution_count": 463,
   "id": "c2b0cd17",
   "metadata": {},
   "outputs": [
    {
     "data": {
      "text/plain": [
       "True"
      ]
     },
     "execution_count": 463,
     "metadata": {},
     "output_type": "execute_result"
    }
   ],
   "source": [
    "True"
   ]
  },
  {
   "cell_type": "code",
   "execution_count": 464,
   "id": "a22ace7a",
   "metadata": {},
   "outputs": [
    {
     "data": {
      "text/plain": [
       "2"
      ]
     },
     "execution_count": 464,
     "metadata": {},
     "output_type": "execute_result"
    }
   ],
   "source": [
    "True + True"
   ]
  },
  {
   "cell_type": "code",
   "execution_count": 465,
   "id": "90699cfd",
   "metadata": {},
   "outputs": [
    {
     "data": {
      "text/plain": [
       "1"
      ]
     },
     "execution_count": 465,
     "metadata": {},
     "output_type": "execute_result"
    }
   ],
   "source": [
    "True+False"
   ]
  },
  {
   "cell_type": "markdown",
   "id": "8187af0b",
   "metadata": {},
   "source": [
    "### LIST"
   ]
  },
  {
   "cell_type": "code",
   "execution_count": 466,
   "id": "5dab482b",
   "metadata": {},
   "outputs": [],
   "source": [
    "# LISTE >> ARRAY >> DATA FRAME\n",
    "\n",
    "\n",
    "a =[3,5]"
   ]
  },
  {
   "cell_type": "code",
   "execution_count": 467,
   "id": "7366dfda",
   "metadata": {},
   "outputs": [
    {
     "data": {
      "text/plain": [
       "[3, 5]"
      ]
     },
     "execution_count": 467,
     "metadata": {},
     "output_type": "execute_result"
    }
   ],
   "source": [
    "a"
   ]
  },
  {
   "cell_type": "code",
   "execution_count": 471,
   "id": "ea220d89",
   "metadata": {},
   "outputs": [],
   "source": [
    "listem = [2,3,11,\"1\",\"q\",True,[2,3]]"
   ]
  },
  {
   "cell_type": "code",
   "execution_count": 472,
   "id": "43514bb7",
   "metadata": {
    "scrolled": true
   },
   "outputs": [
    {
     "data": {
      "text/plain": [
       "[2, 3, 11, '1', 'q', True, [2, 3]]"
      ]
     },
     "execution_count": 472,
     "metadata": {},
     "output_type": "execute_result"
    }
   ],
   "source": [
    "listem"
   ]
  },
  {
   "cell_type": "code",
   "execution_count": 473,
   "id": "084a813f",
   "metadata": {},
   "outputs": [
    {
     "data": {
      "text/plain": [
       "True"
      ]
     },
     "execution_count": 473,
     "metadata": {},
     "output_type": "execute_result"
    }
   ],
   "source": [
    "listem[5]"
   ]
  },
  {
   "cell_type": "code",
   "execution_count": 474,
   "id": "f390f69c",
   "metadata": {
    "scrolled": true
   },
   "outputs": [
    {
     "data": {
      "text/plain": [
       "2"
      ]
     },
     "execution_count": 474,
     "metadata": {},
     "output_type": "execute_result"
    }
   ],
   "source": [
    "listem[6][0]"
   ]
  },
  {
   "cell_type": "code",
   "execution_count": 475,
   "id": "336325e1",
   "metadata": {},
   "outputs": [],
   "source": [
    "listem.append(3)"
   ]
  },
  {
   "cell_type": "code",
   "execution_count": 476,
   "id": "ea4c6bc9",
   "metadata": {},
   "outputs": [
    {
     "data": {
      "text/plain": [
       "[2, 3, 11, '1', 'q', True, [2, 3], 3]"
      ]
     },
     "execution_count": 476,
     "metadata": {},
     "output_type": "execute_result"
    }
   ],
   "source": [
    "listem"
   ]
  },
  {
   "cell_type": "code",
   "execution_count": 477,
   "id": "4ba7452a",
   "metadata": {},
   "outputs": [],
   "source": [
    "listem.insert(1,1)"
   ]
  },
  {
   "cell_type": "code",
   "execution_count": 478,
   "id": "508ce55b",
   "metadata": {},
   "outputs": [
    {
     "data": {
      "text/plain": [
       "[2, 1, 3, 11, '1', 'q', True, [2, 3], 3]"
      ]
     },
     "execution_count": 478,
     "metadata": {},
     "output_type": "execute_result"
    }
   ],
   "source": [
    "listem"
   ]
  },
  {
   "cell_type": "code",
   "execution_count": 479,
   "id": "5d1fb321",
   "metadata": {},
   "outputs": [
    {
     "data": {
      "text/plain": [
       "1"
      ]
     },
     "execution_count": 479,
     "metadata": {},
     "output_type": "execute_result"
    }
   ],
   "source": [
    "listem.index(1)"
   ]
  },
  {
   "cell_type": "code",
   "execution_count": 480,
   "id": "28528153",
   "metadata": {},
   "outputs": [
    {
     "data": {
      "text/plain": [
       "3"
      ]
     },
     "execution_count": 480,
     "metadata": {},
     "output_type": "execute_result"
    }
   ],
   "source": [
    "listem[-1]"
   ]
  },
  {
   "cell_type": "code",
   "execution_count": 481,
   "id": "e6bcf41f",
   "metadata": {},
   "outputs": [
    {
     "data": {
      "text/plain": [
       "['1', 'q']"
      ]
     },
     "execution_count": 481,
     "metadata": {},
     "output_type": "execute_result"
    }
   ],
   "source": [
    "#[0,1,2,3,4,5]\n",
    "\n",
    "listem[4:6]"
   ]
  },
  {
   "cell_type": "code",
   "execution_count": 482,
   "id": "42c36720",
   "metadata": {},
   "outputs": [
    {
     "data": {
      "text/plain": [
       "[[2, 1, 2, 10, 11], [2, 1, 2, 10, 11], [2, 1, 2, 10, 11]]"
      ]
     },
     "execution_count": 482,
     "metadata": {},
     "output_type": "execute_result"
    }
   ],
   "source": [
    "q= [[2,1,2,10,11],[2,1,2,10,11],[2,1,2,10,11]]\n",
    "q"
   ]
  },
  {
   "cell_type": "code",
   "execution_count": 483,
   "id": "9c068845",
   "metadata": {},
   "outputs": [
    {
     "data": {
      "text/plain": [
       "11"
      ]
     },
     "execution_count": 483,
     "metadata": {},
     "output_type": "execute_result"
    }
   ],
   "source": [
    "q[2][-1]"
   ]
  },
  {
   "cell_type": "code",
   "execution_count": null,
   "id": "b5230473",
   "metadata": {},
   "outputs": [],
   "source": [
    "#listem = [3,5,8,\"Python\",True,10]\n",
    "#array = [3,5,8,3,10]\n",
    "#array = [2,1,2,10,11]\n",
    "\n",
    "[[2,1,2,10,11],\n",
    " [2,1,2,10,11],\n",
    " [2,1,2,10,11]]\n",
    "\n",
    "\n",
    "\n",
    "#Liste>>>Array>>>DataFrame\n",
    "#Orj>>>Numpy>>>Pandas +++ Veri Manipulasyonu\n",
    "#Veri Gorsellestirme .. \n"
   ]
  },
  {
   "cell_type": "code",
   "execution_count": null,
   "id": "c1c4ba47",
   "metadata": {},
   "outputs": [],
   "source": [
    "my_list = [3,3,4, 'a',True]\n",
    "\n",
    "#[3,3,4, 'a',True]\n",
    "#0,1,2,3,4"
   ]
  },
  {
   "cell_type": "code",
   "execution_count": null,
   "id": "4c14b415",
   "metadata": {},
   "outputs": [],
   "source": [
    "my_list"
   ]
  },
  {
   "cell_type": "code",
   "execution_count": null,
   "id": "20c31551",
   "metadata": {},
   "outputs": [],
   "source": [
    "len(my_list)"
   ]
  },
  {
   "cell_type": "markdown",
   "id": "a1b74b6a",
   "metadata": {},
   "source": [
    "### DICTIONARY"
   ]
  },
  {
   "cell_type": "code",
   "execution_count": null,
   "id": "3dd0f1bf",
   "metadata": {},
   "outputs": [],
   "source": [
    "# sisteme>>> kitap >> book\n",
    "# key = kitap\n",
    "# value  = book\n",
    "# {key:value}\n",
    "# {\"Age\":38}"
   ]
  },
  {
   "cell_type": "code",
   "execution_count": 485,
   "id": "5a63ee14",
   "metadata": {},
   "outputs": [],
   "source": [
    "my_dict = {\"Name\": \"Arda\",\"Age\": 40}"
   ]
  },
  {
   "cell_type": "code",
   "execution_count": null,
   "id": "fa1e7fd6",
   "metadata": {},
   "outputs": [],
   "source": [
    "my_dict "
   ]
  },
  {
   "cell_type": "code",
   "execution_count": 486,
   "id": "10daf852",
   "metadata": {},
   "outputs": [
    {
     "data": {
      "text/plain": [
       "dict_keys(['Name', 'Age'])"
      ]
     },
     "execution_count": 486,
     "metadata": {},
     "output_type": "execute_result"
    }
   ],
   "source": [
    "my_dict.keys()"
   ]
  },
  {
   "cell_type": "code",
   "execution_count": 487,
   "id": "95a26c96",
   "metadata": {},
   "outputs": [
    {
     "data": {
      "text/plain": [
       "dict_values(['Arda', 40])"
      ]
     },
     "execution_count": 487,
     "metadata": {},
     "output_type": "execute_result"
    }
   ],
   "source": [
    "my_dict.values()"
   ]
  },
  {
   "cell_type": "markdown",
   "id": "986f2844",
   "metadata": {},
   "source": [
    "## SECTION 3 : LIST is THE BEST"
   ]
  },
  {
   "cell_type": "code",
   "execution_count": null,
   "id": "625474fc",
   "metadata": {},
   "outputs": [],
   "source": [
    "# LIST  >> Array >> Data Frame"
   ]
  },
  {
   "cell_type": "code",
   "execution_count": null,
   "id": "76d58d09",
   "metadata": {},
   "outputs": [],
   "source": [
    "# LIST  >> Array >> Data Frame\n",
    "\n",
    "# [\"a\",1,[2,3],True]\n",
    "# [2,3,4,7,10] # lineer cebir \n",
    "# [2,3,4,7,10] # data kolonu (Ismi) \n",
    "\n",
    "\n"
   ]
  },
  {
   "cell_type": "code",
   "execution_count": 488,
   "id": "fd9d1ead",
   "metadata": {},
   "outputs": [],
   "source": [
    "listem = [\"a\",1,[2,3],True,1,\"a\"]"
   ]
  },
  {
   "cell_type": "code",
   "execution_count": 489,
   "id": "0ff904b5",
   "metadata": {},
   "outputs": [],
   "source": [
    "viki = \"Albert Einstein (Almanca telaffuz Tüm zamanların en iyi fizikçilerinden kabul edilen Einstein, en çok görelilik teorisini geliştirmesiyle tanınır.\""
   ]
  },
  {
   "cell_type": "code",
   "execution_count": 490,
   "id": "25fa3d5e",
   "metadata": {},
   "outputs": [
    {
     "data": {
      "text/plain": [
       "146"
      ]
     },
     "execution_count": 490,
     "metadata": {},
     "output_type": "execute_result"
    }
   ],
   "source": [
    "len(viki)"
   ]
  },
  {
   "cell_type": "code",
   "execution_count": 491,
   "id": "b297baf7",
   "metadata": {},
   "outputs": [],
   "source": [
    "viki_list = viki.split()"
   ]
  },
  {
   "cell_type": "code",
   "execution_count": 492,
   "id": "94cd8e38",
   "metadata": {
    "scrolled": true
   },
   "outputs": [
    {
     "data": {
      "text/plain": [
       "['Albert',\n",
       " 'Einstein',\n",
       " '(Almanca',\n",
       " 'telaffuz',\n",
       " 'Tüm',\n",
       " 'zamanların',\n",
       " 'en',\n",
       " 'iyi',\n",
       " 'fizikçilerinden',\n",
       " 'kabul',\n",
       " 'edilen',\n",
       " 'Einstein,',\n",
       " 'en',\n",
       " 'çok',\n",
       " 'görelilik',\n",
       " 'teorisini',\n",
       " 'geliştirmesiyle',\n",
       " 'tanınır.']"
      ]
     },
     "execution_count": 492,
     "metadata": {},
     "output_type": "execute_result"
    }
   ],
   "source": [
    "viki_list"
   ]
  },
  {
   "cell_type": "code",
   "execution_count": 493,
   "id": "a9394429",
   "metadata": {
    "scrolled": true
   },
   "outputs": [
    {
     "name": "stdout",
     "output_type": "stream",
     "text": [
      "0\n",
      "0\n",
      "2\n",
      "1\n",
      "0\n",
      "3\n",
      "0\n",
      "0\n",
      "0\n",
      "1\n",
      "0\n",
      "0\n",
      "0\n",
      "0\n",
      "0\n",
      "0\n",
      "0\n",
      "1\n"
     ]
    }
   ],
   "source": [
    "for B in viki_list: \n",
    "    print(B.count(\"a\"))"
   ]
  },
  {
   "cell_type": "code",
   "execution_count": 494,
   "id": "e954602e",
   "metadata": {},
   "outputs": [],
   "source": [
    "yeniliste = [1,2,3,4,5]"
   ]
  },
  {
   "cell_type": "code",
   "execution_count": 495,
   "id": "6f4398a5",
   "metadata": {},
   "outputs": [
    {
     "name": "stdout",
     "output_type": "stream",
     "text": [
      "2\n",
      "4\n",
      "6\n",
      "8\n",
      "10\n"
     ]
    }
   ],
   "source": [
    "for G in yeniliste:\n",
    "    print(G*2)"
   ]
  },
  {
   "cell_type": "code",
   "execution_count": 496,
   "id": "ca507057",
   "metadata": {},
   "outputs": [
    {
     "name": "stdout",
     "output_type": "stream",
     "text": [
      "1\n",
      "4\n",
      "9\n",
      "16\n",
      "25\n"
     ]
    }
   ],
   "source": [
    "for G in yeniliste:\n",
    "    print(G*G)"
   ]
  },
  {
   "cell_type": "code",
   "execution_count": 497,
   "id": "782e5735",
   "metadata": {},
   "outputs": [
    {
     "name": "stdout",
     "output_type": "stream",
     "text": [
      "1\n",
      "1\n",
      "--------\n",
      "2\n",
      "4\n",
      "--------\n",
      "3\n",
      "9\n",
      "--------\n",
      "4\n",
      "16\n",
      "--------\n",
      "5\n",
      "25\n",
      "--------\n"
     ]
    }
   ],
   "source": [
    "for G in yeniliste:\n",
    "    print(G)\n",
    "    print(G*G)\n",
    "    print(\"--------\")"
   ]
  },
  {
   "cell_type": "markdown",
   "id": "0ac5bfcd",
   "metadata": {},
   "source": [
    "## SECTION : FOR"
   ]
  },
  {
   "cell_type": "code",
   "execution_count": 498,
   "id": "5302bdb6",
   "metadata": {},
   "outputs": [
    {
     "name": "stdout",
     "output_type": "stream",
     "text": [
      "10\n",
      "11\n",
      "47\n"
     ]
    }
   ],
   "source": [
    "for y in [3,4,40]:\n",
    "    c=y+7\n",
    "    print(c)"
   ]
  },
  {
   "cell_type": "code",
   "execution_count": 499,
   "id": "8340ca01",
   "metadata": {
    "scrolled": true
   },
   "outputs": [
    {
     "name": "stdout",
     "output_type": "stream",
     "text": [
      "3\n",
      "4\n",
      "40\n"
     ]
    }
   ],
   "source": [
    "for u in [3,4,40]:\n",
    "    print(u)"
   ]
  },
  {
   "cell_type": "code",
   "execution_count": 500,
   "id": "f2ceabbc",
   "metadata": {},
   "outputs": [
    {
     "name": "stdout",
     "output_type": "stream",
     "text": [
      "9\n",
      "16\n",
      "1600\n"
     ]
    }
   ],
   "source": [
    "for a in [3,4,40]:\n",
    "    print(a*a)"
   ]
  },
  {
   "cell_type": "code",
   "execution_count": 501,
   "id": "f89f6a80",
   "metadata": {},
   "outputs": [
    {
     "name": "stdout",
     "output_type": "stream",
     "text": [
      "veri: 3\n",
      "karesi : 9\n",
      "...\n",
      "veri: 4\n",
      "karesi : 16\n",
      "...\n",
      "veri: 40\n",
      "karesi : 1600\n",
      "...\n"
     ]
    }
   ],
   "source": [
    "for num in [3,4,40]:\n",
    "    print(\"veri:\",num)\n",
    "    a = num*num\n",
    "    print(\"karesi :\",a)  \n",
    "    print(\"...\")"
   ]
  },
  {
   "cell_type": "code",
   "execution_count": 502,
   "id": "ce7fb918",
   "metadata": {},
   "outputs": [
    {
     "name": "stdout",
     "output_type": "stream",
     "text": [
      "veri: 3\n",
      "karesi : 9\n",
      "veri: 4\n",
      "karesi : 16\n",
      "veri: 40\n",
      "karesi : 1600\n",
      "...\n"
     ]
    }
   ],
   "source": [
    "for num in [3,4,40]:\n",
    "    print(\"veri:\",num)\n",
    "    a = num*num\n",
    "    print(\"karesi :\",a)  \n",
    "\n",
    "print(\"...\")"
   ]
  },
  {
   "cell_type": "code",
   "execution_count": 505,
   "id": "c899f3ef",
   "metadata": {},
   "outputs": [
    {
     "name": "stdout",
     "output_type": "stream",
     "text": [
      "0\n",
      "101\n",
      "202\n",
      "303\n",
      "404\n",
      "505\n",
      "606\n",
      "707\n",
      "808\n",
      "909\n"
     ]
    }
   ],
   "source": [
    "for u in range(0, 1000,101):\n",
    "    print(u)"
   ]
  },
  {
   "cell_type": "code",
   "execution_count": 506,
   "id": "edd34198",
   "metadata": {},
   "outputs": [
    {
     "name": "stdout",
     "output_type": "stream",
     "text": [
      "miuulmiuul\n",
      "miuulmiuulmiuulmiuul\n",
      "miuulmiuulmiuulmiuulmiuulmiuulmiuulmiuul\n"
     ]
    }
   ],
   "source": [
    "a = \"miuul\"\n",
    "for u in range(0, 3):\n",
    "    a=a+a\n",
    "    print(a)"
   ]
  },
  {
   "cell_type": "code",
   "execution_count": 507,
   "id": "178f7e11",
   "metadata": {},
   "outputs": [
    {
     "name": "stdout",
     "output_type": "stream",
     "text": [
      "0\n",
      "2\n",
      "4\n",
      "6\n",
      "8\n"
     ]
    }
   ],
   "source": [
    "x = range(0, 10,2)\n",
    "\n",
    "for n in x:\n",
    "  print(n)"
   ]
  },
  {
   "cell_type": "code",
   "execution_count": 508,
   "id": "a9370c48",
   "metadata": {},
   "outputs": [
    {
     "data": {
      "text/plain": [
       "[100]"
      ]
     },
     "execution_count": 508,
     "metadata": {},
     "output_type": "execute_result"
    }
   ],
   "source": [
    "listem = [100]\n",
    "listem"
   ]
  },
  {
   "cell_type": "code",
   "execution_count": 509,
   "id": "88ddd7fe",
   "metadata": {},
   "outputs": [],
   "source": [
    "listem.insert(1,200)"
   ]
  },
  {
   "cell_type": "code",
   "execution_count": 510,
   "id": "e7d57da2",
   "metadata": {},
   "outputs": [
    {
     "data": {
      "text/plain": [
       "[100, 200]"
      ]
     },
     "execution_count": 510,
     "metadata": {},
     "output_type": "execute_result"
    }
   ],
   "source": [
    "listem"
   ]
  },
  {
   "cell_type": "code",
   "execution_count": 511,
   "id": "b16f11a4",
   "metadata": {},
   "outputs": [
    {
     "name": "stdout",
     "output_type": "stream",
     "text": [
      "[100, 100]\n",
      "[100, 105, 100]\n",
      "[100, 110, 105, 100]\n",
      "[100, 115, 110, 105, 100]\n",
      "[100, 120, 115, 110, 105, 100]\n",
      "[100, 125, 120, 115, 110, 105, 100]\n",
      "[100, 130, 125, 120, 115, 110, 105, 100]\n",
      "[100, 135, 130, 125, 120, 115, 110, 105, 100]\n",
      "[100, 140, 135, 130, 125, 120, 115, 110, 105, 100]\n",
      "[100, 145, 140, 135, 130, 125, 120, 115, 110, 105, 100]\n",
      "[100, 150, 145, 140, 135, 130, 125, 120, 115, 110, 105, 100]\n",
      "[100, 155, 150, 145, 140, 135, 130, 125, 120, 115, 110, 105, 100]\n",
      "[100, 160, 155, 150, 145, 140, 135, 130, 125, 120, 115, 110, 105, 100]\n",
      "[100, 165, 160, 155, 150, 145, 140, 135, 130, 125, 120, 115, 110, 105, 100]\n",
      "[100, 170, 165, 160, 155, 150, 145, 140, 135, 130, 125, 120, 115, 110, 105, 100]\n",
      "[100, 175, 170, 165, 160, 155, 150, 145, 140, 135, 130, 125, 120, 115, 110, 105, 100]\n",
      "[100, 180, 175, 170, 165, 160, 155, 150, 145, 140, 135, 130, 125, 120, 115, 110, 105, 100]\n",
      "[100, 185, 180, 175, 170, 165, 160, 155, 150, 145, 140, 135, 130, 125, 120, 115, 110, 105, 100]\n",
      "[100, 190, 185, 180, 175, 170, 165, 160, 155, 150, 145, 140, 135, 130, 125, 120, 115, 110, 105, 100]\n",
      "[100, 195, 190, 185, 180, 175, 170, 165, 160, 155, 150, 145, 140, 135, 130, 125, 120, 115, 110, 105, 100]\n"
     ]
    }
   ],
   "source": [
    "listem = [100]\n",
    "\n",
    "\n",
    "for u in range(0, 100,5):\n",
    "    listem.insert(1,listem[0]+u)\n",
    "    print(listem)"
   ]
  },
  {
   "cell_type": "code",
   "execution_count": 513,
   "id": "1da71e0a",
   "metadata": {},
   "outputs": [
    {
     "name": "stdout",
     "output_type": "stream",
     "text": [
      "[100, 'ati']\n",
      "[100, 'ati', 'ati']\n",
      "[100, 'ati', 'ati', 'ati']\n",
      "[100, 'ati', 'ati', 'ati', 'ati']\n",
      "[100, 'ati', 'ati', 'ati', 'ati', 'ati']\n",
      "[100, 'ati', 'ati', 'ati', 'ati', 'ati', 'ati']\n",
      "[100, 'ati', 'ati', 'ati', 'ati', 'ati', 'ati', 'ati']\n",
      "[100, 'ati', 'ati', 'ati', 'ati', 'ati', 'ati', 'ati', 'ati']\n",
      "[100, 'ati', 'ati', 'ati', 'ati', 'ati', 'ati', 'ati', 'ati', 'ati']\n",
      "[100, 'ati', 'ati', 'ati', 'ati', 'ati', 'ati', 'ati', 'ati', 'ati', 'ati']\n",
      "[100, 'ati', 'ati', 'ati', 'ati', 'ati', 'ati', 'ati', 'ati', 'ati', 'ati', 'ati']\n",
      "[100, 'ati', 'ati', 'ati', 'ati', 'ati', 'ati', 'ati', 'ati', 'ati', 'ati', 'ati', 'ati']\n"
     ]
    }
   ],
   "source": [
    "listem = [100]\n",
    "\n",
    "\n",
    "for u in range(0, 60,5):\n",
    "    listem.insert(1,\"ati\")\n",
    "    print(listem)"
   ]
  },
  {
   "cell_type": "markdown",
   "id": "ba6ea028",
   "metadata": {},
   "source": [
    "# def - Benim Fonksiyonum"
   ]
  },
  {
   "cell_type": "code",
   "execution_count": 514,
   "id": "4b26b1e6",
   "metadata": {},
   "outputs": [],
   "source": [
    "listem = \"miuul\""
   ]
  },
  {
   "cell_type": "code",
   "execution_count": 515,
   "id": "5871b67b",
   "metadata": {},
   "outputs": [
    {
     "data": {
      "text/plain": [
       "'MIUUL'"
      ]
     },
     "execution_count": 515,
     "metadata": {},
     "output_type": "execute_result"
    }
   ],
   "source": [
    "listem.upper()"
   ]
  },
  {
   "cell_type": "code",
   "execution_count": 516,
   "id": "484951eb",
   "metadata": {},
   "outputs": [
    {
     "name": "stdout",
     "output_type": "stream",
     "text": [
      "M\n",
      "I\n",
      "U\n",
      "U\n",
      "L\n"
     ]
    }
   ],
   "source": [
    "for m in listem:\n",
    "    print(m.upper())"
   ]
  },
  {
   "cell_type": "code",
   "execution_count": 517,
   "id": "001c0d85",
   "metadata": {},
   "outputs": [],
   "source": [
    "def kendifonksiyonum(listem):\n",
    "    for m in listem:\n",
    "        print(m.upper())"
   ]
  },
  {
   "cell_type": "code",
   "execution_count": 518,
   "id": "ed3d9817",
   "metadata": {},
   "outputs": [
    {
     "name": "stdout",
     "output_type": "stream",
     "text": [
      "M\n",
      "I\n",
      "U\n",
      "U\n",
      "L\n"
     ]
    }
   ],
   "source": [
    "kendifonksiyonum(\"miuul\")"
   ]
  },
  {
   "cell_type": "code",
   "execution_count": 519,
   "id": "75b116b1",
   "metadata": {},
   "outputs": [
    {
     "name": "stdout",
     "output_type": "stream",
     "text": [
      "B\n",
      "O\n",
      "O\n",
      "T\n",
      "C\n",
      "A\n",
      "M\n",
      "P\n"
     ]
    }
   ],
   "source": [
    "kendifonksiyonum(\"bootcamp\")"
   ]
  },
  {
   "cell_type": "code",
   "execution_count": 520,
   "id": "076a38a8",
   "metadata": {},
   "outputs": [],
   "source": [
    "def miuul(f,l,k):\n",
    "    x = range(f, l,k)\n",
    "    for n in x:\n",
    "        print(n) "
   ]
  },
  {
   "cell_type": "code",
   "execution_count": 521,
   "id": "0ed02fa0",
   "metadata": {},
   "outputs": [
    {
     "name": "stdout",
     "output_type": "stream",
     "text": [
      "3\n",
      "7\n",
      "11\n",
      "15\n",
      "19\n",
      "23\n",
      "27\n",
      "31\n",
      "35\n",
      "39\n",
      "43\n",
      "47\n",
      "51\n",
      "55\n",
      "59\n",
      "63\n",
      "67\n",
      "71\n",
      "75\n",
      "79\n",
      "83\n",
      "87\n",
      "91\n",
      "95\n",
      "99\n"
     ]
    }
   ],
   "source": [
    "miuul(3,100,4)"
   ]
  },
  {
   "cell_type": "markdown",
   "id": "ace4e168",
   "metadata": {},
   "source": [
    "# Kütüphane"
   ]
  },
  {
   "cell_type": "markdown",
   "id": "f6845721",
   "metadata": {},
   "source": [
    "# MASA >> BUZDOLABI >> BAKKAL"
   ]
  },
  {
   "cell_type": "code",
   "execution_count": null,
   "id": "553453a9",
   "metadata": {},
   "outputs": [],
   "source": [
    "# len('miuul')"
   ]
  },
  {
   "cell_type": "code",
   "execution_count": 524,
   "id": "e7a6b47e",
   "metadata": {},
   "outputs": [],
   "source": [
    "import numpy as np"
   ]
  },
  {
   "cell_type": "code",
   "execution_count": null,
   "id": "62b9c7f9",
   "metadata": {},
   "outputs": [],
   "source": [
    "#!pip install beautifulsoup4"
   ]
  },
  {
   "cell_type": "markdown",
   "id": "9042c9a6",
   "metadata": {},
   "source": [
    "## SECTION : DATA MANUPLATION - NUMPY\n",
    "\n",
    "### Python programlama dilinde matematik, cebir gibi bilimsel hesaplamalar için kullanılan bir kütüphanedir."
   ]
  },
  {
   "cell_type": "code",
   "execution_count": null,
   "id": "554eb66b",
   "metadata": {},
   "outputs": [],
   "source": [
    "#liste>>array>>data frame"
   ]
  },
  {
   "cell_type": "code",
   "execution_count": 547,
   "id": "ce34ea0e",
   "metadata": {},
   "outputs": [],
   "source": [
    "a = [10,20,30,20]\n",
    "b = [22,23,24,25]\n",
    "\n",
    "#topla = [32,43,54,65]\n"
   ]
  },
  {
   "cell_type": "code",
   "execution_count": 531,
   "id": "cebb3c4a",
   "metadata": {},
   "outputs": [
    {
     "data": {
      "text/plain": [
       "[10, 20, 30, 20, 22, 23, 24, 25]"
      ]
     },
     "execution_count": 531,
     "metadata": {},
     "output_type": "execute_result"
    }
   ],
   "source": [
    "a+b"
   ]
  },
  {
   "cell_type": "code",
   "execution_count": 527,
   "id": "aa616f20",
   "metadata": {},
   "outputs": [
    {
     "data": {
      "text/plain": [
       "4"
      ]
     },
     "execution_count": 527,
     "metadata": {},
     "output_type": "execute_result"
    }
   ],
   "source": [
    "len(a)"
   ]
  },
  {
   "cell_type": "code",
   "execution_count": 528,
   "id": "e309055d",
   "metadata": {},
   "outputs": [
    {
     "data": {
      "text/plain": [
       "22"
      ]
     },
     "execution_count": 528,
     "metadata": {},
     "output_type": "execute_result"
    }
   ],
   "source": [
    "b[0]"
   ]
  },
  {
   "cell_type": "code",
   "execution_count": 529,
   "id": "4cca88eb",
   "metadata": {},
   "outputs": [],
   "source": [
    "topla =[]"
   ]
  },
  {
   "cell_type": "code",
   "execution_count": 530,
   "id": "daca025e",
   "metadata": {},
   "outputs": [
    {
     "data": {
      "text/plain": [
       "32"
      ]
     },
     "execution_count": 530,
     "metadata": {},
     "output_type": "execute_result"
    }
   ],
   "source": [
    "a[0]+b[0]"
   ]
  },
  {
   "cell_type": "code",
   "execution_count": 532,
   "id": "014e4a0d",
   "metadata": {},
   "outputs": [],
   "source": [
    "topla.append(a[0]+b[0])"
   ]
  },
  {
   "cell_type": "code",
   "execution_count": 533,
   "id": "4fc7cf57",
   "metadata": {},
   "outputs": [
    {
     "data": {
      "text/plain": [
       "[32]"
      ]
     },
     "execution_count": 533,
     "metadata": {},
     "output_type": "execute_result"
    }
   ],
   "source": [
    "topla"
   ]
  },
  {
   "cell_type": "code",
   "execution_count": 536,
   "id": "dd2dd179",
   "metadata": {},
   "outputs": [
    {
     "data": {
      "text/plain": [
       "[32, 43, 54, 45]"
      ]
     },
     "execution_count": 536,
     "metadata": {},
     "output_type": "execute_result"
    }
   ],
   "source": [
    "topla =[]\n",
    "topla.append(a[0]+b[0])\n",
    "topla.append(a[1]+b[1])\n",
    "topla.append(a[2]+b[2])\n",
    "topla.append(a[3]+b[3])\n",
    "topla"
   ]
  },
  {
   "cell_type": "code",
   "execution_count": 537,
   "id": "b4bcaf25",
   "metadata": {},
   "outputs": [
    {
     "data": {
      "text/plain": [
       "[32, 43, 54, 45]"
      ]
     },
     "execution_count": 537,
     "metadata": {},
     "output_type": "execute_result"
    }
   ],
   "source": [
    "topla = []\n",
    "\n",
    "for u in range(0,len(a)):    \n",
    "    topla.append(a[u]+b[u])\n",
    "    \n",
    "topla    "
   ]
  },
  {
   "cell_type": "code",
   "execution_count": null,
   "id": "a75d2599",
   "metadata": {},
   "outputs": [],
   "source": [
    "a+b"
   ]
  },
  {
   "cell_type": "code",
   "execution_count": null,
   "id": "a145c93d",
   "metadata": {},
   "outputs": [],
   "source": [
    "# Kapsayici, sirali, degistitilebilir"
   ]
  },
  {
   "cell_type": "code",
   "execution_count": 538,
   "id": "fea4e221",
   "metadata": {},
   "outputs": [],
   "source": [
    "a = [10,20,30,\"ah\"]\n",
    "b = [22,23,24,25]"
   ]
  },
  {
   "cell_type": "code",
   "execution_count": 539,
   "id": "d0cd2416",
   "metadata": {},
   "outputs": [
    {
     "data": {
      "text/plain": [
       "[10, 20, 30, 'ah', 22, 23, 24, 25]"
      ]
     },
     "execution_count": 539,
     "metadata": {},
     "output_type": "execute_result"
    }
   ],
   "source": [
    "a+b"
   ]
  },
  {
   "cell_type": "code",
   "execution_count": null,
   "id": "b4977f37",
   "metadata": {},
   "outputs": [],
   "source": [
    "# Numerical Python..... Numpy"
   ]
  },
  {
   "cell_type": "code",
   "execution_count": null,
   "id": "9744b65d",
   "metadata": {},
   "outputs": [],
   "source": [
    "# beni ekleyin...(import)\n",
    "# kurallarim var uyun"
   ]
  },
  {
   "cell_type": "code",
   "execution_count": 540,
   "id": "0e7d49f6",
   "metadata": {},
   "outputs": [],
   "source": [
    "#Kutuphane Yukleme\n",
    "import numpy as np"
   ]
  },
  {
   "cell_type": "code",
   "execution_count": 541,
   "id": "8c1489c4",
   "metadata": {},
   "outputs": [
    {
     "data": {
      "text/plain": [
       "array([10, 20, 30, 20])"
      ]
     },
     "execution_count": 541,
     "metadata": {},
     "output_type": "execute_result"
    }
   ],
   "source": [
    "np.array([10,20,30,20])"
   ]
  },
  {
   "cell_type": "code",
   "execution_count": 542,
   "id": "4713c869",
   "metadata": {},
   "outputs": [
    {
     "data": {
      "text/plain": [
       "array([20, 40, 60, 80])"
      ]
     },
     "execution_count": 542,
     "metadata": {},
     "output_type": "execute_result"
    }
   ],
   "source": [
    "np.array([10,20,30,40])+np.array([10,20,30,40])"
   ]
  },
  {
   "cell_type": "code",
   "execution_count": 543,
   "id": "cfd77eb7",
   "metadata": {},
   "outputs": [],
   "source": [
    "arrayim = np.array([10,20,30,40])"
   ]
  },
  {
   "cell_type": "code",
   "execution_count": 544,
   "id": "5677a25f",
   "metadata": {},
   "outputs": [
    {
     "data": {
      "text/plain": [
       "array([10, 20, 30, 40])"
      ]
     },
     "execution_count": 544,
     "metadata": {},
     "output_type": "execute_result"
    }
   ],
   "source": [
    "arrayim"
   ]
  },
  {
   "cell_type": "code",
   "execution_count": 549,
   "id": "eff58816",
   "metadata": {},
   "outputs": [],
   "source": [
    "a = np.array([10,20,30,40])\n",
    "b = np.array([22,23,24,25])"
   ]
  },
  {
   "cell_type": "code",
   "execution_count": 550,
   "id": "b75b476e",
   "metadata": {},
   "outputs": [
    {
     "data": {
      "text/plain": [
       "array([32, 43, 54, 65])"
      ]
     },
     "execution_count": 550,
     "metadata": {},
     "output_type": "execute_result"
    }
   ],
   "source": [
    "a+b"
   ]
  },
  {
   "cell_type": "code",
   "execution_count": 551,
   "id": "68e8cfcf",
   "metadata": {},
   "outputs": [
    {
     "data": {
      "text/plain": [
       "100"
      ]
     },
     "execution_count": 551,
     "metadata": {},
     "output_type": "execute_result"
    }
   ],
   "source": [
    "a.sum()"
   ]
  },
  {
   "cell_type": "code",
   "execution_count": 552,
   "id": "53a26495",
   "metadata": {},
   "outputs": [
    {
     "ename": "AttributeError",
     "evalue": "'str' object has no attribute 'sum'",
     "output_type": "error",
     "traceback": [
      "\u001b[0;31m---------------------------------------------------------------------------\u001b[0m",
      "\u001b[0;31mAttributeError\u001b[0m                            Traceback (most recent call last)",
      "Cell \u001b[0;32mIn[552], line 1\u001b[0m\n\u001b[0;32m----> 1\u001b[0m listem\u001b[38;5;241m.\u001b[39msum()\n",
      "\u001b[0;31mAttributeError\u001b[0m: 'str' object has no attribute 'sum'"
     ]
    }
   ],
   "source": [
    "listem.sum()"
   ]
  },
  {
   "cell_type": "code",
   "execution_count": 553,
   "id": "11f9fa71",
   "metadata": {},
   "outputs": [
    {
     "data": {
      "text/plain": [
       "100"
      ]
     },
     "execution_count": 553,
     "metadata": {},
     "output_type": "execute_result"
    }
   ],
   "source": [
    "arrayim.sum()"
   ]
  },
  {
   "cell_type": "code",
   "execution_count": 554,
   "id": "e369a22a",
   "metadata": {},
   "outputs": [
    {
     "data": {
      "text/plain": [
       "40"
      ]
     },
     "execution_count": 554,
     "metadata": {},
     "output_type": "execute_result"
    }
   ],
   "source": [
    "arrayim.max()"
   ]
  },
  {
   "cell_type": "code",
   "execution_count": 555,
   "id": "cbddb68e",
   "metadata": {},
   "outputs": [
    {
     "data": {
      "text/plain": [
       "10"
      ]
     },
     "execution_count": 555,
     "metadata": {},
     "output_type": "execute_result"
    }
   ],
   "source": [
    "arrayim.min()"
   ]
  },
  {
   "cell_type": "code",
   "execution_count": null,
   "id": "e5f0b90f",
   "metadata": {},
   "outputs": [],
   "source": [
    "# For\n",
    "# liste>>array... "
   ]
  },
  {
   "cell_type": "code",
   "execution_count": null,
   "id": "d733c957",
   "metadata": {},
   "outputs": [],
   "source": [
    "# Liste & Array"
   ]
  },
  {
   "cell_type": "code",
   "execution_count": 556,
   "id": "8917601a",
   "metadata": {},
   "outputs": [],
   "source": [
    "a_liste = [10,20,30,40,4,500,52]\n",
    "b_liste = [22,23,24,25,8,13,-10]"
   ]
  },
  {
   "cell_type": "code",
   "execution_count": 557,
   "id": "e8f905b7",
   "metadata": {},
   "outputs": [],
   "source": [
    "a_array = np.array([10,20,30,40,4,500,52])\n",
    "b_array = np.array([22,23,24,25,8,13,-10])"
   ]
  },
  {
   "cell_type": "code",
   "execution_count": 558,
   "id": "8308a9a1",
   "metadata": {},
   "outputs": [
    {
     "data": {
      "text/plain": [
       "[10, 20, 30, 40, 4, 500, 52, 22, 23, 24, 25, 8, 13, -10]"
      ]
     },
     "execution_count": 558,
     "metadata": {},
     "output_type": "execute_result"
    }
   ],
   "source": [
    "a_liste + b_liste"
   ]
  },
  {
   "cell_type": "code",
   "execution_count": 559,
   "id": "c611a171",
   "metadata": {},
   "outputs": [
    {
     "data": {
      "text/plain": [
       "array([ 32,  43,  54,  65,  12, 513,  42])"
      ]
     },
     "execution_count": 559,
     "metadata": {},
     "output_type": "execute_result"
    }
   ],
   "source": [
    "a_array + b_array #!!!!!!!!!!"
   ]
  },
  {
   "cell_type": "markdown",
   "id": "998bda48",
   "metadata": {},
   "source": [
    "## ARRAY ESNEKTIR... ADAPTE OLUR"
   ]
  },
  {
   "cell_type": "code",
   "execution_count": 560,
   "id": "0c393af8",
   "metadata": {},
   "outputs": [],
   "source": [
    "listem = [10, 20, 30, 40, 4, 500, 52, 22, 23, 24, 25, 8, 13, -10]"
   ]
  },
  {
   "cell_type": "code",
   "execution_count": 561,
   "id": "dd3fad40",
   "metadata": {},
   "outputs": [
    {
     "ename": "TypeError",
     "evalue": "'<' not supported between instances of 'list' and 'int'",
     "output_type": "error",
     "traceback": [
      "\u001b[0;31m---------------------------------------------------------------------------\u001b[0m",
      "\u001b[0;31mTypeError\u001b[0m                                 Traceback (most recent call last)",
      "Cell \u001b[0;32mIn[561], line 1\u001b[0m\n\u001b[0;32m----> 1\u001b[0m listem\u001b[38;5;241m<\u001b[39m\u001b[38;5;241m40\u001b[39m\n",
      "\u001b[0;31mTypeError\u001b[0m: '<' not supported between instances of 'list' and 'int'"
     ]
    }
   ],
   "source": [
    "listem<40"
   ]
  },
  {
   "cell_type": "code",
   "execution_count": 562,
   "id": "9453041d",
   "metadata": {},
   "outputs": [
    {
     "data": {
      "text/plain": [
       "array([ 10,  20,   4, 500,  52,  23,  24,  25, -10])"
      ]
     },
     "execution_count": 562,
     "metadata": {},
     "output_type": "execute_result"
    }
   ],
   "source": [
    "a_array = np.array([10, 20, 4, 500, 52, 23, 24, 25, -10])\n",
    "a_array"
   ]
  },
  {
   "cell_type": "code",
   "execution_count": 563,
   "id": "4a70e90f",
   "metadata": {},
   "outputs": [
    {
     "data": {
      "text/plain": [
       "array([ True,  True,  True, False, False,  True,  True,  True,  True])"
      ]
     },
     "execution_count": 563,
     "metadata": {},
     "output_type": "execute_result"
    }
   ],
   "source": [
    "a_array<40"
   ]
  },
  {
   "cell_type": "code",
   "execution_count": 564,
   "id": "2bc1cdfa",
   "metadata": {},
   "outputs": [
    {
     "data": {
      "text/plain": [
       "array([ True,  True,  True,  True,  True,  True,  True,  True,  True])"
      ]
     },
     "execution_count": 564,
     "metadata": {},
     "output_type": "execute_result"
    }
   ],
   "source": [
    "(a_array<35) | (a_array>50)"
   ]
  },
  {
   "cell_type": "code",
   "execution_count": 565,
   "id": "60d95acf",
   "metadata": {},
   "outputs": [
    {
     "data": {
      "text/plain": [
       "array([ 10,  20,   4, 500,  52,  23,  24,  25, -10])"
      ]
     },
     "execution_count": 565,
     "metadata": {},
     "output_type": "execute_result"
    }
   ],
   "source": [
    "a_array"
   ]
  },
  {
   "cell_type": "code",
   "execution_count": 570,
   "id": "dbe982cb",
   "metadata": {},
   "outputs": [
    {
     "data": {
      "text/plain": [
       "array([ 10,  20,   4,  23,  24,  25, -10])"
      ]
     },
     "execution_count": 570,
     "metadata": {},
     "output_type": "execute_result"
    }
   ],
   "source": [
    "a_array[[ True,  True,  True, False, False,  True,  True,  True,  True]]"
   ]
  },
  {
   "cell_type": "code",
   "execution_count": 571,
   "id": "69f514b6",
   "metadata": {},
   "outputs": [
    {
     "data": {
      "text/plain": [
       "array([ True,  True,  True, False, False,  True,  True,  True,  True])"
      ]
     },
     "execution_count": 571,
     "metadata": {},
     "output_type": "execute_result"
    }
   ],
   "source": [
    "a_array<40"
   ]
  },
  {
   "cell_type": "code",
   "execution_count": 574,
   "id": "599d3a53",
   "metadata": {},
   "outputs": [
    {
     "data": {
      "text/plain": [
       "array([  4, -10])"
      ]
     },
     "execution_count": 574,
     "metadata": {},
     "output_type": "execute_result"
    }
   ],
   "source": [
    "a_array[a_array<10] "
   ]
  },
  {
   "cell_type": "code",
   "execution_count": null,
   "id": "8170af60",
   "metadata": {},
   "outputs": [],
   "source": [
    "# a_array[......] "
   ]
  },
  {
   "cell_type": "code",
   "execution_count": null,
   "id": "24277729",
   "metadata": {},
   "outputs": [],
   "source": [
    "a_array[[ True,  True,  True, False, False,  True,  True,  True,  True]] # Filitreleme islemidir... "
   ]
  },
  {
   "cell_type": "code",
   "execution_count": null,
   "id": "d253028d",
   "metadata": {},
   "outputs": [],
   "source": [
    "a_array[a_array<20]"
   ]
  },
  {
   "cell_type": "code",
   "execution_count": null,
   "id": "8ba60fea",
   "metadata": {},
   "outputs": [],
   "source": [
    "a_array[0:3]"
   ]
  },
  {
   "cell_type": "code",
   "execution_count": 575,
   "id": "87c843fb",
   "metadata": {},
   "outputs": [
    {
     "data": {
      "text/plain": [
       "array([ True,  True,  True,  True,  True,  True,  True,  True,  True])"
      ]
     },
     "execution_count": 575,
     "metadata": {},
     "output_type": "execute_result"
    }
   ],
   "source": [
    "(a_array<35) | (a_array>50)"
   ]
  },
  {
   "cell_type": "code",
   "execution_count": null,
   "id": "ac037050",
   "metadata": {},
   "outputs": [],
   "source": [
    "a_array[[ True,  True,  True,  True,  True,  True,  True,  True,  True]]"
   ]
  },
  {
   "cell_type": "code",
   "execution_count": 576,
   "id": "ab9bdca5",
   "metadata": {},
   "outputs": [],
   "source": [
    "logic = (a_array<35) | (a_array>50)"
   ]
  },
  {
   "cell_type": "code",
   "execution_count": 577,
   "id": "1856abe2",
   "metadata": {},
   "outputs": [
    {
     "data": {
      "text/plain": [
       "array([ 10,  20,   4, 500,  52,  23,  24,  25, -10])"
      ]
     },
     "execution_count": 577,
     "metadata": {},
     "output_type": "execute_result"
    }
   ],
   "source": [
    "a_array[logic]"
   ]
  },
  {
   "cell_type": "code",
   "execution_count": 578,
   "id": "41a82162",
   "metadata": {},
   "outputs": [
    {
     "data": {
      "text/plain": [
       "array([ 10,  20,   4, 500,  52,  23,  24,  25, -10])"
      ]
     },
     "execution_count": 578,
     "metadata": {},
     "output_type": "execute_result"
    }
   ],
   "source": [
    "a_array[(a_array<35) | (a_array>50)]"
   ]
  },
  {
   "cell_type": "code",
   "execution_count": 579,
   "id": "abc77794",
   "metadata": {},
   "outputs": [
    {
     "data": {
      "text/plain": [
       "array([ 10,  20,   4,  23,  24,  25, -10])"
      ]
     },
     "execution_count": 579,
     "metadata": {},
     "output_type": "execute_result"
    }
   ],
   "source": [
    "a_array[(a_array<35)]"
   ]
  },
  {
   "cell_type": "code",
   "execution_count": 580,
   "id": "3f4f2d4f",
   "metadata": {},
   "outputs": [
    {
     "data": {
      "text/plain": [
       "array([500])"
      ]
     },
     "execution_count": 580,
     "metadata": {},
     "output_type": "execute_result"
    }
   ],
   "source": [
    "a_array[(a_array>350)]"
   ]
  },
  {
   "cell_type": "code",
   "execution_count": 581,
   "id": "631b62b5",
   "metadata": {},
   "outputs": [
    {
     "data": {
      "text/plain": [
       "array([ 10,  20,   4, 500,  52,  23,  24,  25, -10])"
      ]
     },
     "execution_count": 581,
     "metadata": {},
     "output_type": "execute_result"
    }
   ],
   "source": [
    "a_array"
   ]
  },
  {
   "cell_type": "code",
   "execution_count": 582,
   "id": "27b46e69",
   "metadata": {},
   "outputs": [
    {
     "data": {
      "text/plain": [
       "152.16730558463894"
      ]
     },
     "execution_count": 582,
     "metadata": {},
     "output_type": "execute_result"
    }
   ],
   "source": [
    "a_array.std()"
   ]
  },
  {
   "cell_type": "code",
   "execution_count": 583,
   "id": "58c3a532",
   "metadata": {},
   "outputs": [
    {
     "data": {
      "text/plain": [
       "648"
      ]
     },
     "execution_count": 583,
     "metadata": {},
     "output_type": "execute_result"
    }
   ],
   "source": [
    "a_array.sum()"
   ]
  },
  {
   "cell_type": "code",
   "execution_count": 584,
   "id": "1efbccb8",
   "metadata": {},
   "outputs": [
    {
     "data": {
      "text/plain": [
       "500"
      ]
     },
     "execution_count": 584,
     "metadata": {},
     "output_type": "execute_result"
    }
   ],
   "source": [
    "a_array.max()"
   ]
  },
  {
   "cell_type": "code",
   "execution_count": 585,
   "id": "9d85b233",
   "metadata": {},
   "outputs": [],
   "source": [
    "# c = [\"a\",20,30,40,True] TIPI AYNI OLMALI>>>>\n",
    "c = [22,23,24,25]\n",
    "\n",
    "\n",
    "# list>>>array>>>dataframe\n",
    "# core>>>numpy>>>pandas \n",
    "# >>>> "
   ]
  },
  {
   "cell_type": "code",
   "execution_count": 586,
   "id": "4dcfc3f1",
   "metadata": {},
   "outputs": [
    {
     "name": "stdout",
     "output_type": "stream",
     "text": [
      "[22, 23, 24, 25]\n"
     ]
    }
   ],
   "source": [
    "print(c)"
   ]
  },
  {
   "cell_type": "code",
   "execution_count": 587,
   "id": "cc05c3e8",
   "metadata": {},
   "outputs": [],
   "source": [
    "a = np.array([10,20,30,40])\n",
    "b = np.array([22,23,24,25])"
   ]
  },
  {
   "cell_type": "code",
   "execution_count": 588,
   "id": "c4958503",
   "metadata": {},
   "outputs": [
    {
     "data": {
      "text/plain": [
       "numpy.ndarray"
      ]
     },
     "execution_count": 588,
     "metadata": {},
     "output_type": "execute_result"
    }
   ],
   "source": [
    "type(a)"
   ]
  },
  {
   "cell_type": "code",
   "execution_count": 589,
   "id": "dc4bf7d0",
   "metadata": {},
   "outputs": [
    {
     "data": {
      "text/plain": [
       "list"
      ]
     },
     "execution_count": 589,
     "metadata": {},
     "output_type": "execute_result"
    }
   ],
   "source": [
    "type(c)"
   ]
  },
  {
   "cell_type": "code",
   "execution_count": 590,
   "id": "3fb1d44c",
   "metadata": {},
   "outputs": [
    {
     "data": {
      "text/plain": [
       "array([22, 23, 24, 25])"
      ]
     },
     "execution_count": 590,
     "metadata": {},
     "output_type": "execute_result"
    }
   ],
   "source": [
    "b"
   ]
  },
  {
   "cell_type": "code",
   "execution_count": 591,
   "id": "29cde960",
   "metadata": {},
   "outputs": [],
   "source": [
    "d=np.array([10,20,30,40,50])"
   ]
  },
  {
   "cell_type": "code",
   "execution_count": 592,
   "id": "6a37b193",
   "metadata": {},
   "outputs": [
    {
     "data": {
      "text/plain": [
       "array([32, 43, 54, 65])"
      ]
     },
     "execution_count": 592,
     "metadata": {},
     "output_type": "execute_result"
    }
   ],
   "source": [
    "a+b"
   ]
  },
  {
   "cell_type": "code",
   "execution_count": 593,
   "id": "4fedd859",
   "metadata": {},
   "outputs": [],
   "source": [
    "d = a+b"
   ]
  },
  {
   "cell_type": "code",
   "execution_count": 594,
   "id": "f36a4461",
   "metadata": {},
   "outputs": [
    {
     "data": {
      "text/plain": [
       "numpy.ndarray"
      ]
     },
     "execution_count": 594,
     "metadata": {},
     "output_type": "execute_result"
    }
   ],
   "source": [
    "type(d)"
   ]
  },
  {
   "cell_type": "code",
   "execution_count": 595,
   "id": "c6579051",
   "metadata": {},
   "outputs": [
    {
     "data": {
      "text/plain": [
       "43"
      ]
     },
     "execution_count": 595,
     "metadata": {},
     "output_type": "execute_result"
    }
   ],
   "source": [
    "d[1]"
   ]
  },
  {
   "cell_type": "code",
   "execution_count": 596,
   "id": "b68cd63b",
   "metadata": {},
   "outputs": [
    {
     "data": {
      "text/plain": [
       "array([ 42,  63,  84, 105])"
      ]
     },
     "execution_count": 596,
     "metadata": {},
     "output_type": "execute_result"
    }
   ],
   "source": [
    "a+d"
   ]
  },
  {
   "cell_type": "code",
   "execution_count": 597,
   "id": "212ec34a",
   "metadata": {},
   "outputs": [
    {
     "data": {
      "text/plain": [
       "array([-12,  -3,   6,  15])"
      ]
     },
     "execution_count": 597,
     "metadata": {},
     "output_type": "execute_result"
    }
   ],
   "source": [
    "a-b"
   ]
  },
  {
   "cell_type": "code",
   "execution_count": 598,
   "id": "31906ce6",
   "metadata": {},
   "outputs": [
    {
     "data": {
      "text/plain": [
       "array([ 220,  460,  720, 1000])"
      ]
     },
     "execution_count": 598,
     "metadata": {},
     "output_type": "execute_result"
    }
   ],
   "source": [
    "a*b"
   ]
  },
  {
   "cell_type": "code",
   "execution_count": 599,
   "id": "6788a71d",
   "metadata": {},
   "outputs": [],
   "source": [
    "j = [10,20,30,40,4,500,52]"
   ]
  },
  {
   "cell_type": "code",
   "execution_count": 600,
   "id": "e52d3db4",
   "metadata": {},
   "outputs": [],
   "source": [
    "p = np.array(j)"
   ]
  },
  {
   "cell_type": "code",
   "execution_count": 605,
   "id": "6ab5c142",
   "metadata": {},
   "outputs": [
    {
     "data": {
      "text/plain": [
       "array([ True,  True, False, False,  True, False, False])"
      ]
     },
     "execution_count": 605,
     "metadata": {},
     "output_type": "execute_result"
    }
   ],
   "source": [
    "p<23"
   ]
  },
  {
   "cell_type": "code",
   "execution_count": 602,
   "id": "91f85de9",
   "metadata": {},
   "outputs": [],
   "source": [
    "a = np.array([10,20,30,40,4,500,52])\n",
    "b = np.array([22,23,24,25,8,13,-10])"
   ]
  },
  {
   "cell_type": "code",
   "execution_count": 603,
   "id": "9ddfb6e7",
   "metadata": {},
   "outputs": [
    {
     "data": {
      "text/plain": [
       "array([ 32,  43,  54,  65,  12, 513,  42])"
      ]
     },
     "execution_count": 603,
     "metadata": {},
     "output_type": "execute_result"
    }
   ],
   "source": [
    "d = a+b\n",
    "d"
   ]
  },
  {
   "cell_type": "code",
   "execution_count": 606,
   "id": "7b728288",
   "metadata": {},
   "outputs": [
    {
     "data": {
      "text/plain": [
       "array([ True, False, False, False,  True, False, False])"
      ]
     },
     "execution_count": 606,
     "metadata": {},
     "output_type": "execute_result"
    }
   ],
   "source": [
    "d<35"
   ]
  },
  {
   "cell_type": "code",
   "execution_count": 607,
   "id": "1b8348d3",
   "metadata": {},
   "outputs": [
    {
     "data": {
      "text/plain": [
       "[True, False, False, False, True, False, False]"
      ]
     },
     "execution_count": 607,
     "metadata": {},
     "output_type": "execute_result"
    }
   ],
   "source": [
    "[True, False, False, False,  True, False, False]"
   ]
  },
  {
   "cell_type": "code",
   "execution_count": 608,
   "id": "9ecc3991",
   "metadata": {},
   "outputs": [
    {
     "data": {
      "text/plain": [
       "array([32, 12])"
      ]
     },
     "execution_count": 608,
     "metadata": {},
     "output_type": "execute_result"
    }
   ],
   "source": [
    "d[[True, False, False, False,  True, False, False]]"
   ]
  },
  {
   "cell_type": "code",
   "execution_count": 609,
   "id": "de7ac65b",
   "metadata": {},
   "outputs": [
    {
     "data": {
      "text/plain": [
       "array([ 32,  43,  54,  65,  12, 513,  42])"
      ]
     },
     "execution_count": 609,
     "metadata": {},
     "output_type": "execute_result"
    }
   ],
   "source": [
    "d"
   ]
  },
  {
   "cell_type": "code",
   "execution_count": 610,
   "id": "3751300c",
   "metadata": {},
   "outputs": [
    {
     "data": {
      "text/plain": [
       "array([32, 12])"
      ]
     },
     "execution_count": 610,
     "metadata": {},
     "output_type": "execute_result"
    }
   ],
   "source": [
    "d[d<35]"
   ]
  },
  {
   "cell_type": "code",
   "execution_count": null,
   "id": "1088426b",
   "metadata": {},
   "outputs": [],
   "source": [
    "d[d<35]"
   ]
  },
  {
   "cell_type": "code",
   "execution_count": null,
   "id": "35132bba",
   "metadata": {},
   "outputs": [],
   "source": [
    "d[(d<35) & (d>50)]"
   ]
  },
  {
   "cell_type": "code",
   "execution_count": null,
   "id": "7e4c41cb",
   "metadata": {},
   "outputs": [],
   "source": [
    "d[(d<35) | (d>50)]"
   ]
  },
  {
   "cell_type": "code",
   "execution_count": null,
   "id": "676388ca",
   "metadata": {},
   "outputs": [],
   "source": [
    "d<35"
   ]
  },
  {
   "cell_type": "code",
   "execution_count": null,
   "id": "dfac3856",
   "metadata": {},
   "outputs": [],
   "source": [
    "d[[ True, False, False, False,  True, False, False]]"
   ]
  },
  {
   "cell_type": "code",
   "execution_count": null,
   "id": "fb471f8f",
   "metadata": {},
   "outputs": [],
   "source": [
    "d<35"
   ]
  },
  {
   "cell_type": "code",
   "execution_count": null,
   "id": "0a8698d2",
   "metadata": {},
   "outputs": [],
   "source": [
    "d[2]"
   ]
  },
  {
   "cell_type": "code",
   "execution_count": null,
   "id": "5a3d36cf",
   "metadata": {},
   "outputs": [],
   "source": [
    "d[d<50]"
   ]
  },
  {
   "cell_type": "code",
   "execution_count": null,
   "id": "d164753b",
   "metadata": {},
   "outputs": [],
   "source": [
    "(d<50) | (d>60)"
   ]
  },
  {
   "cell_type": "code",
   "execution_count": 611,
   "id": "8cd4d6a8",
   "metadata": {},
   "outputs": [
    {
     "data": {
      "text/plain": [
       "array([54])"
      ]
     },
     "execution_count": 611,
     "metadata": {},
     "output_type": "execute_result"
    }
   ],
   "source": [
    "d[d==54]"
   ]
  },
  {
   "cell_type": "code",
   "execution_count": 612,
   "id": "0dd51605",
   "metadata": {},
   "outputs": [
    {
     "data": {
      "text/plain": [
       "array([ 32,  43,  65,  12, 513,  42])"
      ]
     },
     "execution_count": 612,
     "metadata": {},
     "output_type": "execute_result"
    }
   ],
   "source": [
    "d[(d<50) | (d>60)]"
   ]
  },
  {
   "cell_type": "code",
   "execution_count": null,
   "id": "81034340",
   "metadata": {},
   "outputs": [],
   "source": [
    "a = np.array([10,20,30,40,60,70,80,90])"
   ]
  },
  {
   "cell_type": "code",
   "execution_count": 613,
   "id": "6f4f5e08",
   "metadata": {},
   "outputs": [],
   "source": [
    "l = [\"AGE\",\"GENDER\",\"INCOME\"]\n",
    "l = np.array(l)"
   ]
  },
  {
   "cell_type": "code",
   "execution_count": 614,
   "id": "4ab30320",
   "metadata": {},
   "outputs": [
    {
     "data": {
      "text/plain": [
       "array(['AGE', 'GENDER', 'INCOME'], dtype='<U6')"
      ]
     },
     "execution_count": 614,
     "metadata": {},
     "output_type": "execute_result"
    }
   ],
   "source": [
    "l"
   ]
  },
  {
   "cell_type": "code",
   "execution_count": 615,
   "id": "9497080d",
   "metadata": {},
   "outputs": [
    {
     "data": {
      "text/plain": [
       "array(['AGE'], dtype='<U6')"
      ]
     },
     "execution_count": 615,
     "metadata": {},
     "output_type": "execute_result"
    }
   ],
   "source": [
    "l[l==\"AGE\"]"
   ]
  },
  {
   "cell_type": "code",
   "execution_count": 616,
   "id": "15fae0a1",
   "metadata": {},
   "outputs": [
    {
     "data": {
      "text/plain": [
       "array([ True,  True, False, False,  True, False, False])"
      ]
     },
     "execution_count": 616,
     "metadata": {},
     "output_type": "execute_result"
    }
   ],
   "source": [
    "a<30"
   ]
  },
  {
   "cell_type": "code",
   "execution_count": 617,
   "id": "51590cab",
   "metadata": {},
   "outputs": [
    {
     "data": {
      "text/plain": [
       "array([  20,   40,   60,   80,    8, 1000,  104])"
      ]
     },
     "execution_count": 617,
     "metadata": {},
     "output_type": "execute_result"
    }
   ],
   "source": [
    "a+a"
   ]
  },
  {
   "cell_type": "code",
   "execution_count": 618,
   "id": "9c316f19",
   "metadata": {},
   "outputs": [
    {
     "data": {
      "text/plain": [
       "array([20, 40,  8])"
      ]
     },
     "execution_count": 618,
     "metadata": {},
     "output_type": "execute_result"
    }
   ],
   "source": [
    "a[a<30]+a[a<30]"
   ]
  },
  {
   "cell_type": "code",
   "execution_count": 619,
   "id": "2831bf55",
   "metadata": {},
   "outputs": [
    {
     "data": {
      "text/plain": [
       "array([10, 20,  4])"
      ]
     },
     "execution_count": 619,
     "metadata": {},
     "output_type": "execute_result"
    }
   ],
   "source": [
    "a[a<30]"
   ]
  },
  {
   "cell_type": "code",
   "execution_count": 622,
   "id": "93463fa1",
   "metadata": {},
   "outputs": [],
   "source": [
    "c = np.array([10,20,30,40,60,70,80,90,100,110])"
   ]
  },
  {
   "cell_type": "code",
   "execution_count": 623,
   "id": "813445f1",
   "metadata": {},
   "outputs": [
    {
     "data": {
      "text/plain": [
       "array([ 10,  20,  30,  40,  60,  70,  80,  90, 100, 110])"
      ]
     },
     "execution_count": 623,
     "metadata": {},
     "output_type": "execute_result"
    }
   ],
   "source": [
    "c"
   ]
  },
  {
   "cell_type": "code",
   "execution_count": 624,
   "id": "09fab493",
   "metadata": {},
   "outputs": [
    {
     "data": {
      "text/plain": [
       "array([ True,  True,  True,  True, False, False, False, False, False,\n",
       "       False])"
      ]
     },
     "execution_count": 624,
     "metadata": {},
     "output_type": "execute_result"
    }
   ],
   "source": [
    "c<50"
   ]
  },
  {
   "cell_type": "code",
   "execution_count": 625,
   "id": "54da5a57",
   "metadata": {},
   "outputs": [
    {
     "data": {
      "text/plain": [
       "array([10, 20, 30, 40])"
      ]
     },
     "execution_count": 625,
     "metadata": {},
     "output_type": "execute_result"
    }
   ],
   "source": [
    "c[c<50]"
   ]
  },
  {
   "cell_type": "code",
   "execution_count": 626,
   "id": "37db9fc5",
   "metadata": {},
   "outputs": [
    {
     "data": {
      "text/plain": [
       "array([10, 20, 30, 40])"
      ]
     },
     "execution_count": 626,
     "metadata": {},
     "output_type": "execute_result"
    }
   ],
   "source": [
    "a = c[c<50]\n",
    "a"
   ]
  },
  {
   "cell_type": "code",
   "execution_count": 627,
   "id": "90816d68",
   "metadata": {},
   "outputs": [
    {
     "data": {
      "text/plain": [
       "array([10, 20])"
      ]
     },
     "execution_count": 627,
     "metadata": {},
     "output_type": "execute_result"
    }
   ],
   "source": [
    "a[a < 30]"
   ]
  },
  {
   "cell_type": "markdown",
   "id": "b7ac9687",
   "metadata": {},
   "source": [
    "# IF "
   ]
  },
  {
   "cell_type": "code",
   "execution_count": 640,
   "id": "f66c3d13",
   "metadata": {},
   "outputs": [],
   "source": [
    "a = 60"
   ]
  },
  {
   "cell_type": "code",
   "execution_count": 641,
   "id": "26e3187f",
   "metadata": {},
   "outputs": [
    {
     "name": "stdout",
     "output_type": "stream",
     "text": [
      "10 dan buyuk\n"
     ]
    }
   ],
   "source": [
    "if a>10:\n",
    "    print(\"10 dan buyuk\" )\n",
    "else:\n",
    "    print(\"10 dan buyuk dedgil\" )"
   ]
  },
  {
   "cell_type": "code",
   "execution_count": 642,
   "id": "0781f161",
   "metadata": {},
   "outputs": [],
   "source": [
    "d = list(d)"
   ]
  },
  {
   "cell_type": "code",
   "execution_count": 643,
   "id": "7dd64797",
   "metadata": {},
   "outputs": [
    {
     "data": {
      "text/plain": [
       "[32, 43, 54, 65, 12, 513, 42]"
      ]
     },
     "execution_count": 643,
     "metadata": {},
     "output_type": "execute_result"
    }
   ],
   "source": [
    "d"
   ]
  },
  {
   "cell_type": "code",
   "execution_count": 644,
   "id": "82300d47",
   "metadata": {},
   "outputs": [
    {
     "name": "stdout",
     "output_type": "stream",
     "text": [
      "60  dan buyuk degil\n",
      "60  dan buyuk degil\n",
      "60  dan buyuk degil\n",
      "60  dan buyuk \n",
      "60  dan buyuk degil\n",
      "60  dan buyuk \n",
      "60  dan buyuk degil\n"
     ]
    }
   ],
   "source": [
    "for G in d:\n",
    "    if a>G:\n",
    "        print(a, \" dan buyuk degil\" )\n",
    "    else:\n",
    "        print(a, \" dan buyuk \" )"
   ]
  },
  {
   "cell_type": "code",
   "execution_count": 645,
   "id": "a515d2de",
   "metadata": {},
   "outputs": [
    {
     "name": "stdout",
     "output_type": "stream",
     "text": [
      "30 sayisi 60  dan buyuk degil\n"
     ]
    }
   ],
   "source": [
    "a = 60\n",
    "G = 30\n",
    "\n",
    "if a>G:\n",
    "    print(G,\"sayisi\", a, \" dan buyuk degil\" )\n",
    "else:\n",
    "    print(G,\"sayisi\", a, \" dan buyuk \" )"
   ]
  },
  {
   "cell_type": "code",
   "execution_count": 636,
   "id": "8a6c56ff",
   "metadata": {},
   "outputs": [],
   "source": [
    "c = np.array([10,20,30,40,60,70,80,90,100,110])"
   ]
  },
  {
   "cell_type": "code",
   "execution_count": 637,
   "id": "b0b4875d",
   "metadata": {},
   "outputs": [
    {
     "data": {
      "text/plain": [
       "array([ 10,  20,  30,  40,  60,  70,  80,  90, 100, 110])"
      ]
     },
     "execution_count": 637,
     "metadata": {},
     "output_type": "execute_result"
    }
   ],
   "source": [
    "c"
   ]
  },
  {
   "cell_type": "code",
   "execution_count": 646,
   "id": "59a15ea2",
   "metadata": {},
   "outputs": [
    {
     "data": {
      "text/plain": [
       "array([ True,  True,  True, False, False, False, False, False, False,\n",
       "       False])"
      ]
     },
     "execution_count": 646,
     "metadata": {},
     "output_type": "execute_result"
    }
   ],
   "source": [
    "c<40"
   ]
  },
  {
   "cell_type": "code",
   "execution_count": 647,
   "id": "7deae141",
   "metadata": {},
   "outputs": [
    {
     "name": "stdout",
     "output_type": "stream",
     "text": [
      "True\n",
      "True\n",
      "True\n",
      "False\n",
      "False\n",
      "False\n",
      "False\n",
      "False\n",
      "False\n",
      "False\n"
     ]
    }
   ],
   "source": [
    "for G in c:\n",
    "    if G<40:\n",
    "        print(\"True\")\n",
    "    else:\n",
    "        print(\"False\")"
   ]
  },
  {
   "cell_type": "code",
   "execution_count": 648,
   "id": "7f8f14bc",
   "metadata": {},
   "outputs": [
    {
     "data": {
      "text/plain": [
       "array([10, 20, 30])"
      ]
     },
     "execution_count": 648,
     "metadata": {},
     "output_type": "execute_result"
    }
   ],
   "source": [
    "c[c<40]"
   ]
  },
  {
   "cell_type": "code",
   "execution_count": 649,
   "id": "e7d02314",
   "metadata": {},
   "outputs": [],
   "source": [
    "f = c[c<40]"
   ]
  },
  {
   "cell_type": "code",
   "execution_count": 650,
   "id": "489de619",
   "metadata": {},
   "outputs": [
    {
     "data": {
      "text/plain": [
       "array([10, 20, 30])"
      ]
     },
     "execution_count": 650,
     "metadata": {},
     "output_type": "execute_result"
    }
   ],
   "source": [
    "f"
   ]
  },
  {
   "cell_type": "code",
   "execution_count": 651,
   "id": "1d7fd34d",
   "metadata": {},
   "outputs": [
    {
     "name": "stdout",
     "output_type": "stream",
     "text": [
      "10\n",
      "20\n",
      "30\n"
     ]
    }
   ],
   "source": [
    "for G in c:\n",
    "    if G<40:\n",
    "        print(G)\n"
   ]
  },
  {
   "cell_type": "code",
   "execution_count": 652,
   "id": "240865ab",
   "metadata": {},
   "outputs": [
    {
     "name": "stdout",
     "output_type": "stream",
     "text": [
      "50\n"
     ]
    }
   ],
   "source": [
    "x = 50\n",
    "y = 40\n",
    "\n",
    "\n",
    "if x>y:\n",
    "    print(x)\n",
    "    "
   ]
  },
  {
   "cell_type": "code",
   "execution_count": 653,
   "id": "66526f86",
   "metadata": {},
   "outputs": [
    {
     "name": "stdout",
     "output_type": "stream",
     "text": [
      "60\n"
     ]
    }
   ],
   "source": [
    "x = 40\n",
    "y = 60\n",
    "\n",
    "\n",
    "if x>y:\n",
    "    print(x)\n",
    "else:\n",
    "    print(y)"
   ]
  },
  {
   "cell_type": "code",
   "execution_count": 654,
   "id": "e4529098",
   "metadata": {},
   "outputs": [],
   "source": [
    "a = np.array([10, 20, 30, 40])"
   ]
  },
  {
   "cell_type": "code",
   "execution_count": 655,
   "id": "e9e2ff10",
   "metadata": {},
   "outputs": [],
   "source": [
    "ab = []\n",
    "\n",
    "for i in a:\n",
    "    if i < 30:\n",
    "        ab.append(i)"
   ]
  },
  {
   "cell_type": "code",
   "execution_count": 656,
   "id": "d189bfb3",
   "metadata": {},
   "outputs": [
    {
     "data": {
      "text/plain": [
       "[10, 20]"
      ]
     },
     "execution_count": 656,
     "metadata": {},
     "output_type": "execute_result"
    }
   ],
   "source": [
    "ab"
   ]
  },
  {
   "cell_type": "code",
   "execution_count": 658,
   "id": "2a297e58",
   "metadata": {},
   "outputs": [
    {
     "data": {
      "text/plain": [
       "array([10, 20])"
      ]
     },
     "execution_count": 658,
     "metadata": {},
     "output_type": "execute_result"
    }
   ],
   "source": [
    "a[a<30]"
   ]
  },
  {
   "cell_type": "code",
   "execution_count": 659,
   "id": "ba6bbb56",
   "metadata": {},
   "outputs": [
    {
     "data": {
      "text/plain": [
       "array([ True,  True, False, False])"
      ]
     },
     "execution_count": 659,
     "metadata": {},
     "output_type": "execute_result"
    }
   ],
   "source": [
    "a<30"
   ]
  },
  {
   "cell_type": "code",
   "execution_count": 660,
   "id": "68f2cead",
   "metadata": {},
   "outputs": [],
   "source": [
    "a = np.array(a)"
   ]
  },
  {
   "cell_type": "code",
   "execution_count": 661,
   "id": "d63d8f1c",
   "metadata": {},
   "outputs": [
    {
     "data": {
      "text/plain": [
       "array([10, 20])"
      ]
     },
     "execution_count": 661,
     "metadata": {},
     "output_type": "execute_result"
    }
   ],
   "source": [
    "a[a<30]"
   ]
  },
  {
   "cell_type": "code",
   "execution_count": 662,
   "id": "40403351",
   "metadata": {},
   "outputs": [
    {
     "data": {
      "text/plain": [
       "[10, 20]"
      ]
     },
     "execution_count": 662,
     "metadata": {},
     "output_type": "execute_result"
    }
   ],
   "source": [
    "ab"
   ]
  },
  {
   "cell_type": "code",
   "execution_count": 663,
   "id": "076ae0dd",
   "metadata": {},
   "outputs": [
    {
     "data": {
      "text/plain": [
       "array([10, 20])"
      ]
     },
     "execution_count": 663,
     "metadata": {},
     "output_type": "execute_result"
    }
   ],
   "source": [
    "abb=a[a<30]\n",
    "abb"
   ]
  },
  {
   "cell_type": "code",
   "execution_count": 664,
   "id": "a41fed5a",
   "metadata": {},
   "outputs": [
    {
     "data": {
      "text/plain": [
       "array([10, 20, 30, 40])"
      ]
     },
     "execution_count": 664,
     "metadata": {},
     "output_type": "execute_result"
    }
   ],
   "source": [
    "a[a<70]"
   ]
  },
  {
   "cell_type": "code",
   "execution_count": null,
   "id": "067adf96",
   "metadata": {},
   "outputs": [],
   "source": [
    "# a = [\"a\",20,30,40] TIPI AYNI OLMALI>>>>\n",
    "c = [22,23,24,25]\n",
    "\n",
    "# list>>>array>>>dataframe\n",
    "# core>>>numpy>>>pandas \n",
    "# >>>> "
   ]
  },
  {
   "cell_type": "markdown",
   "id": "74a5c1a7",
   "metadata": {},
   "source": [
    "## SECTION : DATA MANUPLATION - PANDAS"
   ]
  },
  {
   "cell_type": "code",
   "execution_count": null,
   "id": "0fa07bac",
   "metadata": {},
   "outputs": [],
   "source": [
    "# list>>>array>>>dataframe\n",
    "# core>>>numpy>>>pandas \n",
    "# >>>> "
   ]
  },
  {
   "cell_type": "code",
   "execution_count": 665,
   "id": "c5d99a9e",
   "metadata": {},
   "outputs": [],
   "source": [
    "import pandas as pd"
   ]
  },
  {
   "cell_type": "code",
   "execution_count": 670,
   "id": "02851686",
   "metadata": {},
   "outputs": [
    {
     "data": {
      "text/plain": [
       "[10, 20, 30, 40]"
      ]
     },
     "execution_count": 670,
     "metadata": {},
     "output_type": "execute_result"
    }
   ],
   "source": [
    "my_list =[10, 20, 30, 40]\n",
    "my_list"
   ]
  },
  {
   "cell_type": "code",
   "execution_count": 667,
   "id": "ae1cdde1",
   "metadata": {},
   "outputs": [
    {
     "data": {
      "text/plain": [
       "array([10, 20, 30, 40])"
      ]
     },
     "execution_count": 667,
     "metadata": {},
     "output_type": "execute_result"
    }
   ],
   "source": [
    "my_array = np.array(my_list)\n",
    "my_array"
   ]
  },
  {
   "cell_type": "code",
   "execution_count": 668,
   "id": "2996087a",
   "metadata": {},
   "outputs": [
    {
     "data": {
      "text/html": [
       "<div>\n",
       "<style scoped>\n",
       "    .dataframe tbody tr th:only-of-type {\n",
       "        vertical-align: middle;\n",
       "    }\n",
       "\n",
       "    .dataframe tbody tr th {\n",
       "        vertical-align: top;\n",
       "    }\n",
       "\n",
       "    .dataframe thead th {\n",
       "        text-align: right;\n",
       "    }\n",
       "</style>\n",
       "<table border=\"1\" class=\"dataframe\">\n",
       "  <thead>\n",
       "    <tr style=\"text-align: right;\">\n",
       "      <th></th>\n",
       "      <th>0</th>\n",
       "    </tr>\n",
       "  </thead>\n",
       "  <tbody>\n",
       "    <tr>\n",
       "      <th>0</th>\n",
       "      <td>10</td>\n",
       "    </tr>\n",
       "    <tr>\n",
       "      <th>1</th>\n",
       "      <td>20</td>\n",
       "    </tr>\n",
       "    <tr>\n",
       "      <th>2</th>\n",
       "      <td>30</td>\n",
       "    </tr>\n",
       "    <tr>\n",
       "      <th>3</th>\n",
       "      <td>40</td>\n",
       "    </tr>\n",
       "  </tbody>\n",
       "</table>\n",
       "</div>"
      ],
      "text/plain": [
       "    0\n",
       "0  10\n",
       "1  20\n",
       "2  30\n",
       "3  40"
      ]
     },
     "execution_count": 668,
     "metadata": {},
     "output_type": "execute_result"
    }
   ],
   "source": [
    "pd.DataFrame(my_list)"
   ]
  },
  {
   "cell_type": "code",
   "execution_count": 671,
   "id": "6808c830",
   "metadata": {},
   "outputs": [
    {
     "data": {
      "text/html": [
       "<div>\n",
       "<style scoped>\n",
       "    .dataframe tbody tr th:only-of-type {\n",
       "        vertical-align: middle;\n",
       "    }\n",
       "\n",
       "    .dataframe tbody tr th {\n",
       "        vertical-align: top;\n",
       "    }\n",
       "\n",
       "    .dataframe thead th {\n",
       "        text-align: right;\n",
       "    }\n",
       "</style>\n",
       "<table border=\"1\" class=\"dataframe\">\n",
       "  <thead>\n",
       "    <tr style=\"text-align: right;\">\n",
       "      <th></th>\n",
       "      <th>0</th>\n",
       "      <th>1</th>\n",
       "      <th>2</th>\n",
       "      <th>3</th>\n",
       "    </tr>\n",
       "  </thead>\n",
       "  <tbody>\n",
       "    <tr>\n",
       "      <th>0</th>\n",
       "      <td>10</td>\n",
       "      <td>20</td>\n",
       "      <td>30</td>\n",
       "      <td>40</td>\n",
       "    </tr>\n",
       "    <tr>\n",
       "      <th>1</th>\n",
       "      <td>10</td>\n",
       "      <td>20</td>\n",
       "      <td>30</td>\n",
       "      <td>40</td>\n",
       "    </tr>\n",
       "  </tbody>\n",
       "</table>\n",
       "</div>"
      ],
      "text/plain": [
       "    0   1   2   3\n",
       "0  10  20  30  40\n",
       "1  10  20  30  40"
      ]
     },
     "execution_count": 671,
     "metadata": {},
     "output_type": "execute_result"
    }
   ],
   "source": [
    "pd.DataFrame([my_list,my_list])"
   ]
  },
  {
   "cell_type": "code",
   "execution_count": 672,
   "id": "8bdc68ca",
   "metadata": {},
   "outputs": [
    {
     "data": {
      "text/html": [
       "<div>\n",
       "<style scoped>\n",
       "    .dataframe tbody tr th:only-of-type {\n",
       "        vertical-align: middle;\n",
       "    }\n",
       "\n",
       "    .dataframe tbody tr th {\n",
       "        vertical-align: top;\n",
       "    }\n",
       "\n",
       "    .dataframe thead th {\n",
       "        text-align: right;\n",
       "    }\n",
       "</style>\n",
       "<table border=\"1\" class=\"dataframe\">\n",
       "  <thead>\n",
       "    <tr style=\"text-align: right;\">\n",
       "      <th></th>\n",
       "      <th>0</th>\n",
       "      <th>1</th>\n",
       "      <th>2</th>\n",
       "      <th>3</th>\n",
       "    </tr>\n",
       "  </thead>\n",
       "  <tbody>\n",
       "    <tr>\n",
       "      <th>0</th>\n",
       "      <td>25</td>\n",
       "      <td>30</td>\n",
       "      <td>50</td>\n",
       "      <td>50</td>\n",
       "    </tr>\n",
       "    <tr>\n",
       "      <th>1</th>\n",
       "      <td>1000</td>\n",
       "      <td>2000</td>\n",
       "      <td>3000</td>\n",
       "      <td>4000</td>\n",
       "    </tr>\n",
       "    <tr>\n",
       "      <th>2</th>\n",
       "      <td>0</td>\n",
       "      <td>2</td>\n",
       "      <td>1</td>\n",
       "      <td>1</td>\n",
       "    </tr>\n",
       "  </tbody>\n",
       "</table>\n",
       "</div>"
      ],
      "text/plain": [
       "      0     1     2     3\n",
       "0    25    30    50    50\n",
       "1  1000  2000  3000  4000\n",
       "2     0     2     1     1"
      ]
     },
     "execution_count": 672,
     "metadata": {},
     "output_type": "execute_result"
    }
   ],
   "source": [
    "my_list =[25, 30, 50, 50]\n",
    "my_list1 = [1000, 2000, 3000, 4000]\n",
    "my_list2 = [0, 2, 1, 1]\n",
    "\n",
    "pd.DataFrame([my_list,my_list1,my_list2])"
   ]
  },
  {
   "cell_type": "code",
   "execution_count": 673,
   "id": "0b860c52",
   "metadata": {},
   "outputs": [],
   "source": [
    "df = pd.DataFrame([my_list,my_list1,my_list2])"
   ]
  },
  {
   "cell_type": "code",
   "execution_count": 674,
   "id": "b4fb4030",
   "metadata": {},
   "outputs": [
    {
     "data": {
      "text/html": [
       "<div>\n",
       "<style scoped>\n",
       "    .dataframe tbody tr th:only-of-type {\n",
       "        vertical-align: middle;\n",
       "    }\n",
       "\n",
       "    .dataframe tbody tr th {\n",
       "        vertical-align: top;\n",
       "    }\n",
       "\n",
       "    .dataframe thead th {\n",
       "        text-align: right;\n",
       "    }\n",
       "</style>\n",
       "<table border=\"1\" class=\"dataframe\">\n",
       "  <thead>\n",
       "    <tr style=\"text-align: right;\">\n",
       "      <th></th>\n",
       "      <th>0</th>\n",
       "      <th>1</th>\n",
       "      <th>2</th>\n",
       "      <th>3</th>\n",
       "    </tr>\n",
       "  </thead>\n",
       "  <tbody>\n",
       "    <tr>\n",
       "      <th>0</th>\n",
       "      <td>25</td>\n",
       "      <td>30</td>\n",
       "      <td>50</td>\n",
       "      <td>50</td>\n",
       "    </tr>\n",
       "    <tr>\n",
       "      <th>1</th>\n",
       "      <td>1000</td>\n",
       "      <td>2000</td>\n",
       "      <td>3000</td>\n",
       "      <td>4000</td>\n",
       "    </tr>\n",
       "    <tr>\n",
       "      <th>2</th>\n",
       "      <td>0</td>\n",
       "      <td>2</td>\n",
       "      <td>1</td>\n",
       "      <td>1</td>\n",
       "    </tr>\n",
       "  </tbody>\n",
       "</table>\n",
       "</div>"
      ],
      "text/plain": [
       "      0     1     2     3\n",
       "0    25    30    50    50\n",
       "1  1000  2000  3000  4000\n",
       "2     0     2     1     1"
      ]
     },
     "execution_count": 674,
     "metadata": {},
     "output_type": "execute_result"
    }
   ],
   "source": [
    "df"
   ]
  },
  {
   "cell_type": "code",
   "execution_count": null,
   "id": "f1918b1d",
   "metadata": {},
   "outputs": [],
   "source": [
    "#Data Frame ozellik\n",
    "#1-index\n",
    "#2-kolon\n",
    "#3-Value"
   ]
  },
  {
   "cell_type": "code",
   "execution_count": 675,
   "id": "a97caad0",
   "metadata": {},
   "outputs": [],
   "source": [
    "df = pd.DataFrame([my_list,my_list1,my_list2],columns = [\"Ali\",\"Veli\",\"Semih\",\"Zehra\"])"
   ]
  },
  {
   "cell_type": "code",
   "execution_count": 676,
   "id": "87b9b32e",
   "metadata": {},
   "outputs": [
    {
     "data": {
      "text/html": [
       "<div>\n",
       "<style scoped>\n",
       "    .dataframe tbody tr th:only-of-type {\n",
       "        vertical-align: middle;\n",
       "    }\n",
       "\n",
       "    .dataframe tbody tr th {\n",
       "        vertical-align: top;\n",
       "    }\n",
       "\n",
       "    .dataframe thead th {\n",
       "        text-align: right;\n",
       "    }\n",
       "</style>\n",
       "<table border=\"1\" class=\"dataframe\">\n",
       "  <thead>\n",
       "    <tr style=\"text-align: right;\">\n",
       "      <th></th>\n",
       "      <th>Ali</th>\n",
       "      <th>Veli</th>\n",
       "      <th>Semih</th>\n",
       "      <th>Zehra</th>\n",
       "    </tr>\n",
       "  </thead>\n",
       "  <tbody>\n",
       "    <tr>\n",
       "      <th>0</th>\n",
       "      <td>25</td>\n",
       "      <td>30</td>\n",
       "      <td>50</td>\n",
       "      <td>50</td>\n",
       "    </tr>\n",
       "    <tr>\n",
       "      <th>1</th>\n",
       "      <td>1000</td>\n",
       "      <td>2000</td>\n",
       "      <td>3000</td>\n",
       "      <td>4000</td>\n",
       "    </tr>\n",
       "    <tr>\n",
       "      <th>2</th>\n",
       "      <td>0</td>\n",
       "      <td>2</td>\n",
       "      <td>1</td>\n",
       "      <td>1</td>\n",
       "    </tr>\n",
       "  </tbody>\n",
       "</table>\n",
       "</div>"
      ],
      "text/plain": [
       "    Ali  Veli  Semih  Zehra\n",
       "0    25    30     50     50\n",
       "1  1000  2000   3000   4000\n",
       "2     0     2      1      1"
      ]
     },
     "execution_count": 676,
     "metadata": {},
     "output_type": "execute_result"
    }
   ],
   "source": [
    "df"
   ]
  },
  {
   "cell_type": "code",
   "execution_count": 677,
   "id": "b8bb59cb",
   "metadata": {},
   "outputs": [
    {
     "data": {
      "text/plain": [
       "Index(['Ali', 'Veli', 'Semih', 'Zehra'], dtype='object')"
      ]
     },
     "execution_count": 677,
     "metadata": {},
     "output_type": "execute_result"
    }
   ],
   "source": [
    "df.columns"
   ]
  },
  {
   "cell_type": "code",
   "execution_count": 681,
   "id": "f4b36fd1",
   "metadata": {},
   "outputs": [
    {
     "data": {
      "text/html": [
       "<div>\n",
       "<style scoped>\n",
       "    .dataframe tbody tr th:only-of-type {\n",
       "        vertical-align: middle;\n",
       "    }\n",
       "\n",
       "    .dataframe tbody tr th {\n",
       "        vertical-align: top;\n",
       "    }\n",
       "\n",
       "    .dataframe thead th {\n",
       "        text-align: right;\n",
       "    }\n",
       "</style>\n",
       "<table border=\"1\" class=\"dataframe\">\n",
       "  <thead>\n",
       "    <tr style=\"text-align: right;\">\n",
       "      <th></th>\n",
       "      <th>Ali1</th>\n",
       "      <th>Veli1</th>\n",
       "      <th>Semih1</th>\n",
       "      <th>Zehra1</th>\n",
       "    </tr>\n",
       "  </thead>\n",
       "  <tbody>\n",
       "    <tr>\n",
       "      <th>0</th>\n",
       "      <td>25</td>\n",
       "      <td>30</td>\n",
       "      <td>50</td>\n",
       "      <td>50</td>\n",
       "    </tr>\n",
       "    <tr>\n",
       "      <th>1</th>\n",
       "      <td>1000</td>\n",
       "      <td>2000</td>\n",
       "      <td>3000</td>\n",
       "      <td>4000</td>\n",
       "    </tr>\n",
       "    <tr>\n",
       "      <th>2</th>\n",
       "      <td>0</td>\n",
       "      <td>2</td>\n",
       "      <td>1</td>\n",
       "      <td>1</td>\n",
       "    </tr>\n",
       "  </tbody>\n",
       "</table>\n",
       "</div>"
      ],
      "text/plain": [
       "   Ali1  Veli1  Semih1  Zehra1\n",
       "0    25     30      50      50\n",
       "1  1000   2000    3000    4000\n",
       "2     0      2       1       1"
      ]
     },
     "execution_count": 681,
     "metadata": {},
     "output_type": "execute_result"
    }
   ],
   "source": [
    "df.columns = ['Ali1', 'Veli1', 'Semih1', 'Zehra1']\n",
    "df"
   ]
  },
  {
   "cell_type": "code",
   "execution_count": 679,
   "id": "88ad16b9",
   "metadata": {},
   "outputs": [
    {
     "data": {
      "text/plain": [
       "RangeIndex(start=0, stop=3, step=1)"
      ]
     },
     "execution_count": 679,
     "metadata": {},
     "output_type": "execute_result"
    }
   ],
   "source": [
    "df.index"
   ]
  },
  {
   "cell_type": "code",
   "execution_count": 682,
   "id": "8927f59b",
   "metadata": {},
   "outputs": [
    {
     "data": {
      "text/html": [
       "<div>\n",
       "<style scoped>\n",
       "    .dataframe tbody tr th:only-of-type {\n",
       "        vertical-align: middle;\n",
       "    }\n",
       "\n",
       "    .dataframe tbody tr th {\n",
       "        vertical-align: top;\n",
       "    }\n",
       "\n",
       "    .dataframe thead th {\n",
       "        text-align: right;\n",
       "    }\n",
       "</style>\n",
       "<table border=\"1\" class=\"dataframe\">\n",
       "  <thead>\n",
       "    <tr style=\"text-align: right;\">\n",
       "      <th></th>\n",
       "      <th>Ali1</th>\n",
       "      <th>Veli1</th>\n",
       "      <th>Semih1</th>\n",
       "      <th>Zehra1</th>\n",
       "    </tr>\n",
       "  </thead>\n",
       "  <tbody>\n",
       "    <tr>\n",
       "      <th>A</th>\n",
       "      <td>25</td>\n",
       "      <td>30</td>\n",
       "      <td>50</td>\n",
       "      <td>50</td>\n",
       "    </tr>\n",
       "    <tr>\n",
       "      <th>V</th>\n",
       "      <td>1000</td>\n",
       "      <td>2000</td>\n",
       "      <td>3000</td>\n",
       "      <td>4000</td>\n",
       "    </tr>\n",
       "    <tr>\n",
       "      <th>S</th>\n",
       "      <td>0</td>\n",
       "      <td>2</td>\n",
       "      <td>1</td>\n",
       "      <td>1</td>\n",
       "    </tr>\n",
       "  </tbody>\n",
       "</table>\n",
       "</div>"
      ],
      "text/plain": [
       "   Ali1  Veli1  Semih1  Zehra1\n",
       "A    25     30      50      50\n",
       "V  1000   2000    3000    4000\n",
       "S     0      2       1       1"
      ]
     },
     "execution_count": 682,
     "metadata": {},
     "output_type": "execute_result"
    }
   ],
   "source": [
    "df.index = ['A', 'V', 'S']\n",
    "df"
   ]
  },
  {
   "cell_type": "code",
   "execution_count": 683,
   "id": "cedef4fb",
   "metadata": {},
   "outputs": [
    {
     "data": {
      "text/plain": [
       "array([[  25,   30,   50,   50],\n",
       "       [1000, 2000, 3000, 4000],\n",
       "       [   0,    2,    1,    1]])"
      ]
     },
     "execution_count": 683,
     "metadata": {},
     "output_type": "execute_result"
    }
   ],
   "source": [
    "df.values"
   ]
  },
  {
   "cell_type": "code",
   "execution_count": 684,
   "id": "458d7cd9",
   "metadata": {},
   "outputs": [
    {
     "data": {
      "text/html": [
       "<div>\n",
       "<style scoped>\n",
       "    .dataframe tbody tr th:only-of-type {\n",
       "        vertical-align: middle;\n",
       "    }\n",
       "\n",
       "    .dataframe tbody tr th {\n",
       "        vertical-align: top;\n",
       "    }\n",
       "\n",
       "    .dataframe thead th {\n",
       "        text-align: right;\n",
       "    }\n",
       "</style>\n",
       "<table border=\"1\" class=\"dataframe\">\n",
       "  <thead>\n",
       "    <tr style=\"text-align: right;\">\n",
       "      <th></th>\n",
       "      <th>Ali1</th>\n",
       "      <th>Veli1</th>\n",
       "      <th>Semih1</th>\n",
       "      <th>Zehra1</th>\n",
       "    </tr>\n",
       "  </thead>\n",
       "  <tbody>\n",
       "    <tr>\n",
       "      <th>A</th>\n",
       "      <td>25</td>\n",
       "      <td>30</td>\n",
       "      <td>50</td>\n",
       "      <td>50</td>\n",
       "    </tr>\n",
       "    <tr>\n",
       "      <th>V</th>\n",
       "      <td>1000</td>\n",
       "      <td>2000</td>\n",
       "      <td>3000</td>\n",
       "      <td>4000</td>\n",
       "    </tr>\n",
       "    <tr>\n",
       "      <th>S</th>\n",
       "      <td>0</td>\n",
       "      <td>2</td>\n",
       "      <td>1</td>\n",
       "      <td>1</td>\n",
       "    </tr>\n",
       "  </tbody>\n",
       "</table>\n",
       "</div>"
      ],
      "text/plain": [
       "   Ali1  Veli1  Semih1  Zehra1\n",
       "A    25     30      50      50\n",
       "V  1000   2000    3000    4000\n",
       "S     0      2       1       1"
      ]
     },
     "execution_count": 684,
     "metadata": {},
     "output_type": "execute_result"
    }
   ],
   "source": [
    "df"
   ]
  },
  {
   "cell_type": "code",
   "execution_count": 686,
   "id": "35d105bf",
   "metadata": {},
   "outputs": [
    {
     "data": {
      "text/html": [
       "<div>\n",
       "<style scoped>\n",
       "    .dataframe tbody tr th:only-of-type {\n",
       "        vertical-align: middle;\n",
       "    }\n",
       "\n",
       "    .dataframe tbody tr th {\n",
       "        vertical-align: top;\n",
       "    }\n",
       "\n",
       "    .dataframe thead th {\n",
       "        text-align: right;\n",
       "    }\n",
       "</style>\n",
       "<table border=\"1\" class=\"dataframe\">\n",
       "  <thead>\n",
       "    <tr style=\"text-align: right;\">\n",
       "      <th></th>\n",
       "      <th>Ali1</th>\n",
       "      <th>Veli1</th>\n",
       "      <th>Semih1</th>\n",
       "      <th>Zehra1</th>\n",
       "    </tr>\n",
       "  </thead>\n",
       "  <tbody>\n",
       "    <tr>\n",
       "      <th>A</th>\n",
       "      <td>25</td>\n",
       "      <td>30</td>\n",
       "      <td>50</td>\n",
       "      <td>50</td>\n",
       "    </tr>\n",
       "    <tr>\n",
       "      <th>V</th>\n",
       "      <td>1000</td>\n",
       "      <td>2000</td>\n",
       "      <td>3000</td>\n",
       "      <td>4000</td>\n",
       "    </tr>\n",
       "    <tr>\n",
       "      <th>S</th>\n",
       "      <td>0</td>\n",
       "      <td>2</td>\n",
       "      <td>1</td>\n",
       "      <td>1</td>\n",
       "    </tr>\n",
       "  </tbody>\n",
       "</table>\n",
       "</div>"
      ],
      "text/plain": [
       "   Ali1  Veli1  Semih1  Zehra1\n",
       "A    25     30      50      50\n",
       "V  1000   2000    3000    4000\n",
       "S     0      2       1       1"
      ]
     },
     "execution_count": 686,
     "metadata": {},
     "output_type": "execute_result"
    }
   ],
   "source": [
    "df.head(3)"
   ]
  },
  {
   "cell_type": "code",
   "execution_count": 687,
   "id": "e692e2fb",
   "metadata": {},
   "outputs": [
    {
     "data": {
      "text/html": [
       "<div>\n",
       "<style scoped>\n",
       "    .dataframe tbody tr th:only-of-type {\n",
       "        vertical-align: middle;\n",
       "    }\n",
       "\n",
       "    .dataframe tbody tr th {\n",
       "        vertical-align: top;\n",
       "    }\n",
       "\n",
       "    .dataframe thead th {\n",
       "        text-align: right;\n",
       "    }\n",
       "</style>\n",
       "<table border=\"1\" class=\"dataframe\">\n",
       "  <thead>\n",
       "    <tr style=\"text-align: right;\">\n",
       "      <th></th>\n",
       "      <th>Ali1</th>\n",
       "      <th>Veli1</th>\n",
       "      <th>Semih1</th>\n",
       "      <th>Zehra1</th>\n",
       "    </tr>\n",
       "  </thead>\n",
       "  <tbody>\n",
       "    <tr>\n",
       "      <th>V</th>\n",
       "      <td>1000</td>\n",
       "      <td>2000</td>\n",
       "      <td>3000</td>\n",
       "      <td>4000</td>\n",
       "    </tr>\n",
       "    <tr>\n",
       "      <th>S</th>\n",
       "      <td>0</td>\n",
       "      <td>2</td>\n",
       "      <td>1</td>\n",
       "      <td>1</td>\n",
       "    </tr>\n",
       "  </tbody>\n",
       "</table>\n",
       "</div>"
      ],
      "text/plain": [
       "   Ali1  Veli1  Semih1  Zehra1\n",
       "V  1000   2000    3000    4000\n",
       "S     0      2       1       1"
      ]
     },
     "execution_count": 687,
     "metadata": {},
     "output_type": "execute_result"
    }
   ],
   "source": [
    "df.tail(2)"
   ]
  },
  {
   "cell_type": "code",
   "execution_count": 688,
   "id": "57ec1758",
   "metadata": {},
   "outputs": [
    {
     "data": {
      "text/plain": [
       "array([1, 2, 3, 4, 5, 6, 7, 8, 9])"
      ]
     },
     "execution_count": 688,
     "metadata": {},
     "output_type": "execute_result"
    }
   ],
   "source": [
    "np.arange(1,10)"
   ]
  },
  {
   "cell_type": "code",
   "execution_count": 694,
   "id": "a81d28d0",
   "metadata": {},
   "outputs": [
    {
     "data": {
      "text/plain": [
       "array([[1, 2, 3],\n",
       "       [4, 5, 6],\n",
       "       [7, 8, 9]])"
      ]
     },
     "execution_count": 694,
     "metadata": {},
     "output_type": "execute_result"
    }
   ],
   "source": [
    "np.arange(1,10).reshape((3,3))"
   ]
  },
  {
   "cell_type": "code",
   "execution_count": 700,
   "id": "56aa8616",
   "metadata": {},
   "outputs": [
    {
     "data": {
      "text/plain": [
       "array([[ 1,  2,  3],\n",
       "       [ 4,  5,  6],\n",
       "       [ 7,  8,  9],\n",
       "       [10, 11, 12],\n",
       "       [13, 14, 15],\n",
       "       [16, 17, 18],\n",
       "       [19, 20, 21],\n",
       "       [22, 23, 24],\n",
       "       [25, 26, 27]])"
      ]
     },
     "execution_count": 700,
     "metadata": {},
     "output_type": "execute_result"
    }
   ],
   "source": [
    "np.arange(1,28).reshape((9,3))"
   ]
  },
  {
   "cell_type": "code",
   "execution_count": 697,
   "id": "302de2d1",
   "metadata": {},
   "outputs": [
    {
     "data": {
      "text/html": [
       "<div>\n",
       "<style scoped>\n",
       "    .dataframe tbody tr th:only-of-type {\n",
       "        vertical-align: middle;\n",
       "    }\n",
       "\n",
       "    .dataframe tbody tr th {\n",
       "        vertical-align: top;\n",
       "    }\n",
       "\n",
       "    .dataframe thead th {\n",
       "        text-align: right;\n",
       "    }\n",
       "</style>\n",
       "<table border=\"1\" class=\"dataframe\">\n",
       "  <thead>\n",
       "    <tr style=\"text-align: right;\">\n",
       "      <th></th>\n",
       "      <th>A</th>\n",
       "      <th>B</th>\n",
       "      <th>C</th>\n",
       "    </tr>\n",
       "  </thead>\n",
       "  <tbody>\n",
       "    <tr>\n",
       "      <th>0</th>\n",
       "      <td>1</td>\n",
       "      <td>2</td>\n",
       "      <td>3</td>\n",
       "    </tr>\n",
       "    <tr>\n",
       "      <th>1</th>\n",
       "      <td>4</td>\n",
       "      <td>5</td>\n",
       "      <td>6</td>\n",
       "    </tr>\n",
       "    <tr>\n",
       "      <th>2</th>\n",
       "      <td>7</td>\n",
       "      <td>8</td>\n",
       "      <td>9</td>\n",
       "    </tr>\n",
       "  </tbody>\n",
       "</table>\n",
       "</div>"
      ],
      "text/plain": [
       "   A  B  C\n",
       "0  1  2  3\n",
       "1  4  5  6\n",
       "2  7  8  9"
      ]
     },
     "execution_count": 697,
     "metadata": {},
     "output_type": "execute_result"
    }
   ],
   "source": [
    "pd.DataFrame(\n",
    "    np.arange(1,10).reshape((3,3))\n",
    "    ,columns = [\"A\",\"B\",\"C\"])"
   ]
  },
  {
   "cell_type": "code",
   "execution_count": null,
   "id": "8f9445b5",
   "metadata": {},
   "outputs": [],
   "source": [
    "arrayim = np.arange(1,10).reshape((3,3))"
   ]
  },
  {
   "cell_type": "code",
   "execution_count": 704,
   "id": "86313dc0",
   "metadata": {},
   "outputs": [],
   "source": [
    "arr = np.arange(1,100).reshape((33,3))"
   ]
  },
  {
   "cell_type": "code",
   "execution_count": 705,
   "id": "82e02db2",
   "metadata": {},
   "outputs": [
    {
     "data": {
      "text/plain": [
       "array([[ 1,  2,  3],\n",
       "       [ 4,  5,  6],\n",
       "       [ 7,  8,  9],\n",
       "       [10, 11, 12],\n",
       "       [13, 14, 15],\n",
       "       [16, 17, 18],\n",
       "       [19, 20, 21],\n",
       "       [22, 23, 24],\n",
       "       [25, 26, 27],\n",
       "       [28, 29, 30],\n",
       "       [31, 32, 33],\n",
       "       [34, 35, 36],\n",
       "       [37, 38, 39],\n",
       "       [40, 41, 42],\n",
       "       [43, 44, 45],\n",
       "       [46, 47, 48],\n",
       "       [49, 50, 51],\n",
       "       [52, 53, 54],\n",
       "       [55, 56, 57],\n",
       "       [58, 59, 60],\n",
       "       [61, 62, 63],\n",
       "       [64, 65, 66],\n",
       "       [67, 68, 69],\n",
       "       [70, 71, 72],\n",
       "       [73, 74, 75],\n",
       "       [76, 77, 78],\n",
       "       [79, 80, 81],\n",
       "       [82, 83, 84],\n",
       "       [85, 86, 87],\n",
       "       [88, 89, 90],\n",
       "       [91, 92, 93],\n",
       "       [94, 95, 96],\n",
       "       [97, 98, 99]])"
      ]
     },
     "execution_count": 705,
     "metadata": {},
     "output_type": "execute_result"
    }
   ],
   "source": [
    "arr"
   ]
  },
  {
   "cell_type": "code",
   "execution_count": 706,
   "id": "d281122e",
   "metadata": {},
   "outputs": [
    {
     "data": {
      "text/html": [
       "<div>\n",
       "<style scoped>\n",
       "    .dataframe tbody tr th:only-of-type {\n",
       "        vertical-align: middle;\n",
       "    }\n",
       "\n",
       "    .dataframe tbody tr th {\n",
       "        vertical-align: top;\n",
       "    }\n",
       "\n",
       "    .dataframe thead th {\n",
       "        text-align: right;\n",
       "    }\n",
       "</style>\n",
       "<table border=\"1\" class=\"dataframe\">\n",
       "  <thead>\n",
       "    <tr style=\"text-align: right;\">\n",
       "      <th></th>\n",
       "      <th>Age</th>\n",
       "      <th>Gender</th>\n",
       "      <th>Income</th>\n",
       "    </tr>\n",
       "  </thead>\n",
       "  <tbody>\n",
       "    <tr>\n",
       "      <th>0</th>\n",
       "      <td>1</td>\n",
       "      <td>2</td>\n",
       "      <td>3</td>\n",
       "    </tr>\n",
       "    <tr>\n",
       "      <th>1</th>\n",
       "      <td>4</td>\n",
       "      <td>5</td>\n",
       "      <td>6</td>\n",
       "    </tr>\n",
       "    <tr>\n",
       "      <th>2</th>\n",
       "      <td>7</td>\n",
       "      <td>8</td>\n",
       "      <td>9</td>\n",
       "    </tr>\n",
       "    <tr>\n",
       "      <th>3</th>\n",
       "      <td>10</td>\n",
       "      <td>11</td>\n",
       "      <td>12</td>\n",
       "    </tr>\n",
       "    <tr>\n",
       "      <th>4</th>\n",
       "      <td>13</td>\n",
       "      <td>14</td>\n",
       "      <td>15</td>\n",
       "    </tr>\n",
       "    <tr>\n",
       "      <th>5</th>\n",
       "      <td>16</td>\n",
       "      <td>17</td>\n",
       "      <td>18</td>\n",
       "    </tr>\n",
       "    <tr>\n",
       "      <th>6</th>\n",
       "      <td>19</td>\n",
       "      <td>20</td>\n",
       "      <td>21</td>\n",
       "    </tr>\n",
       "    <tr>\n",
       "      <th>7</th>\n",
       "      <td>22</td>\n",
       "      <td>23</td>\n",
       "      <td>24</td>\n",
       "    </tr>\n",
       "    <tr>\n",
       "      <th>8</th>\n",
       "      <td>25</td>\n",
       "      <td>26</td>\n",
       "      <td>27</td>\n",
       "    </tr>\n",
       "    <tr>\n",
       "      <th>9</th>\n",
       "      <td>28</td>\n",
       "      <td>29</td>\n",
       "      <td>30</td>\n",
       "    </tr>\n",
       "    <tr>\n",
       "      <th>10</th>\n",
       "      <td>31</td>\n",
       "      <td>32</td>\n",
       "      <td>33</td>\n",
       "    </tr>\n",
       "    <tr>\n",
       "      <th>11</th>\n",
       "      <td>34</td>\n",
       "      <td>35</td>\n",
       "      <td>36</td>\n",
       "    </tr>\n",
       "    <tr>\n",
       "      <th>12</th>\n",
       "      <td>37</td>\n",
       "      <td>38</td>\n",
       "      <td>39</td>\n",
       "    </tr>\n",
       "    <tr>\n",
       "      <th>13</th>\n",
       "      <td>40</td>\n",
       "      <td>41</td>\n",
       "      <td>42</td>\n",
       "    </tr>\n",
       "    <tr>\n",
       "      <th>14</th>\n",
       "      <td>43</td>\n",
       "      <td>44</td>\n",
       "      <td>45</td>\n",
       "    </tr>\n",
       "    <tr>\n",
       "      <th>15</th>\n",
       "      <td>46</td>\n",
       "      <td>47</td>\n",
       "      <td>48</td>\n",
       "    </tr>\n",
       "    <tr>\n",
       "      <th>16</th>\n",
       "      <td>49</td>\n",
       "      <td>50</td>\n",
       "      <td>51</td>\n",
       "    </tr>\n",
       "    <tr>\n",
       "      <th>17</th>\n",
       "      <td>52</td>\n",
       "      <td>53</td>\n",
       "      <td>54</td>\n",
       "    </tr>\n",
       "    <tr>\n",
       "      <th>18</th>\n",
       "      <td>55</td>\n",
       "      <td>56</td>\n",
       "      <td>57</td>\n",
       "    </tr>\n",
       "    <tr>\n",
       "      <th>19</th>\n",
       "      <td>58</td>\n",
       "      <td>59</td>\n",
       "      <td>60</td>\n",
       "    </tr>\n",
       "    <tr>\n",
       "      <th>20</th>\n",
       "      <td>61</td>\n",
       "      <td>62</td>\n",
       "      <td>63</td>\n",
       "    </tr>\n",
       "    <tr>\n",
       "      <th>21</th>\n",
       "      <td>64</td>\n",
       "      <td>65</td>\n",
       "      <td>66</td>\n",
       "    </tr>\n",
       "    <tr>\n",
       "      <th>22</th>\n",
       "      <td>67</td>\n",
       "      <td>68</td>\n",
       "      <td>69</td>\n",
       "    </tr>\n",
       "    <tr>\n",
       "      <th>23</th>\n",
       "      <td>70</td>\n",
       "      <td>71</td>\n",
       "      <td>72</td>\n",
       "    </tr>\n",
       "    <tr>\n",
       "      <th>24</th>\n",
       "      <td>73</td>\n",
       "      <td>74</td>\n",
       "      <td>75</td>\n",
       "    </tr>\n",
       "    <tr>\n",
       "      <th>25</th>\n",
       "      <td>76</td>\n",
       "      <td>77</td>\n",
       "      <td>78</td>\n",
       "    </tr>\n",
       "    <tr>\n",
       "      <th>26</th>\n",
       "      <td>79</td>\n",
       "      <td>80</td>\n",
       "      <td>81</td>\n",
       "    </tr>\n",
       "    <tr>\n",
       "      <th>27</th>\n",
       "      <td>82</td>\n",
       "      <td>83</td>\n",
       "      <td>84</td>\n",
       "    </tr>\n",
       "    <tr>\n",
       "      <th>28</th>\n",
       "      <td>85</td>\n",
       "      <td>86</td>\n",
       "      <td>87</td>\n",
       "    </tr>\n",
       "    <tr>\n",
       "      <th>29</th>\n",
       "      <td>88</td>\n",
       "      <td>89</td>\n",
       "      <td>90</td>\n",
       "    </tr>\n",
       "    <tr>\n",
       "      <th>30</th>\n",
       "      <td>91</td>\n",
       "      <td>92</td>\n",
       "      <td>93</td>\n",
       "    </tr>\n",
       "    <tr>\n",
       "      <th>31</th>\n",
       "      <td>94</td>\n",
       "      <td>95</td>\n",
       "      <td>96</td>\n",
       "    </tr>\n",
       "    <tr>\n",
       "      <th>32</th>\n",
       "      <td>97</td>\n",
       "      <td>98</td>\n",
       "      <td>99</td>\n",
       "    </tr>\n",
       "  </tbody>\n",
       "</table>\n",
       "</div>"
      ],
      "text/plain": [
       "    Age  Gender  Income\n",
       "0     1       2       3\n",
       "1     4       5       6\n",
       "2     7       8       9\n",
       "3    10      11      12\n",
       "4    13      14      15\n",
       "5    16      17      18\n",
       "6    19      20      21\n",
       "7    22      23      24\n",
       "8    25      26      27\n",
       "9    28      29      30\n",
       "10   31      32      33\n",
       "11   34      35      36\n",
       "12   37      38      39\n",
       "13   40      41      42\n",
       "14   43      44      45\n",
       "15   46      47      48\n",
       "16   49      50      51\n",
       "17   52      53      54\n",
       "18   55      56      57\n",
       "19   58      59      60\n",
       "20   61      62      63\n",
       "21   64      65      66\n",
       "22   67      68      69\n",
       "23   70      71      72\n",
       "24   73      74      75\n",
       "25   76      77      78\n",
       "26   79      80      81\n",
       "27   82      83      84\n",
       "28   85      86      87\n",
       "29   88      89      90\n",
       "30   91      92      93\n",
       "31   94      95      96\n",
       "32   97      98      99"
      ]
     },
     "execution_count": 706,
     "metadata": {},
     "output_type": "execute_result"
    }
   ],
   "source": [
    "pd.DataFrame(arr,columns = [\"Age\",\"Gender\",\"Income\"])"
   ]
  },
  {
   "cell_type": "code",
   "execution_count": 707,
   "id": "6ae03763",
   "metadata": {},
   "outputs": [],
   "source": [
    "df = pd.DataFrame(arr,columns = [\"Age\",\"Gender\",\"Income\"])"
   ]
  },
  {
   "cell_type": "code",
   "execution_count": 709,
   "id": "f257db56",
   "metadata": {},
   "outputs": [
    {
     "data": {
      "text/html": [
       "<div>\n",
       "<style scoped>\n",
       "    .dataframe tbody tr th:only-of-type {\n",
       "        vertical-align: middle;\n",
       "    }\n",
       "\n",
       "    .dataframe tbody tr th {\n",
       "        vertical-align: top;\n",
       "    }\n",
       "\n",
       "    .dataframe thead th {\n",
       "        text-align: right;\n",
       "    }\n",
       "</style>\n",
       "<table border=\"1\" class=\"dataframe\">\n",
       "  <thead>\n",
       "    <tr style=\"text-align: right;\">\n",
       "      <th></th>\n",
       "      <th>Age</th>\n",
       "      <th>Gender</th>\n",
       "      <th>Income</th>\n",
       "    </tr>\n",
       "  </thead>\n",
       "  <tbody>\n",
       "    <tr>\n",
       "      <th>0</th>\n",
       "      <td>1</td>\n",
       "      <td>2</td>\n",
       "      <td>3</td>\n",
       "    </tr>\n",
       "    <tr>\n",
       "      <th>1</th>\n",
       "      <td>4</td>\n",
       "      <td>5</td>\n",
       "      <td>6</td>\n",
       "    </tr>\n",
       "    <tr>\n",
       "      <th>2</th>\n",
       "      <td>7</td>\n",
       "      <td>8</td>\n",
       "      <td>9</td>\n",
       "    </tr>\n",
       "    <tr>\n",
       "      <th>3</th>\n",
       "      <td>10</td>\n",
       "      <td>11</td>\n",
       "      <td>12</td>\n",
       "    </tr>\n",
       "    <tr>\n",
       "      <th>4</th>\n",
       "      <td>13</td>\n",
       "      <td>14</td>\n",
       "      <td>15</td>\n",
       "    </tr>\n",
       "  </tbody>\n",
       "</table>\n",
       "</div>"
      ],
      "text/plain": [
       "   Age  Gender  Income\n",
       "0    1       2       3\n",
       "1    4       5       6\n",
       "2    7       8       9\n",
       "3   10      11      12\n",
       "4   13      14      15"
      ]
     },
     "execution_count": 709,
     "metadata": {},
     "output_type": "execute_result"
    }
   ],
   "source": [
    "df.head()"
   ]
  },
  {
   "cell_type": "code",
   "execution_count": 710,
   "id": "28766e1f",
   "metadata": {},
   "outputs": [
    {
     "data": {
      "text/html": [
       "<div>\n",
       "<style scoped>\n",
       "    .dataframe tbody tr th:only-of-type {\n",
       "        vertical-align: middle;\n",
       "    }\n",
       "\n",
       "    .dataframe tbody tr th {\n",
       "        vertical-align: top;\n",
       "    }\n",
       "\n",
       "    .dataframe thead th {\n",
       "        text-align: right;\n",
       "    }\n",
       "</style>\n",
       "<table border=\"1\" class=\"dataframe\">\n",
       "  <thead>\n",
       "    <tr style=\"text-align: right;\">\n",
       "      <th></th>\n",
       "      <th>Age</th>\n",
       "      <th>Gender</th>\n",
       "      <th>Income</th>\n",
       "    </tr>\n",
       "  </thead>\n",
       "  <tbody>\n",
       "    <tr>\n",
       "      <th>7</th>\n",
       "      <td>22</td>\n",
       "      <td>23</td>\n",
       "      <td>24</td>\n",
       "    </tr>\n",
       "    <tr>\n",
       "      <th>8</th>\n",
       "      <td>25</td>\n",
       "      <td>26</td>\n",
       "      <td>27</td>\n",
       "    </tr>\n",
       "    <tr>\n",
       "      <th>9</th>\n",
       "      <td>28</td>\n",
       "      <td>29</td>\n",
       "      <td>30</td>\n",
       "    </tr>\n",
       "    <tr>\n",
       "      <th>10</th>\n",
       "      <td>31</td>\n",
       "      <td>32</td>\n",
       "      <td>33</td>\n",
       "    </tr>\n",
       "    <tr>\n",
       "      <th>11</th>\n",
       "      <td>34</td>\n",
       "      <td>35</td>\n",
       "      <td>36</td>\n",
       "    </tr>\n",
       "    <tr>\n",
       "      <th>12</th>\n",
       "      <td>37</td>\n",
       "      <td>38</td>\n",
       "      <td>39</td>\n",
       "    </tr>\n",
       "    <tr>\n",
       "      <th>13</th>\n",
       "      <td>40</td>\n",
       "      <td>41</td>\n",
       "      <td>42</td>\n",
       "    </tr>\n",
       "    <tr>\n",
       "      <th>14</th>\n",
       "      <td>43</td>\n",
       "      <td>44</td>\n",
       "      <td>45</td>\n",
       "    </tr>\n",
       "    <tr>\n",
       "      <th>15</th>\n",
       "      <td>46</td>\n",
       "      <td>47</td>\n",
       "      <td>48</td>\n",
       "    </tr>\n",
       "    <tr>\n",
       "      <th>16</th>\n",
       "      <td>49</td>\n",
       "      <td>50</td>\n",
       "      <td>51</td>\n",
       "    </tr>\n",
       "    <tr>\n",
       "      <th>17</th>\n",
       "      <td>52</td>\n",
       "      <td>53</td>\n",
       "      <td>54</td>\n",
       "    </tr>\n",
       "    <tr>\n",
       "      <th>18</th>\n",
       "      <td>55</td>\n",
       "      <td>56</td>\n",
       "      <td>57</td>\n",
       "    </tr>\n",
       "    <tr>\n",
       "      <th>19</th>\n",
       "      <td>58</td>\n",
       "      <td>59</td>\n",
       "      <td>60</td>\n",
       "    </tr>\n",
       "    <tr>\n",
       "      <th>20</th>\n",
       "      <td>61</td>\n",
       "      <td>62</td>\n",
       "      <td>63</td>\n",
       "    </tr>\n",
       "    <tr>\n",
       "      <th>21</th>\n",
       "      <td>64</td>\n",
       "      <td>65</td>\n",
       "      <td>66</td>\n",
       "    </tr>\n",
       "    <tr>\n",
       "      <th>22</th>\n",
       "      <td>67</td>\n",
       "      <td>68</td>\n",
       "      <td>69</td>\n",
       "    </tr>\n",
       "    <tr>\n",
       "      <th>23</th>\n",
       "      <td>70</td>\n",
       "      <td>71</td>\n",
       "      <td>72</td>\n",
       "    </tr>\n",
       "    <tr>\n",
       "      <th>24</th>\n",
       "      <td>73</td>\n",
       "      <td>74</td>\n",
       "      <td>75</td>\n",
       "    </tr>\n",
       "    <tr>\n",
       "      <th>25</th>\n",
       "      <td>76</td>\n",
       "      <td>77</td>\n",
       "      <td>78</td>\n",
       "    </tr>\n",
       "    <tr>\n",
       "      <th>26</th>\n",
       "      <td>79</td>\n",
       "      <td>80</td>\n",
       "      <td>81</td>\n",
       "    </tr>\n",
       "    <tr>\n",
       "      <th>27</th>\n",
       "      <td>82</td>\n",
       "      <td>83</td>\n",
       "      <td>84</td>\n",
       "    </tr>\n",
       "    <tr>\n",
       "      <th>28</th>\n",
       "      <td>85</td>\n",
       "      <td>86</td>\n",
       "      <td>87</td>\n",
       "    </tr>\n",
       "    <tr>\n",
       "      <th>29</th>\n",
       "      <td>88</td>\n",
       "      <td>89</td>\n",
       "      <td>90</td>\n",
       "    </tr>\n",
       "    <tr>\n",
       "      <th>30</th>\n",
       "      <td>91</td>\n",
       "      <td>92</td>\n",
       "      <td>93</td>\n",
       "    </tr>\n",
       "    <tr>\n",
       "      <th>31</th>\n",
       "      <td>94</td>\n",
       "      <td>95</td>\n",
       "      <td>96</td>\n",
       "    </tr>\n",
       "    <tr>\n",
       "      <th>32</th>\n",
       "      <td>97</td>\n",
       "      <td>98</td>\n",
       "      <td>99</td>\n",
       "    </tr>\n",
       "  </tbody>\n",
       "</table>\n",
       "</div>"
      ],
      "text/plain": [
       "    Age  Gender  Income\n",
       "7    22      23      24\n",
       "8    25      26      27\n",
       "9    28      29      30\n",
       "10   31      32      33\n",
       "11   34      35      36\n",
       "12   37      38      39\n",
       "13   40      41      42\n",
       "14   43      44      45\n",
       "15   46      47      48\n",
       "16   49      50      51\n",
       "17   52      53      54\n",
       "18   55      56      57\n",
       "19   58      59      60\n",
       "20   61      62      63\n",
       "21   64      65      66\n",
       "22   67      68      69\n",
       "23   70      71      72\n",
       "24   73      74      75\n",
       "25   76      77      78\n",
       "26   79      80      81\n",
       "27   82      83      84\n",
       "28   85      86      87\n",
       "29   88      89      90\n",
       "30   91      92      93\n",
       "31   94      95      96\n",
       "32   97      98      99"
      ]
     },
     "execution_count": 710,
     "metadata": {},
     "output_type": "execute_result"
    }
   ],
   "source": [
    "df[df[\"Age\"]>20]"
   ]
  },
  {
   "cell_type": "code",
   "execution_count": 711,
   "id": "692d7886",
   "metadata": {},
   "outputs": [
    {
     "data": {
      "text/plain": [
       "49.0"
      ]
     },
     "execution_count": 711,
     "metadata": {},
     "output_type": "execute_result"
    }
   ],
   "source": [
    "df[\"Age\"].mean()"
   ]
  },
  {
   "cell_type": "code",
   "execution_count": 712,
   "id": "ed4db09c",
   "metadata": {},
   "outputs": [
    {
     "data": {
      "text/plain": [
       "Age       59.5\n",
       "Gender    60.5\n",
       "Income    61.5\n",
       "dtype: float64"
      ]
     },
     "execution_count": 712,
     "metadata": {},
     "output_type": "execute_result"
    }
   ],
   "source": [
    "df[df[\"Age\"]>20].mean()"
   ]
  },
  {
   "cell_type": "code",
   "execution_count": 713,
   "id": "b3acc339",
   "metadata": {},
   "outputs": [
    {
     "data": {
      "text/html": [
       "<div>\n",
       "<style scoped>\n",
       "    .dataframe tbody tr th:only-of-type {\n",
       "        vertical-align: middle;\n",
       "    }\n",
       "\n",
       "    .dataframe tbody tr th {\n",
       "        vertical-align: top;\n",
       "    }\n",
       "\n",
       "    .dataframe thead th {\n",
       "        text-align: right;\n",
       "    }\n",
       "</style>\n",
       "<table border=\"1\" class=\"dataframe\">\n",
       "  <thead>\n",
       "    <tr style=\"text-align: right;\">\n",
       "      <th></th>\n",
       "      <th>0</th>\n",
       "      <th>1</th>\n",
       "      <th>2</th>\n",
       "    </tr>\n",
       "  </thead>\n",
       "  <tbody>\n",
       "    <tr>\n",
       "      <th>0</th>\n",
       "      <td>1</td>\n",
       "      <td>2</td>\n",
       "      <td>3</td>\n",
       "    </tr>\n",
       "    <tr>\n",
       "      <th>1</th>\n",
       "      <td>4</td>\n",
       "      <td>5</td>\n",
       "      <td>6</td>\n",
       "    </tr>\n",
       "    <tr>\n",
       "      <th>2</th>\n",
       "      <td>7</td>\n",
       "      <td>8</td>\n",
       "      <td>9</td>\n",
       "    </tr>\n",
       "  </tbody>\n",
       "</table>\n",
       "</div>"
      ],
      "text/plain": [
       "   0  1  2\n",
       "0  1  2  3\n",
       "1  4  5  6\n",
       "2  7  8  9"
      ]
     },
     "execution_count": 713,
     "metadata": {},
     "output_type": "execute_result"
    }
   ],
   "source": [
    "pd.DataFrame(np.arange(1,10).reshape((3,3)))"
   ]
  },
  {
   "cell_type": "code",
   "execution_count": 714,
   "id": "ba7068e3",
   "metadata": {},
   "outputs": [
    {
     "data": {
      "text/html": [
       "<div>\n",
       "<style scoped>\n",
       "    .dataframe tbody tr th:only-of-type {\n",
       "        vertical-align: middle;\n",
       "    }\n",
       "\n",
       "    .dataframe tbody tr th {\n",
       "        vertical-align: top;\n",
       "    }\n",
       "\n",
       "    .dataframe thead th {\n",
       "        text-align: right;\n",
       "    }\n",
       "</style>\n",
       "<table border=\"1\" class=\"dataframe\">\n",
       "  <thead>\n",
       "    <tr style=\"text-align: right;\">\n",
       "      <th></th>\n",
       "      <th>a</th>\n",
       "      <th>b</th>\n",
       "      <th>c</th>\n",
       "    </tr>\n",
       "  </thead>\n",
       "  <tbody>\n",
       "    <tr>\n",
       "      <th>0</th>\n",
       "      <td>1</td>\n",
       "      <td>2</td>\n",
       "      <td>3</td>\n",
       "    </tr>\n",
       "    <tr>\n",
       "      <th>1</th>\n",
       "      <td>4</td>\n",
       "      <td>5</td>\n",
       "      <td>6</td>\n",
       "    </tr>\n",
       "    <tr>\n",
       "      <th>2</th>\n",
       "      <td>7</td>\n",
       "      <td>8</td>\n",
       "      <td>9</td>\n",
       "    </tr>\n",
       "  </tbody>\n",
       "</table>\n",
       "</div>"
      ],
      "text/plain": [
       "   a  b  c\n",
       "0  1  2  3\n",
       "1  4  5  6\n",
       "2  7  8  9"
      ]
     },
     "execution_count": 714,
     "metadata": {},
     "output_type": "execute_result"
    }
   ],
   "source": [
    "pd.DataFrame(np.arange(1,10).reshape((3,3)),columns=[\"a\",\"b\",\"c\"])"
   ]
  },
  {
   "cell_type": "code",
   "execution_count": 715,
   "id": "5cfab8b5",
   "metadata": {},
   "outputs": [],
   "source": [
    "df = pd.DataFrame(np.arange(1,10).reshape((3,3)),columns=[\"a\",\"b\",\"c\"])"
   ]
  },
  {
   "cell_type": "code",
   "execution_count": 716,
   "id": "082f8323",
   "metadata": {},
   "outputs": [
    {
     "data": {
      "text/html": [
       "<div>\n",
       "<style scoped>\n",
       "    .dataframe tbody tr th:only-of-type {\n",
       "        vertical-align: middle;\n",
       "    }\n",
       "\n",
       "    .dataframe tbody tr th {\n",
       "        vertical-align: top;\n",
       "    }\n",
       "\n",
       "    .dataframe thead th {\n",
       "        text-align: right;\n",
       "    }\n",
       "</style>\n",
       "<table border=\"1\" class=\"dataframe\">\n",
       "  <thead>\n",
       "    <tr style=\"text-align: right;\">\n",
       "      <th></th>\n",
       "      <th>a</th>\n",
       "      <th>b</th>\n",
       "      <th>c</th>\n",
       "    </tr>\n",
       "  </thead>\n",
       "  <tbody>\n",
       "    <tr>\n",
       "      <th>0</th>\n",
       "      <td>1</td>\n",
       "      <td>2</td>\n",
       "      <td>3</td>\n",
       "    </tr>\n",
       "    <tr>\n",
       "      <th>1</th>\n",
       "      <td>4</td>\n",
       "      <td>5</td>\n",
       "      <td>6</td>\n",
       "    </tr>\n",
       "    <tr>\n",
       "      <th>2</th>\n",
       "      <td>7</td>\n",
       "      <td>8</td>\n",
       "      <td>9</td>\n",
       "    </tr>\n",
       "  </tbody>\n",
       "</table>\n",
       "</div>"
      ],
      "text/plain": [
       "   a  b  c\n",
       "0  1  2  3\n",
       "1  4  5  6\n",
       "2  7  8  9"
      ]
     },
     "execution_count": 716,
     "metadata": {},
     "output_type": "execute_result"
    }
   ],
   "source": [
    "df.head()"
   ]
  },
  {
   "cell_type": "code",
   "execution_count": 717,
   "id": "53af2eea",
   "metadata": {},
   "outputs": [
    {
     "data": {
      "text/plain": [
       "Index(['a', 'b', 'c'], dtype='object')"
      ]
     },
     "execution_count": 717,
     "metadata": {},
     "output_type": "execute_result"
    }
   ],
   "source": [
    "df.columns"
   ]
  },
  {
   "cell_type": "code",
   "execution_count": 718,
   "id": "38b540b1",
   "metadata": {},
   "outputs": [
    {
     "data": {
      "text/plain": [
       "RangeIndex(start=0, stop=3, step=1)"
      ]
     },
     "execution_count": 718,
     "metadata": {},
     "output_type": "execute_result"
    }
   ],
   "source": [
    "df.index"
   ]
  },
  {
   "cell_type": "code",
   "execution_count": 720,
   "id": "24eede7c",
   "metadata": {},
   "outputs": [
    {
     "data": {
      "text/plain": [
       "array([[1, 2, 3],\n",
       "       [4, 5, 6],\n",
       "       [7, 8, 9]])"
      ]
     },
     "execution_count": 720,
     "metadata": {},
     "output_type": "execute_result"
    }
   ],
   "source": [
    "df.values"
   ]
  },
  {
   "cell_type": "code",
   "execution_count": 721,
   "id": "481eef93",
   "metadata": {},
   "outputs": [
    {
     "data": {
      "text/plain": [
       "3"
      ]
     },
     "execution_count": 721,
     "metadata": {},
     "output_type": "execute_result"
    }
   ],
   "source": [
    "df.values[0][2]"
   ]
  },
  {
   "cell_type": "code",
   "execution_count": 722,
   "id": "81a1b36b",
   "metadata": {},
   "outputs": [],
   "source": [
    "m = np.arange(1,10).reshape((3,3))"
   ]
  },
  {
   "cell_type": "code",
   "execution_count": 723,
   "id": "b78f20e5",
   "metadata": {},
   "outputs": [
    {
     "data": {
      "text/html": [
       "<div>\n",
       "<style scoped>\n",
       "    .dataframe tbody tr th:only-of-type {\n",
       "        vertical-align: middle;\n",
       "    }\n",
       "\n",
       "    .dataframe tbody tr th {\n",
       "        vertical-align: top;\n",
       "    }\n",
       "\n",
       "    .dataframe thead th {\n",
       "        text-align: right;\n",
       "    }\n",
       "</style>\n",
       "<table border=\"1\" class=\"dataframe\">\n",
       "  <thead>\n",
       "    <tr style=\"text-align: right;\">\n",
       "      <th></th>\n",
       "      <th>0</th>\n",
       "      <th>1</th>\n",
       "      <th>2</th>\n",
       "    </tr>\n",
       "  </thead>\n",
       "  <tbody>\n",
       "    <tr>\n",
       "      <th>0</th>\n",
       "      <td>1</td>\n",
       "      <td>2</td>\n",
       "      <td>3</td>\n",
       "    </tr>\n",
       "    <tr>\n",
       "      <th>1</th>\n",
       "      <td>4</td>\n",
       "      <td>5</td>\n",
       "      <td>6</td>\n",
       "    </tr>\n",
       "    <tr>\n",
       "      <th>2</th>\n",
       "      <td>7</td>\n",
       "      <td>8</td>\n",
       "      <td>9</td>\n",
       "    </tr>\n",
       "  </tbody>\n",
       "</table>\n",
       "</div>"
      ],
      "text/plain": [
       "   0  1  2\n",
       "0  1  2  3\n",
       "1  4  5  6\n",
       "2  7  8  9"
      ]
     },
     "execution_count": 723,
     "metadata": {},
     "output_type": "execute_result"
    }
   ],
   "source": [
    "pd.DataFrame(m)"
   ]
  },
  {
   "cell_type": "code",
   "execution_count": 728,
   "id": "d5909c58",
   "metadata": {},
   "outputs": [],
   "source": [
    "df.columns = [\"Age\",\"Note\",\"Income\"]"
   ]
  },
  {
   "cell_type": "code",
   "execution_count": 725,
   "id": "a84d0fbf",
   "metadata": {},
   "outputs": [
    {
     "data": {
      "text/html": [
       "<div>\n",
       "<style scoped>\n",
       "    .dataframe tbody tr th:only-of-type {\n",
       "        vertical-align: middle;\n",
       "    }\n",
       "\n",
       "    .dataframe tbody tr th {\n",
       "        vertical-align: top;\n",
       "    }\n",
       "\n",
       "    .dataframe thead th {\n",
       "        text-align: right;\n",
       "    }\n",
       "</style>\n",
       "<table border=\"1\" class=\"dataframe\">\n",
       "  <thead>\n",
       "    <tr style=\"text-align: right;\">\n",
       "      <th></th>\n",
       "      <th>Age</th>\n",
       "      <th>Gender</th>\n",
       "      <th>Income</th>\n",
       "    </tr>\n",
       "  </thead>\n",
       "  <tbody>\n",
       "    <tr>\n",
       "      <th>0</th>\n",
       "      <td>1</td>\n",
       "      <td>2</td>\n",
       "      <td>3</td>\n",
       "    </tr>\n",
       "    <tr>\n",
       "      <th>1</th>\n",
       "      <td>4</td>\n",
       "      <td>5</td>\n",
       "      <td>6</td>\n",
       "    </tr>\n",
       "    <tr>\n",
       "      <th>2</th>\n",
       "      <td>7</td>\n",
       "      <td>8</td>\n",
       "      <td>9</td>\n",
       "    </tr>\n",
       "  </tbody>\n",
       "</table>\n",
       "</div>"
      ],
      "text/plain": [
       "   Age  Gender  Income\n",
       "0    1       2       3\n",
       "1    4       5       6\n",
       "2    7       8       9"
      ]
     },
     "execution_count": 725,
     "metadata": {},
     "output_type": "execute_result"
    }
   ],
   "source": [
    "df"
   ]
  },
  {
   "cell_type": "code",
   "execution_count": 729,
   "id": "e826689c",
   "metadata": {},
   "outputs": [],
   "source": [
    "df.index = [\"Fatmanur\",\"Efe\",\"Seda\"]"
   ]
  },
  {
   "cell_type": "code",
   "execution_count": 730,
   "id": "11ae1bc3",
   "metadata": {},
   "outputs": [
    {
     "data": {
      "text/html": [
       "<div>\n",
       "<style scoped>\n",
       "    .dataframe tbody tr th:only-of-type {\n",
       "        vertical-align: middle;\n",
       "    }\n",
       "\n",
       "    .dataframe tbody tr th {\n",
       "        vertical-align: top;\n",
       "    }\n",
       "\n",
       "    .dataframe thead th {\n",
       "        text-align: right;\n",
       "    }\n",
       "</style>\n",
       "<table border=\"1\" class=\"dataframe\">\n",
       "  <thead>\n",
       "    <tr style=\"text-align: right;\">\n",
       "      <th></th>\n",
       "      <th>Age</th>\n",
       "      <th>Note</th>\n",
       "      <th>Income</th>\n",
       "    </tr>\n",
       "  </thead>\n",
       "  <tbody>\n",
       "    <tr>\n",
       "      <th>Fatmanur</th>\n",
       "      <td>1</td>\n",
       "      <td>2</td>\n",
       "      <td>3</td>\n",
       "    </tr>\n",
       "    <tr>\n",
       "      <th>Efe</th>\n",
       "      <td>4</td>\n",
       "      <td>5</td>\n",
       "      <td>6</td>\n",
       "    </tr>\n",
       "    <tr>\n",
       "      <th>Seda</th>\n",
       "      <td>7</td>\n",
       "      <td>8</td>\n",
       "      <td>9</td>\n",
       "    </tr>\n",
       "  </tbody>\n",
       "</table>\n",
       "</div>"
      ],
      "text/plain": [
       "          Age  Note  Income\n",
       "Fatmanur    1     2       3\n",
       "Efe         4     5       6\n",
       "Seda        7     8       9"
      ]
     },
     "execution_count": 730,
     "metadata": {},
     "output_type": "execute_result"
    }
   ],
   "source": [
    "df"
   ]
  },
  {
   "cell_type": "code",
   "execution_count": 731,
   "id": "715527e3",
   "metadata": {},
   "outputs": [
    {
     "data": {
      "text/html": [
       "<div>\n",
       "<style scoped>\n",
       "    .dataframe tbody tr th:only-of-type {\n",
       "        vertical-align: middle;\n",
       "    }\n",
       "\n",
       "    .dataframe tbody tr th {\n",
       "        vertical-align: top;\n",
       "    }\n",
       "\n",
       "    .dataframe thead th {\n",
       "        text-align: right;\n",
       "    }\n",
       "</style>\n",
       "<table border=\"1\" class=\"dataframe\">\n",
       "  <thead>\n",
       "    <tr style=\"text-align: right;\">\n",
       "      <th></th>\n",
       "      <th>Age</th>\n",
       "      <th>Note</th>\n",
       "      <th>Income</th>\n",
       "    </tr>\n",
       "  </thead>\n",
       "  <tbody>\n",
       "    <tr>\n",
       "      <th>Fatmanur</th>\n",
       "      <td>1</td>\n",
       "      <td>2</td>\n",
       "      <td>3</td>\n",
       "    </tr>\n",
       "    <tr>\n",
       "      <th>Efe</th>\n",
       "      <td>4</td>\n",
       "      <td>5</td>\n",
       "      <td>6</td>\n",
       "    </tr>\n",
       "  </tbody>\n",
       "</table>\n",
       "</div>"
      ],
      "text/plain": [
       "          Age  Note  Income\n",
       "Fatmanur    1     2       3\n",
       "Efe         4     5       6"
      ]
     },
     "execution_count": 731,
     "metadata": {},
     "output_type": "execute_result"
    }
   ],
   "source": [
    "df[df[\"Note\"]<8]"
   ]
  },
  {
   "cell_type": "code",
   "execution_count": 732,
   "id": "e309868c",
   "metadata": {},
   "outputs": [
    {
     "data": {
      "text/plain": [
       "Fatmanur    False\n",
       "Efe          True\n",
       "Seda        False\n",
       "dtype: bool"
      ]
     },
     "execution_count": 732,
     "metadata": {},
     "output_type": "execute_result"
    }
   ],
   "source": [
    "(df[\"Note\"]<8) & (df[\"Income\"]>5)"
   ]
  },
  {
   "cell_type": "code",
   "execution_count": 733,
   "id": "785ffd3e",
   "metadata": {},
   "outputs": [
    {
     "data": {
      "text/html": [
       "<div>\n",
       "<style scoped>\n",
       "    .dataframe tbody tr th:only-of-type {\n",
       "        vertical-align: middle;\n",
       "    }\n",
       "\n",
       "    .dataframe tbody tr th {\n",
       "        vertical-align: top;\n",
       "    }\n",
       "\n",
       "    .dataframe thead th {\n",
       "        text-align: right;\n",
       "    }\n",
       "</style>\n",
       "<table border=\"1\" class=\"dataframe\">\n",
       "  <thead>\n",
       "    <tr style=\"text-align: right;\">\n",
       "      <th></th>\n",
       "      <th>Age</th>\n",
       "      <th>Note</th>\n",
       "      <th>Income</th>\n",
       "    </tr>\n",
       "  </thead>\n",
       "  <tbody>\n",
       "    <tr>\n",
       "      <th>Efe</th>\n",
       "      <td>4</td>\n",
       "      <td>5</td>\n",
       "      <td>6</td>\n",
       "    </tr>\n",
       "  </tbody>\n",
       "</table>\n",
       "</div>"
      ],
      "text/plain": [
       "     Age  Note  Income\n",
       "Efe    4     5       6"
      ]
     },
     "execution_count": 733,
     "metadata": {},
     "output_type": "execute_result"
    }
   ],
   "source": [
    "df[(df[\"Note\"]<8) & (df[\"Income\"]>5)]"
   ]
  },
  {
   "cell_type": "code",
   "execution_count": 734,
   "id": "6cff0b38",
   "metadata": {},
   "outputs": [],
   "source": [
    "m = [[1, 2, 3],[4, 5, 6],[7, 8, 9]]"
   ]
  },
  {
   "cell_type": "code",
   "execution_count": 735,
   "id": "a9da92ef",
   "metadata": {},
   "outputs": [
    {
     "data": {
      "text/plain": [
       "[4, 5, 6]"
      ]
     },
     "execution_count": 735,
     "metadata": {},
     "output_type": "execute_result"
    }
   ],
   "source": [
    "m[1]"
   ]
  },
  {
   "cell_type": "code",
   "execution_count": 736,
   "id": "c78b04ff",
   "metadata": {},
   "outputs": [
    {
     "data": {
      "text/plain": [
       "6"
      ]
     },
     "execution_count": 736,
     "metadata": {},
     "output_type": "execute_result"
    }
   ],
   "source": [
    "m[1][2]"
   ]
  },
  {
   "cell_type": "code",
   "execution_count": 737,
   "id": "caa2b86f",
   "metadata": {},
   "outputs": [
    {
     "data": {
      "text/plain": [
       "30"
      ]
     },
     "execution_count": 737,
     "metadata": {},
     "output_type": "execute_result"
    }
   ],
   "source": [
    "m[1][2]*m[1][1]"
   ]
  },
  {
   "cell_type": "code",
   "execution_count": 738,
   "id": "163aa537",
   "metadata": {},
   "outputs": [
    {
     "data": {
      "text/html": [
       "<div>\n",
       "<style scoped>\n",
       "    .dataframe tbody tr th:only-of-type {\n",
       "        vertical-align: middle;\n",
       "    }\n",
       "\n",
       "    .dataframe tbody tr th {\n",
       "        vertical-align: top;\n",
       "    }\n",
       "\n",
       "    .dataframe thead th {\n",
       "        text-align: right;\n",
       "    }\n",
       "</style>\n",
       "<table border=\"1\" class=\"dataframe\">\n",
       "  <thead>\n",
       "    <tr style=\"text-align: right;\">\n",
       "      <th></th>\n",
       "      <th>Age1</th>\n",
       "      <th>Age2</th>\n",
       "      <th>Age3</th>\n",
       "    </tr>\n",
       "  </thead>\n",
       "  <tbody>\n",
       "    <tr>\n",
       "      <th>0</th>\n",
       "      <td>1</td>\n",
       "      <td>2</td>\n",
       "      <td>3</td>\n",
       "    </tr>\n",
       "    <tr>\n",
       "      <th>1</th>\n",
       "      <td>4</td>\n",
       "      <td>5</td>\n",
       "      <td>6</td>\n",
       "    </tr>\n",
       "    <tr>\n",
       "      <th>2</th>\n",
       "      <td>7</td>\n",
       "      <td>8</td>\n",
       "      <td>9</td>\n",
       "    </tr>\n",
       "  </tbody>\n",
       "</table>\n",
       "</div>"
      ],
      "text/plain": [
       "   Age1  Age2  Age3\n",
       "0     1     2     3\n",
       "1     4     5     6\n",
       "2     7     8     9"
      ]
     },
     "execution_count": 738,
     "metadata": {},
     "output_type": "execute_result"
    }
   ],
   "source": [
    "pd.DataFrame(m, columns = [\"Age1\", \"Age2\",\"Age3\"])"
   ]
  },
  {
   "cell_type": "code",
   "execution_count": 739,
   "id": "aae8353e",
   "metadata": {},
   "outputs": [],
   "source": [
    "df = pd.DataFrame(m, columns = [\"Age1\", \"Age2\",\"Age3\"])"
   ]
  },
  {
   "cell_type": "code",
   "execution_count": 740,
   "id": "06343d52",
   "metadata": {},
   "outputs": [
    {
     "data": {
      "text/html": [
       "<div>\n",
       "<style scoped>\n",
       "    .dataframe tbody tr th:only-of-type {\n",
       "        vertical-align: middle;\n",
       "    }\n",
       "\n",
       "    .dataframe tbody tr th {\n",
       "        vertical-align: top;\n",
       "    }\n",
       "\n",
       "    .dataframe thead th {\n",
       "        text-align: right;\n",
       "    }\n",
       "</style>\n",
       "<table border=\"1\" class=\"dataframe\">\n",
       "  <thead>\n",
       "    <tr style=\"text-align: right;\">\n",
       "      <th></th>\n",
       "      <th>Age1</th>\n",
       "      <th>Age2</th>\n",
       "      <th>Age3</th>\n",
       "    </tr>\n",
       "  </thead>\n",
       "  <tbody>\n",
       "    <tr>\n",
       "      <th>0</th>\n",
       "      <td>1</td>\n",
       "      <td>2</td>\n",
       "      <td>3</td>\n",
       "    </tr>\n",
       "    <tr>\n",
       "      <th>1</th>\n",
       "      <td>4</td>\n",
       "      <td>5</td>\n",
       "      <td>6</td>\n",
       "    </tr>\n",
       "    <tr>\n",
       "      <th>2</th>\n",
       "      <td>7</td>\n",
       "      <td>8</td>\n",
       "      <td>9</td>\n",
       "    </tr>\n",
       "  </tbody>\n",
       "</table>\n",
       "</div>"
      ],
      "text/plain": [
       "   Age1  Age2  Age3\n",
       "0     1     2     3\n",
       "1     4     5     6\n",
       "2     7     8     9"
      ]
     },
     "execution_count": 740,
     "metadata": {},
     "output_type": "execute_result"
    }
   ],
   "source": [
    "df"
   ]
  },
  {
   "cell_type": "code",
   "execution_count": 741,
   "id": "a6f58ab5",
   "metadata": {},
   "outputs": [
    {
     "data": {
      "text/plain": [
       "RangeIndex(start=0, stop=3, step=1)"
      ]
     },
     "execution_count": 741,
     "metadata": {},
     "output_type": "execute_result"
    }
   ],
   "source": [
    "df.index"
   ]
  },
  {
   "cell_type": "code",
   "execution_count": 742,
   "id": "06c126be",
   "metadata": {},
   "outputs": [
    {
     "data": {
      "text/plain": [
       "Index(['Age1', 'Age2', 'Age3'], dtype='object')"
      ]
     },
     "execution_count": 742,
     "metadata": {},
     "output_type": "execute_result"
    }
   ],
   "source": [
    "df.columns"
   ]
  },
  {
   "cell_type": "code",
   "execution_count": 744,
   "id": "44139bd6",
   "metadata": {},
   "outputs": [],
   "source": [
    "#df.head()\n",
    "#df.tail()\n",
    "#df.columns\n",
    "#df.index\n",
    "#df.values\n",
    "#df.shape"
   ]
  },
  {
   "cell_type": "code",
   "execution_count": 745,
   "id": "7e2f696d",
   "metadata": {},
   "outputs": [],
   "source": [
    "df = pd.DataFrame(arr,columns = [\"Age\",\"Gender\",\"Income\"])"
   ]
  },
  {
   "cell_type": "code",
   "execution_count": 746,
   "id": "b7918d85",
   "metadata": {},
   "outputs": [
    {
     "data": {
      "text/html": [
       "<div>\n",
       "<style scoped>\n",
       "    .dataframe tbody tr th:only-of-type {\n",
       "        vertical-align: middle;\n",
       "    }\n",
       "\n",
       "    .dataframe tbody tr th {\n",
       "        vertical-align: top;\n",
       "    }\n",
       "\n",
       "    .dataframe thead th {\n",
       "        text-align: right;\n",
       "    }\n",
       "</style>\n",
       "<table border=\"1\" class=\"dataframe\">\n",
       "  <thead>\n",
       "    <tr style=\"text-align: right;\">\n",
       "      <th></th>\n",
       "      <th>Age</th>\n",
       "      <th>Gender</th>\n",
       "      <th>Income</th>\n",
       "    </tr>\n",
       "  </thead>\n",
       "  <tbody>\n",
       "    <tr>\n",
       "      <th>0</th>\n",
       "      <td>1</td>\n",
       "      <td>2</td>\n",
       "      <td>3</td>\n",
       "    </tr>\n",
       "    <tr>\n",
       "      <th>1</th>\n",
       "      <td>4</td>\n",
       "      <td>5</td>\n",
       "      <td>6</td>\n",
       "    </tr>\n",
       "    <tr>\n",
       "      <th>2</th>\n",
       "      <td>7</td>\n",
       "      <td>8</td>\n",
       "      <td>9</td>\n",
       "    </tr>\n",
       "    <tr>\n",
       "      <th>3</th>\n",
       "      <td>10</td>\n",
       "      <td>11</td>\n",
       "      <td>12</td>\n",
       "    </tr>\n",
       "    <tr>\n",
       "      <th>4</th>\n",
       "      <td>13</td>\n",
       "      <td>14</td>\n",
       "      <td>15</td>\n",
       "    </tr>\n",
       "  </tbody>\n",
       "</table>\n",
       "</div>"
      ],
      "text/plain": [
       "   Age  Gender  Income\n",
       "0    1       2       3\n",
       "1    4       5       6\n",
       "2    7       8       9\n",
       "3   10      11      12\n",
       "4   13      14      15"
      ]
     },
     "execution_count": 746,
     "metadata": {},
     "output_type": "execute_result"
    }
   ],
   "source": [
    "df.head()"
   ]
  },
  {
   "cell_type": "markdown",
   "id": "6ade0ca7",
   "metadata": {},
   "source": [
    "### BUZDOLABINDAN DATA ALIYORUZ"
   ]
  },
  {
   "cell_type": "code",
   "execution_count": 747,
   "id": "04d73108",
   "metadata": {},
   "outputs": [],
   "source": [
    "import seaborn as sns"
   ]
  },
  {
   "cell_type": "code",
   "execution_count": null,
   "id": "bda349ed",
   "metadata": {},
   "outputs": [],
   "source": [
    "#list,array,dataframe,if,for,def,numpy,pandas"
   ]
  },
  {
   "cell_type": "code",
   "execution_count": 750,
   "id": "8ad0c265",
   "metadata": {},
   "outputs": [],
   "source": [
    "#sns.load_dataset(\"titanic\")"
   ]
  },
  {
   "cell_type": "code",
   "execution_count": 751,
   "id": "7ebc800a",
   "metadata": {},
   "outputs": [
    {
     "data": {
      "text/html": [
       "<div>\n",
       "<style scoped>\n",
       "    .dataframe tbody tr th:only-of-type {\n",
       "        vertical-align: middle;\n",
       "    }\n",
       "\n",
       "    .dataframe tbody tr th {\n",
       "        vertical-align: top;\n",
       "    }\n",
       "\n",
       "    .dataframe thead th {\n",
       "        text-align: right;\n",
       "    }\n",
       "</style>\n",
       "<table border=\"1\" class=\"dataframe\">\n",
       "  <thead>\n",
       "    <tr style=\"text-align: right;\">\n",
       "      <th></th>\n",
       "      <th>survived</th>\n",
       "      <th>pclass</th>\n",
       "      <th>sex</th>\n",
       "      <th>age</th>\n",
       "      <th>sibsp</th>\n",
       "      <th>parch</th>\n",
       "      <th>fare</th>\n",
       "      <th>embarked</th>\n",
       "      <th>class</th>\n",
       "      <th>who</th>\n",
       "      <th>adult_male</th>\n",
       "      <th>deck</th>\n",
       "      <th>embark_town</th>\n",
       "      <th>alive</th>\n",
       "      <th>alone</th>\n",
       "    </tr>\n",
       "  </thead>\n",
       "  <tbody>\n",
       "    <tr>\n",
       "      <th>0</th>\n",
       "      <td>0</td>\n",
       "      <td>3</td>\n",
       "      <td>male</td>\n",
       "      <td>22.0</td>\n",
       "      <td>1</td>\n",
       "      <td>0</td>\n",
       "      <td>7.2500</td>\n",
       "      <td>S</td>\n",
       "      <td>Third</td>\n",
       "      <td>man</td>\n",
       "      <td>True</td>\n",
       "      <td>NaN</td>\n",
       "      <td>Southampton</td>\n",
       "      <td>no</td>\n",
       "      <td>False</td>\n",
       "    </tr>\n",
       "    <tr>\n",
       "      <th>1</th>\n",
       "      <td>1</td>\n",
       "      <td>1</td>\n",
       "      <td>female</td>\n",
       "      <td>38.0</td>\n",
       "      <td>1</td>\n",
       "      <td>0</td>\n",
       "      <td>71.2833</td>\n",
       "      <td>C</td>\n",
       "      <td>First</td>\n",
       "      <td>woman</td>\n",
       "      <td>False</td>\n",
       "      <td>C</td>\n",
       "      <td>Cherbourg</td>\n",
       "      <td>yes</td>\n",
       "      <td>False</td>\n",
       "    </tr>\n",
       "    <tr>\n",
       "      <th>2</th>\n",
       "      <td>1</td>\n",
       "      <td>3</td>\n",
       "      <td>female</td>\n",
       "      <td>26.0</td>\n",
       "      <td>0</td>\n",
       "      <td>0</td>\n",
       "      <td>7.9250</td>\n",
       "      <td>S</td>\n",
       "      <td>Third</td>\n",
       "      <td>woman</td>\n",
       "      <td>False</td>\n",
       "      <td>NaN</td>\n",
       "      <td>Southampton</td>\n",
       "      <td>yes</td>\n",
       "      <td>True</td>\n",
       "    </tr>\n",
       "    <tr>\n",
       "      <th>3</th>\n",
       "      <td>1</td>\n",
       "      <td>1</td>\n",
       "      <td>female</td>\n",
       "      <td>35.0</td>\n",
       "      <td>1</td>\n",
       "      <td>0</td>\n",
       "      <td>53.1000</td>\n",
       "      <td>S</td>\n",
       "      <td>First</td>\n",
       "      <td>woman</td>\n",
       "      <td>False</td>\n",
       "      <td>C</td>\n",
       "      <td>Southampton</td>\n",
       "      <td>yes</td>\n",
       "      <td>False</td>\n",
       "    </tr>\n",
       "    <tr>\n",
       "      <th>4</th>\n",
       "      <td>0</td>\n",
       "      <td>3</td>\n",
       "      <td>male</td>\n",
       "      <td>35.0</td>\n",
       "      <td>0</td>\n",
       "      <td>0</td>\n",
       "      <td>8.0500</td>\n",
       "      <td>S</td>\n",
       "      <td>Third</td>\n",
       "      <td>man</td>\n",
       "      <td>True</td>\n",
       "      <td>NaN</td>\n",
       "      <td>Southampton</td>\n",
       "      <td>no</td>\n",
       "      <td>True</td>\n",
       "    </tr>\n",
       "    <tr>\n",
       "      <th>...</th>\n",
       "      <td>...</td>\n",
       "      <td>...</td>\n",
       "      <td>...</td>\n",
       "      <td>...</td>\n",
       "      <td>...</td>\n",
       "      <td>...</td>\n",
       "      <td>...</td>\n",
       "      <td>...</td>\n",
       "      <td>...</td>\n",
       "      <td>...</td>\n",
       "      <td>...</td>\n",
       "      <td>...</td>\n",
       "      <td>...</td>\n",
       "      <td>...</td>\n",
       "      <td>...</td>\n",
       "    </tr>\n",
       "    <tr>\n",
       "      <th>886</th>\n",
       "      <td>0</td>\n",
       "      <td>2</td>\n",
       "      <td>male</td>\n",
       "      <td>27.0</td>\n",
       "      <td>0</td>\n",
       "      <td>0</td>\n",
       "      <td>13.0000</td>\n",
       "      <td>S</td>\n",
       "      <td>Second</td>\n",
       "      <td>man</td>\n",
       "      <td>True</td>\n",
       "      <td>NaN</td>\n",
       "      <td>Southampton</td>\n",
       "      <td>no</td>\n",
       "      <td>True</td>\n",
       "    </tr>\n",
       "    <tr>\n",
       "      <th>887</th>\n",
       "      <td>1</td>\n",
       "      <td>1</td>\n",
       "      <td>female</td>\n",
       "      <td>19.0</td>\n",
       "      <td>0</td>\n",
       "      <td>0</td>\n",
       "      <td>30.0000</td>\n",
       "      <td>S</td>\n",
       "      <td>First</td>\n",
       "      <td>woman</td>\n",
       "      <td>False</td>\n",
       "      <td>B</td>\n",
       "      <td>Southampton</td>\n",
       "      <td>yes</td>\n",
       "      <td>True</td>\n",
       "    </tr>\n",
       "    <tr>\n",
       "      <th>888</th>\n",
       "      <td>0</td>\n",
       "      <td>3</td>\n",
       "      <td>female</td>\n",
       "      <td>NaN</td>\n",
       "      <td>1</td>\n",
       "      <td>2</td>\n",
       "      <td>23.4500</td>\n",
       "      <td>S</td>\n",
       "      <td>Third</td>\n",
       "      <td>woman</td>\n",
       "      <td>False</td>\n",
       "      <td>NaN</td>\n",
       "      <td>Southampton</td>\n",
       "      <td>no</td>\n",
       "      <td>False</td>\n",
       "    </tr>\n",
       "    <tr>\n",
       "      <th>889</th>\n",
       "      <td>1</td>\n",
       "      <td>1</td>\n",
       "      <td>male</td>\n",
       "      <td>26.0</td>\n",
       "      <td>0</td>\n",
       "      <td>0</td>\n",
       "      <td>30.0000</td>\n",
       "      <td>C</td>\n",
       "      <td>First</td>\n",
       "      <td>man</td>\n",
       "      <td>True</td>\n",
       "      <td>C</td>\n",
       "      <td>Cherbourg</td>\n",
       "      <td>yes</td>\n",
       "      <td>True</td>\n",
       "    </tr>\n",
       "    <tr>\n",
       "      <th>890</th>\n",
       "      <td>0</td>\n",
       "      <td>3</td>\n",
       "      <td>male</td>\n",
       "      <td>32.0</td>\n",
       "      <td>0</td>\n",
       "      <td>0</td>\n",
       "      <td>7.7500</td>\n",
       "      <td>Q</td>\n",
       "      <td>Third</td>\n",
       "      <td>man</td>\n",
       "      <td>True</td>\n",
       "      <td>NaN</td>\n",
       "      <td>Queenstown</td>\n",
       "      <td>no</td>\n",
       "      <td>True</td>\n",
       "    </tr>\n",
       "  </tbody>\n",
       "</table>\n",
       "<p>891 rows × 15 columns</p>\n",
       "</div>"
      ],
      "text/plain": [
       "     survived  pclass     sex   age  sibsp  parch     fare embarked   class  \\\n",
       "0           0       3    male  22.0      1      0   7.2500        S   Third   \n",
       "1           1       1  female  38.0      1      0  71.2833        C   First   \n",
       "2           1       3  female  26.0      0      0   7.9250        S   Third   \n",
       "3           1       1  female  35.0      1      0  53.1000        S   First   \n",
       "4           0       3    male  35.0      0      0   8.0500        S   Third   \n",
       "..        ...     ...     ...   ...    ...    ...      ...      ...     ...   \n",
       "886         0       2    male  27.0      0      0  13.0000        S  Second   \n",
       "887         1       1  female  19.0      0      0  30.0000        S   First   \n",
       "888         0       3  female   NaN      1      2  23.4500        S   Third   \n",
       "889         1       1    male  26.0      0      0  30.0000        C   First   \n",
       "890         0       3    male  32.0      0      0   7.7500        Q   Third   \n",
       "\n",
       "       who  adult_male deck  embark_town alive  alone  \n",
       "0      man        True  NaN  Southampton    no  False  \n",
       "1    woman       False    C    Cherbourg   yes  False  \n",
       "2    woman       False  NaN  Southampton   yes   True  \n",
       "3    woman       False    C  Southampton   yes  False  \n",
       "4      man        True  NaN  Southampton    no   True  \n",
       "..     ...         ...  ...          ...   ...    ...  \n",
       "886    man        True  NaN  Southampton    no   True  \n",
       "887  woman       False    B  Southampton   yes   True  \n",
       "888  woman       False  NaN  Southampton    no  False  \n",
       "889    man        True    C    Cherbourg   yes   True  \n",
       "890    man        True  NaN   Queenstown    no   True  \n",
       "\n",
       "[891 rows x 15 columns]"
      ]
     },
     "execution_count": 751,
     "metadata": {},
     "output_type": "execute_result"
    }
   ],
   "source": [
    "#sns.load_dataset(\"car_crashes\")\n",
    "#sns.load_dataset(\"Iris\")\n",
    "sns.load_dataset(\"titanic\")"
   ]
  },
  {
   "cell_type": "code",
   "execution_count": 752,
   "id": "e0488d2b",
   "metadata": {},
   "outputs": [],
   "source": [
    "df=sns.load_dataset(\"titanic\")"
   ]
  },
  {
   "cell_type": "code",
   "execution_count": 755,
   "id": "91306245",
   "metadata": {},
   "outputs": [
    {
     "data": {
      "text/html": [
       "<div>\n",
       "<style scoped>\n",
       "    .dataframe tbody tr th:only-of-type {\n",
       "        vertical-align: middle;\n",
       "    }\n",
       "\n",
       "    .dataframe tbody tr th {\n",
       "        vertical-align: top;\n",
       "    }\n",
       "\n",
       "    .dataframe thead th {\n",
       "        text-align: right;\n",
       "    }\n",
       "</style>\n",
       "<table border=\"1\" class=\"dataframe\">\n",
       "  <thead>\n",
       "    <tr style=\"text-align: right;\">\n",
       "      <th></th>\n",
       "      <th>survived</th>\n",
       "      <th>pclass</th>\n",
       "      <th>sex</th>\n",
       "      <th>age</th>\n",
       "      <th>sibsp</th>\n",
       "      <th>parch</th>\n",
       "      <th>fare</th>\n",
       "      <th>embarked</th>\n",
       "      <th>class</th>\n",
       "      <th>who</th>\n",
       "      <th>adult_male</th>\n",
       "      <th>deck</th>\n",
       "      <th>embark_town</th>\n",
       "      <th>alive</th>\n",
       "      <th>alone</th>\n",
       "    </tr>\n",
       "  </thead>\n",
       "  <tbody>\n",
       "    <tr>\n",
       "      <th>0</th>\n",
       "      <td>0</td>\n",
       "      <td>3</td>\n",
       "      <td>male</td>\n",
       "      <td>22.0</td>\n",
       "      <td>1</td>\n",
       "      <td>0</td>\n",
       "      <td>7.2500</td>\n",
       "      <td>S</td>\n",
       "      <td>Third</td>\n",
       "      <td>man</td>\n",
       "      <td>True</td>\n",
       "      <td>NaN</td>\n",
       "      <td>Southampton</td>\n",
       "      <td>no</td>\n",
       "      <td>False</td>\n",
       "    </tr>\n",
       "    <tr>\n",
       "      <th>1</th>\n",
       "      <td>1</td>\n",
       "      <td>1</td>\n",
       "      <td>female</td>\n",
       "      <td>38.0</td>\n",
       "      <td>1</td>\n",
       "      <td>0</td>\n",
       "      <td>71.2833</td>\n",
       "      <td>C</td>\n",
       "      <td>First</td>\n",
       "      <td>woman</td>\n",
       "      <td>False</td>\n",
       "      <td>C</td>\n",
       "      <td>Cherbourg</td>\n",
       "      <td>yes</td>\n",
       "      <td>False</td>\n",
       "    </tr>\n",
       "    <tr>\n",
       "      <th>2</th>\n",
       "      <td>1</td>\n",
       "      <td>3</td>\n",
       "      <td>female</td>\n",
       "      <td>26.0</td>\n",
       "      <td>0</td>\n",
       "      <td>0</td>\n",
       "      <td>7.9250</td>\n",
       "      <td>S</td>\n",
       "      <td>Third</td>\n",
       "      <td>woman</td>\n",
       "      <td>False</td>\n",
       "      <td>NaN</td>\n",
       "      <td>Southampton</td>\n",
       "      <td>yes</td>\n",
       "      <td>True</td>\n",
       "    </tr>\n",
       "    <tr>\n",
       "      <th>3</th>\n",
       "      <td>1</td>\n",
       "      <td>1</td>\n",
       "      <td>female</td>\n",
       "      <td>35.0</td>\n",
       "      <td>1</td>\n",
       "      <td>0</td>\n",
       "      <td>53.1000</td>\n",
       "      <td>S</td>\n",
       "      <td>First</td>\n",
       "      <td>woman</td>\n",
       "      <td>False</td>\n",
       "      <td>C</td>\n",
       "      <td>Southampton</td>\n",
       "      <td>yes</td>\n",
       "      <td>False</td>\n",
       "    </tr>\n",
       "    <tr>\n",
       "      <th>4</th>\n",
       "      <td>0</td>\n",
       "      <td>3</td>\n",
       "      <td>male</td>\n",
       "      <td>35.0</td>\n",
       "      <td>0</td>\n",
       "      <td>0</td>\n",
       "      <td>8.0500</td>\n",
       "      <td>S</td>\n",
       "      <td>Third</td>\n",
       "      <td>man</td>\n",
       "      <td>True</td>\n",
       "      <td>NaN</td>\n",
       "      <td>Southampton</td>\n",
       "      <td>no</td>\n",
       "      <td>True</td>\n",
       "    </tr>\n",
       "  </tbody>\n",
       "</table>\n",
       "</div>"
      ],
      "text/plain": [
       "   survived  pclass     sex   age  sibsp  parch     fare embarked  class  \\\n",
       "0         0       3    male  22.0      1      0   7.2500        S  Third   \n",
       "1         1       1  female  38.0      1      0  71.2833        C  First   \n",
       "2         1       3  female  26.0      0      0   7.9250        S  Third   \n",
       "3         1       1  female  35.0      1      0  53.1000        S  First   \n",
       "4         0       3    male  35.0      0      0   8.0500        S  Third   \n",
       "\n",
       "     who  adult_male deck  embark_town alive  alone  \n",
       "0    man        True  NaN  Southampton    no  False  \n",
       "1  woman       False    C    Cherbourg   yes  False  \n",
       "2  woman       False  NaN  Southampton   yes   True  \n",
       "3  woman       False    C  Southampton   yes  False  \n",
       "4    man        True  NaN  Southampton    no   True  "
      ]
     },
     "execution_count": 755,
     "metadata": {},
     "output_type": "execute_result"
    }
   ],
   "source": [
    "df.head()"
   ]
  },
  {
   "cell_type": "code",
   "execution_count": 757,
   "id": "bb4467fb",
   "metadata": {},
   "outputs": [
    {
     "data": {
      "text/plain": [
       "Index(['survived', 'pclass', 'sex', 'age', 'sibsp', 'parch', 'fare',\n",
       "       'embarked', 'class', 'who', 'adult_male', 'deck', 'embark_town',\n",
       "       'alive', 'alone'],\n",
       "      dtype='object')"
      ]
     },
     "execution_count": 757,
     "metadata": {},
     "output_type": "execute_result"
    }
   ],
   "source": [
    "df.columns"
   ]
  },
  {
   "cell_type": "code",
   "execution_count": 759,
   "id": "150c0e68",
   "metadata": {},
   "outputs": [
    {
     "name": "stdout",
     "output_type": "stream",
     "text": [
      "SURVIVED\n",
      "PCLASS\n",
      "SEX\n",
      "AGE\n",
      "SIBSP\n",
      "PARCH\n",
      "FARE\n",
      "EMBARKED\n",
      "CLASS\n",
      "WHO\n",
      "ADULT_MALE\n",
      "DECK\n",
      "EMBARK_TOWN\n",
      "ALIVE\n",
      "ALONE\n"
     ]
    }
   ],
   "source": [
    "for col in df.columns:\n",
    "    print(col.upper())"
   ]
  },
  {
   "cell_type": "code",
   "execution_count": null,
   "id": "4e331a5f",
   "metadata": {},
   "outputs": [],
   "source": [
    "#shape, head(),index,columns,values"
   ]
  },
  {
   "cell_type": "code",
   "execution_count": 760,
   "id": "b927ad2e",
   "metadata": {},
   "outputs": [
    {
     "data": {
      "text/plain": [
       "(891, 15)"
      ]
     },
     "execution_count": 760,
     "metadata": {},
     "output_type": "execute_result"
    }
   ],
   "source": [
    "df.shape"
   ]
  },
  {
   "cell_type": "code",
   "execution_count": 761,
   "id": "9807b915",
   "metadata": {},
   "outputs": [
    {
     "data": {
      "text/html": [
       "<div>\n",
       "<style scoped>\n",
       "    .dataframe tbody tr th:only-of-type {\n",
       "        vertical-align: middle;\n",
       "    }\n",
       "\n",
       "    .dataframe tbody tr th {\n",
       "        vertical-align: top;\n",
       "    }\n",
       "\n",
       "    .dataframe thead th {\n",
       "        text-align: right;\n",
       "    }\n",
       "</style>\n",
       "<table border=\"1\" class=\"dataframe\">\n",
       "  <thead>\n",
       "    <tr style=\"text-align: right;\">\n",
       "      <th></th>\n",
       "      <th>survived</th>\n",
       "      <th>pclass</th>\n",
       "      <th>sex</th>\n",
       "      <th>age</th>\n",
       "      <th>sibsp</th>\n",
       "      <th>parch</th>\n",
       "      <th>fare</th>\n",
       "      <th>embarked</th>\n",
       "      <th>class</th>\n",
       "      <th>who</th>\n",
       "      <th>adult_male</th>\n",
       "      <th>deck</th>\n",
       "      <th>embark_town</th>\n",
       "      <th>alive</th>\n",
       "      <th>alone</th>\n",
       "    </tr>\n",
       "  </thead>\n",
       "  <tbody>\n",
       "    <tr>\n",
       "      <th>0</th>\n",
       "      <td>0</td>\n",
       "      <td>3</td>\n",
       "      <td>male</td>\n",
       "      <td>22.0</td>\n",
       "      <td>1</td>\n",
       "      <td>0</td>\n",
       "      <td>7.2500</td>\n",
       "      <td>S</td>\n",
       "      <td>Third</td>\n",
       "      <td>man</td>\n",
       "      <td>True</td>\n",
       "      <td>NaN</td>\n",
       "      <td>Southampton</td>\n",
       "      <td>no</td>\n",
       "      <td>False</td>\n",
       "    </tr>\n",
       "    <tr>\n",
       "      <th>1</th>\n",
       "      <td>1</td>\n",
       "      <td>1</td>\n",
       "      <td>female</td>\n",
       "      <td>38.0</td>\n",
       "      <td>1</td>\n",
       "      <td>0</td>\n",
       "      <td>71.2833</td>\n",
       "      <td>C</td>\n",
       "      <td>First</td>\n",
       "      <td>woman</td>\n",
       "      <td>False</td>\n",
       "      <td>C</td>\n",
       "      <td>Cherbourg</td>\n",
       "      <td>yes</td>\n",
       "      <td>False</td>\n",
       "    </tr>\n",
       "    <tr>\n",
       "      <th>2</th>\n",
       "      <td>1</td>\n",
       "      <td>3</td>\n",
       "      <td>female</td>\n",
       "      <td>26.0</td>\n",
       "      <td>0</td>\n",
       "      <td>0</td>\n",
       "      <td>7.9250</td>\n",
       "      <td>S</td>\n",
       "      <td>Third</td>\n",
       "      <td>woman</td>\n",
       "      <td>False</td>\n",
       "      <td>NaN</td>\n",
       "      <td>Southampton</td>\n",
       "      <td>yes</td>\n",
       "      <td>True</td>\n",
       "    </tr>\n",
       "    <tr>\n",
       "      <th>3</th>\n",
       "      <td>1</td>\n",
       "      <td>1</td>\n",
       "      <td>female</td>\n",
       "      <td>35.0</td>\n",
       "      <td>1</td>\n",
       "      <td>0</td>\n",
       "      <td>53.1000</td>\n",
       "      <td>S</td>\n",
       "      <td>First</td>\n",
       "      <td>woman</td>\n",
       "      <td>False</td>\n",
       "      <td>C</td>\n",
       "      <td>Southampton</td>\n",
       "      <td>yes</td>\n",
       "      <td>False</td>\n",
       "    </tr>\n",
       "    <tr>\n",
       "      <th>4</th>\n",
       "      <td>0</td>\n",
       "      <td>3</td>\n",
       "      <td>male</td>\n",
       "      <td>35.0</td>\n",
       "      <td>0</td>\n",
       "      <td>0</td>\n",
       "      <td>8.0500</td>\n",
       "      <td>S</td>\n",
       "      <td>Third</td>\n",
       "      <td>man</td>\n",
       "      <td>True</td>\n",
       "      <td>NaN</td>\n",
       "      <td>Southampton</td>\n",
       "      <td>no</td>\n",
       "      <td>True</td>\n",
       "    </tr>\n",
       "  </tbody>\n",
       "</table>\n",
       "</div>"
      ],
      "text/plain": [
       "   survived  pclass     sex   age  sibsp  parch     fare embarked  class  \\\n",
       "0         0       3    male  22.0      1      0   7.2500        S  Third   \n",
       "1         1       1  female  38.0      1      0  71.2833        C  First   \n",
       "2         1       3  female  26.0      0      0   7.9250        S  Third   \n",
       "3         1       1  female  35.0      1      0  53.1000        S  First   \n",
       "4         0       3    male  35.0      0      0   8.0500        S  Third   \n",
       "\n",
       "     who  adult_male deck  embark_town alive  alone  \n",
       "0    man        True  NaN  Southampton    no  False  \n",
       "1  woman       False    C    Cherbourg   yes  False  \n",
       "2  woman       False  NaN  Southampton   yes   True  \n",
       "3  woman       False    C  Southampton   yes  False  \n",
       "4    man        True  NaN  Southampton    no   True  "
      ]
     },
     "execution_count": 761,
     "metadata": {},
     "output_type": "execute_result"
    }
   ],
   "source": [
    "df.head()"
   ]
  },
  {
   "cell_type": "code",
   "execution_count": 762,
   "id": "1d42a153",
   "metadata": {},
   "outputs": [
    {
     "data": {
      "text/plain": [
       "Index(['survived', 'pclass', 'sex', 'age', 'sibsp', 'parch', 'fare',\n",
       "       'embarked', 'class', 'who', 'adult_male', 'deck', 'embark_town',\n",
       "       'alive', 'alone'],\n",
       "      dtype='object')"
      ]
     },
     "execution_count": 762,
     "metadata": {},
     "output_type": "execute_result"
    }
   ],
   "source": [
    "df.columns"
   ]
  },
  {
   "cell_type": "code",
   "execution_count": 763,
   "id": "3149787a",
   "metadata": {},
   "outputs": [
    {
     "data": {
      "text/plain": [
       "RangeIndex(start=0, stop=891, step=1)"
      ]
     },
     "execution_count": 763,
     "metadata": {},
     "output_type": "execute_result"
    }
   ],
   "source": [
    "df.index"
   ]
  },
  {
   "cell_type": "code",
   "execution_count": 764,
   "id": "a4ab5835",
   "metadata": {},
   "outputs": [
    {
     "data": {
      "text/html": [
       "<div>\n",
       "<style scoped>\n",
       "    .dataframe tbody tr th:only-of-type {\n",
       "        vertical-align: middle;\n",
       "    }\n",
       "\n",
       "    .dataframe tbody tr th {\n",
       "        vertical-align: top;\n",
       "    }\n",
       "\n",
       "    .dataframe thead th {\n",
       "        text-align: right;\n",
       "    }\n",
       "</style>\n",
       "<table border=\"1\" class=\"dataframe\">\n",
       "  <thead>\n",
       "    <tr style=\"text-align: right;\">\n",
       "      <th></th>\n",
       "      <th>survived</th>\n",
       "      <th>pclass</th>\n",
       "      <th>sex</th>\n",
       "      <th>age</th>\n",
       "      <th>sibsp</th>\n",
       "      <th>parch</th>\n",
       "      <th>fare</th>\n",
       "      <th>embarked</th>\n",
       "      <th>class</th>\n",
       "      <th>who</th>\n",
       "      <th>adult_male</th>\n",
       "      <th>deck</th>\n",
       "      <th>embark_town</th>\n",
       "      <th>alive</th>\n",
       "      <th>alone</th>\n",
       "    </tr>\n",
       "  </thead>\n",
       "  <tbody>\n",
       "    <tr>\n",
       "      <th>0</th>\n",
       "      <td>0</td>\n",
       "      <td>3</td>\n",
       "      <td>male</td>\n",
       "      <td>22.0</td>\n",
       "      <td>1</td>\n",
       "      <td>0</td>\n",
       "      <td>7.2500</td>\n",
       "      <td>S</td>\n",
       "      <td>Third</td>\n",
       "      <td>man</td>\n",
       "      <td>True</td>\n",
       "      <td>NaN</td>\n",
       "      <td>Southampton</td>\n",
       "      <td>no</td>\n",
       "      <td>False</td>\n",
       "    </tr>\n",
       "    <tr>\n",
       "      <th>1</th>\n",
       "      <td>1</td>\n",
       "      <td>1</td>\n",
       "      <td>female</td>\n",
       "      <td>38.0</td>\n",
       "      <td>1</td>\n",
       "      <td>0</td>\n",
       "      <td>71.2833</td>\n",
       "      <td>C</td>\n",
       "      <td>First</td>\n",
       "      <td>woman</td>\n",
       "      <td>False</td>\n",
       "      <td>C</td>\n",
       "      <td>Cherbourg</td>\n",
       "      <td>yes</td>\n",
       "      <td>False</td>\n",
       "    </tr>\n",
       "    <tr>\n",
       "      <th>2</th>\n",
       "      <td>1</td>\n",
       "      <td>3</td>\n",
       "      <td>female</td>\n",
       "      <td>26.0</td>\n",
       "      <td>0</td>\n",
       "      <td>0</td>\n",
       "      <td>7.9250</td>\n",
       "      <td>S</td>\n",
       "      <td>Third</td>\n",
       "      <td>woman</td>\n",
       "      <td>False</td>\n",
       "      <td>NaN</td>\n",
       "      <td>Southampton</td>\n",
       "      <td>yes</td>\n",
       "      <td>True</td>\n",
       "    </tr>\n",
       "    <tr>\n",
       "      <th>3</th>\n",
       "      <td>1</td>\n",
       "      <td>1</td>\n",
       "      <td>female</td>\n",
       "      <td>35.0</td>\n",
       "      <td>1</td>\n",
       "      <td>0</td>\n",
       "      <td>53.1000</td>\n",
       "      <td>S</td>\n",
       "      <td>First</td>\n",
       "      <td>woman</td>\n",
       "      <td>False</td>\n",
       "      <td>C</td>\n",
       "      <td>Southampton</td>\n",
       "      <td>yes</td>\n",
       "      <td>False</td>\n",
       "    </tr>\n",
       "    <tr>\n",
       "      <th>4</th>\n",
       "      <td>0</td>\n",
       "      <td>3</td>\n",
       "      <td>male</td>\n",
       "      <td>35.0</td>\n",
       "      <td>0</td>\n",
       "      <td>0</td>\n",
       "      <td>8.0500</td>\n",
       "      <td>S</td>\n",
       "      <td>Third</td>\n",
       "      <td>man</td>\n",
       "      <td>True</td>\n",
       "      <td>NaN</td>\n",
       "      <td>Southampton</td>\n",
       "      <td>no</td>\n",
       "      <td>True</td>\n",
       "    </tr>\n",
       "  </tbody>\n",
       "</table>\n",
       "</div>"
      ],
      "text/plain": [
       "   survived  pclass     sex   age  sibsp  parch     fare embarked  class  \\\n",
       "0         0       3    male  22.0      1      0   7.2500        S  Third   \n",
       "1         1       1  female  38.0      1      0  71.2833        C  First   \n",
       "2         1       3  female  26.0      0      0   7.9250        S  Third   \n",
       "3         1       1  female  35.0      1      0  53.1000        S  First   \n",
       "4         0       3    male  35.0      0      0   8.0500        S  Third   \n",
       "\n",
       "     who  adult_male deck  embark_town alive  alone  \n",
       "0    man        True  NaN  Southampton    no  False  \n",
       "1  woman       False    C    Cherbourg   yes  False  \n",
       "2  woman       False  NaN  Southampton   yes   True  \n",
       "3  woman       False    C  Southampton   yes  False  \n",
       "4    man        True  NaN  Southampton    no   True  "
      ]
     },
     "execution_count": 764,
     "metadata": {},
     "output_type": "execute_result"
    }
   ],
   "source": [
    "df.head()"
   ]
  },
  {
   "cell_type": "code",
   "execution_count": 765,
   "id": "21da9219",
   "metadata": {},
   "outputs": [
    {
     "data": {
      "text/plain": [
       "array([[0, 3, 'male', ..., 'Southampton', 'no', False],\n",
       "       [1, 1, 'female', ..., 'Cherbourg', 'yes', False],\n",
       "       [1, 3, 'female', ..., 'Southampton', 'yes', True],\n",
       "       ...,\n",
       "       [0, 3, 'female', ..., 'Southampton', 'no', False],\n",
       "       [1, 1, 'male', ..., 'Cherbourg', 'yes', True],\n",
       "       [0, 3, 'male', ..., 'Queenstown', 'no', True]], dtype=object)"
      ]
     },
     "execution_count": 765,
     "metadata": {},
     "output_type": "execute_result"
    }
   ],
   "source": [
    "df.values"
   ]
  },
  {
   "cell_type": "code",
   "execution_count": 767,
   "id": "1c413ebf",
   "metadata": {},
   "outputs": [],
   "source": [
    "#for i in df.values:\n",
    "#    print(i)"
   ]
  },
  {
   "cell_type": "code",
   "execution_count": 768,
   "id": "7a259af6",
   "metadata": {},
   "outputs": [
    {
     "data": {
      "text/html": [
       "<div>\n",
       "<style scoped>\n",
       "    .dataframe tbody tr th:only-of-type {\n",
       "        vertical-align: middle;\n",
       "    }\n",
       "\n",
       "    .dataframe tbody tr th {\n",
       "        vertical-align: top;\n",
       "    }\n",
       "\n",
       "    .dataframe thead th {\n",
       "        text-align: right;\n",
       "    }\n",
       "</style>\n",
       "<table border=\"1\" class=\"dataframe\">\n",
       "  <thead>\n",
       "    <tr style=\"text-align: right;\">\n",
       "      <th></th>\n",
       "      <th>survived</th>\n",
       "      <th>pclass</th>\n",
       "      <th>sex</th>\n",
       "      <th>age</th>\n",
       "      <th>sibsp</th>\n",
       "      <th>parch</th>\n",
       "      <th>fare</th>\n",
       "      <th>embarked</th>\n",
       "      <th>class</th>\n",
       "      <th>who</th>\n",
       "      <th>adult_male</th>\n",
       "      <th>deck</th>\n",
       "      <th>embark_town</th>\n",
       "      <th>alive</th>\n",
       "      <th>alone</th>\n",
       "    </tr>\n",
       "  </thead>\n",
       "  <tbody>\n",
       "    <tr>\n",
       "      <th>886</th>\n",
       "      <td>0</td>\n",
       "      <td>2</td>\n",
       "      <td>male</td>\n",
       "      <td>27.0</td>\n",
       "      <td>0</td>\n",
       "      <td>0</td>\n",
       "      <td>13.00</td>\n",
       "      <td>S</td>\n",
       "      <td>Second</td>\n",
       "      <td>man</td>\n",
       "      <td>True</td>\n",
       "      <td>NaN</td>\n",
       "      <td>Southampton</td>\n",
       "      <td>no</td>\n",
       "      <td>True</td>\n",
       "    </tr>\n",
       "    <tr>\n",
       "      <th>887</th>\n",
       "      <td>1</td>\n",
       "      <td>1</td>\n",
       "      <td>female</td>\n",
       "      <td>19.0</td>\n",
       "      <td>0</td>\n",
       "      <td>0</td>\n",
       "      <td>30.00</td>\n",
       "      <td>S</td>\n",
       "      <td>First</td>\n",
       "      <td>woman</td>\n",
       "      <td>False</td>\n",
       "      <td>B</td>\n",
       "      <td>Southampton</td>\n",
       "      <td>yes</td>\n",
       "      <td>True</td>\n",
       "    </tr>\n",
       "    <tr>\n",
       "      <th>888</th>\n",
       "      <td>0</td>\n",
       "      <td>3</td>\n",
       "      <td>female</td>\n",
       "      <td>NaN</td>\n",
       "      <td>1</td>\n",
       "      <td>2</td>\n",
       "      <td>23.45</td>\n",
       "      <td>S</td>\n",
       "      <td>Third</td>\n",
       "      <td>woman</td>\n",
       "      <td>False</td>\n",
       "      <td>NaN</td>\n",
       "      <td>Southampton</td>\n",
       "      <td>no</td>\n",
       "      <td>False</td>\n",
       "    </tr>\n",
       "    <tr>\n",
       "      <th>889</th>\n",
       "      <td>1</td>\n",
       "      <td>1</td>\n",
       "      <td>male</td>\n",
       "      <td>26.0</td>\n",
       "      <td>0</td>\n",
       "      <td>0</td>\n",
       "      <td>30.00</td>\n",
       "      <td>C</td>\n",
       "      <td>First</td>\n",
       "      <td>man</td>\n",
       "      <td>True</td>\n",
       "      <td>C</td>\n",
       "      <td>Cherbourg</td>\n",
       "      <td>yes</td>\n",
       "      <td>True</td>\n",
       "    </tr>\n",
       "    <tr>\n",
       "      <th>890</th>\n",
       "      <td>0</td>\n",
       "      <td>3</td>\n",
       "      <td>male</td>\n",
       "      <td>32.0</td>\n",
       "      <td>0</td>\n",
       "      <td>0</td>\n",
       "      <td>7.75</td>\n",
       "      <td>Q</td>\n",
       "      <td>Third</td>\n",
       "      <td>man</td>\n",
       "      <td>True</td>\n",
       "      <td>NaN</td>\n",
       "      <td>Queenstown</td>\n",
       "      <td>no</td>\n",
       "      <td>True</td>\n",
       "    </tr>\n",
       "  </tbody>\n",
       "</table>\n",
       "</div>"
      ],
      "text/plain": [
       "     survived  pclass     sex   age  sibsp  parch   fare embarked   class  \\\n",
       "886         0       2    male  27.0      0      0  13.00        S  Second   \n",
       "887         1       1  female  19.0      0      0  30.00        S   First   \n",
       "888         0       3  female   NaN      1      2  23.45        S   Third   \n",
       "889         1       1    male  26.0      0      0  30.00        C   First   \n",
       "890         0       3    male  32.0      0      0   7.75        Q   Third   \n",
       "\n",
       "       who  adult_male deck  embark_town alive  alone  \n",
       "886    man        True  NaN  Southampton    no   True  \n",
       "887  woman       False    B  Southampton   yes   True  \n",
       "888  woman       False  NaN  Southampton    no  False  \n",
       "889    man        True    C    Cherbourg   yes   True  \n",
       "890    man        True  NaN   Queenstown    no   True  "
      ]
     },
     "execution_count": 768,
     "metadata": {},
     "output_type": "execute_result"
    }
   ],
   "source": [
    "df.tail()"
   ]
  },
  {
   "cell_type": "code",
   "execution_count": 769,
   "id": "7a706b18",
   "metadata": {},
   "outputs": [
    {
     "data": {
      "text/html": [
       "<div>\n",
       "<style scoped>\n",
       "    .dataframe tbody tr th:only-of-type {\n",
       "        vertical-align: middle;\n",
       "    }\n",
       "\n",
       "    .dataframe tbody tr th {\n",
       "        vertical-align: top;\n",
       "    }\n",
       "\n",
       "    .dataframe thead th {\n",
       "        text-align: right;\n",
       "    }\n",
       "</style>\n",
       "<table border=\"1\" class=\"dataframe\">\n",
       "  <thead>\n",
       "    <tr style=\"text-align: right;\">\n",
       "      <th></th>\n",
       "      <th>survived</th>\n",
       "      <th>pclass</th>\n",
       "      <th>sex</th>\n",
       "      <th>age</th>\n",
       "      <th>sibsp</th>\n",
       "      <th>parch</th>\n",
       "      <th>fare</th>\n",
       "      <th>embarked</th>\n",
       "      <th>class</th>\n",
       "      <th>who</th>\n",
       "      <th>adult_male</th>\n",
       "      <th>deck</th>\n",
       "      <th>embark_town</th>\n",
       "      <th>alive</th>\n",
       "      <th>alone</th>\n",
       "    </tr>\n",
       "  </thead>\n",
       "  <tbody>\n",
       "    <tr>\n",
       "      <th>1</th>\n",
       "      <td>1</td>\n",
       "      <td>1</td>\n",
       "      <td>female</td>\n",
       "      <td>38.0</td>\n",
       "      <td>1</td>\n",
       "      <td>0</td>\n",
       "      <td>71.2833</td>\n",
       "      <td>C</td>\n",
       "      <td>First</td>\n",
       "      <td>woman</td>\n",
       "      <td>False</td>\n",
       "      <td>C</td>\n",
       "      <td>Cherbourg</td>\n",
       "      <td>yes</td>\n",
       "      <td>False</td>\n",
       "    </tr>\n",
       "    <tr>\n",
       "      <th>3</th>\n",
       "      <td>1</td>\n",
       "      <td>1</td>\n",
       "      <td>female</td>\n",
       "      <td>35.0</td>\n",
       "      <td>1</td>\n",
       "      <td>0</td>\n",
       "      <td>53.1000</td>\n",
       "      <td>S</td>\n",
       "      <td>First</td>\n",
       "      <td>woman</td>\n",
       "      <td>False</td>\n",
       "      <td>C</td>\n",
       "      <td>Southampton</td>\n",
       "      <td>yes</td>\n",
       "      <td>False</td>\n",
       "    </tr>\n",
       "    <tr>\n",
       "      <th>6</th>\n",
       "      <td>0</td>\n",
       "      <td>1</td>\n",
       "      <td>male</td>\n",
       "      <td>54.0</td>\n",
       "      <td>0</td>\n",
       "      <td>0</td>\n",
       "      <td>51.8625</td>\n",
       "      <td>S</td>\n",
       "      <td>First</td>\n",
       "      <td>man</td>\n",
       "      <td>True</td>\n",
       "      <td>E</td>\n",
       "      <td>Southampton</td>\n",
       "      <td>no</td>\n",
       "      <td>True</td>\n",
       "    </tr>\n",
       "    <tr>\n",
       "      <th>9</th>\n",
       "      <td>1</td>\n",
       "      <td>2</td>\n",
       "      <td>female</td>\n",
       "      <td>14.0</td>\n",
       "      <td>1</td>\n",
       "      <td>0</td>\n",
       "      <td>30.0708</td>\n",
       "      <td>C</td>\n",
       "      <td>Second</td>\n",
       "      <td>child</td>\n",
       "      <td>False</td>\n",
       "      <td>NaN</td>\n",
       "      <td>Cherbourg</td>\n",
       "      <td>yes</td>\n",
       "      <td>False</td>\n",
       "    </tr>\n",
       "    <tr>\n",
       "      <th>13</th>\n",
       "      <td>0</td>\n",
       "      <td>3</td>\n",
       "      <td>male</td>\n",
       "      <td>39.0</td>\n",
       "      <td>1</td>\n",
       "      <td>5</td>\n",
       "      <td>31.2750</td>\n",
       "      <td>S</td>\n",
       "      <td>Third</td>\n",
       "      <td>man</td>\n",
       "      <td>True</td>\n",
       "      <td>NaN</td>\n",
       "      <td>Southampton</td>\n",
       "      <td>no</td>\n",
       "      <td>False</td>\n",
       "    </tr>\n",
       "    <tr>\n",
       "      <th>...</th>\n",
       "      <td>...</td>\n",
       "      <td>...</td>\n",
       "      <td>...</td>\n",
       "      <td>...</td>\n",
       "      <td>...</td>\n",
       "      <td>...</td>\n",
       "      <td>...</td>\n",
       "      <td>...</td>\n",
       "      <td>...</td>\n",
       "      <td>...</td>\n",
       "      <td>...</td>\n",
       "      <td>...</td>\n",
       "      <td>...</td>\n",
       "      <td>...</td>\n",
       "      <td>...</td>\n",
       "    </tr>\n",
       "    <tr>\n",
       "      <th>856</th>\n",
       "      <td>1</td>\n",
       "      <td>1</td>\n",
       "      <td>female</td>\n",
       "      <td>45.0</td>\n",
       "      <td>1</td>\n",
       "      <td>1</td>\n",
       "      <td>164.8667</td>\n",
       "      <td>S</td>\n",
       "      <td>First</td>\n",
       "      <td>woman</td>\n",
       "      <td>False</td>\n",
       "      <td>NaN</td>\n",
       "      <td>Southampton</td>\n",
       "      <td>yes</td>\n",
       "      <td>False</td>\n",
       "    </tr>\n",
       "    <tr>\n",
       "      <th>863</th>\n",
       "      <td>0</td>\n",
       "      <td>3</td>\n",
       "      <td>female</td>\n",
       "      <td>NaN</td>\n",
       "      <td>8</td>\n",
       "      <td>2</td>\n",
       "      <td>69.5500</td>\n",
       "      <td>S</td>\n",
       "      <td>Third</td>\n",
       "      <td>woman</td>\n",
       "      <td>False</td>\n",
       "      <td>NaN</td>\n",
       "      <td>Southampton</td>\n",
       "      <td>no</td>\n",
       "      <td>False</td>\n",
       "    </tr>\n",
       "    <tr>\n",
       "      <th>867</th>\n",
       "      <td>0</td>\n",
       "      <td>1</td>\n",
       "      <td>male</td>\n",
       "      <td>31.0</td>\n",
       "      <td>0</td>\n",
       "      <td>0</td>\n",
       "      <td>50.4958</td>\n",
       "      <td>S</td>\n",
       "      <td>First</td>\n",
       "      <td>man</td>\n",
       "      <td>True</td>\n",
       "      <td>A</td>\n",
       "      <td>Southampton</td>\n",
       "      <td>no</td>\n",
       "      <td>True</td>\n",
       "    </tr>\n",
       "    <tr>\n",
       "      <th>871</th>\n",
       "      <td>1</td>\n",
       "      <td>1</td>\n",
       "      <td>female</td>\n",
       "      <td>47.0</td>\n",
       "      <td>1</td>\n",
       "      <td>1</td>\n",
       "      <td>52.5542</td>\n",
       "      <td>S</td>\n",
       "      <td>First</td>\n",
       "      <td>woman</td>\n",
       "      <td>False</td>\n",
       "      <td>D</td>\n",
       "      <td>Southampton</td>\n",
       "      <td>yes</td>\n",
       "      <td>False</td>\n",
       "    </tr>\n",
       "    <tr>\n",
       "      <th>879</th>\n",
       "      <td>1</td>\n",
       "      <td>1</td>\n",
       "      <td>female</td>\n",
       "      <td>56.0</td>\n",
       "      <td>0</td>\n",
       "      <td>1</td>\n",
       "      <td>83.1583</td>\n",
       "      <td>C</td>\n",
       "      <td>First</td>\n",
       "      <td>woman</td>\n",
       "      <td>False</td>\n",
       "      <td>C</td>\n",
       "      <td>Cherbourg</td>\n",
       "      <td>yes</td>\n",
       "      <td>False</td>\n",
       "    </tr>\n",
       "  </tbody>\n",
       "</table>\n",
       "<p>234 rows × 15 columns</p>\n",
       "</div>"
      ],
      "text/plain": [
       "     survived  pclass     sex   age  sibsp  parch      fare embarked   class  \\\n",
       "1           1       1  female  38.0      1      0   71.2833        C   First   \n",
       "3           1       1  female  35.0      1      0   53.1000        S   First   \n",
       "6           0       1    male  54.0      0      0   51.8625        S   First   \n",
       "9           1       2  female  14.0      1      0   30.0708        C  Second   \n",
       "13          0       3    male  39.0      1      5   31.2750        S   Third   \n",
       "..        ...     ...     ...   ...    ...    ...       ...      ...     ...   \n",
       "856         1       1  female  45.0      1      1  164.8667        S   First   \n",
       "863         0       3  female   NaN      8      2   69.5500        S   Third   \n",
       "867         0       1    male  31.0      0      0   50.4958        S   First   \n",
       "871         1       1  female  47.0      1      1   52.5542        S   First   \n",
       "879         1       1  female  56.0      0      1   83.1583        C   First   \n",
       "\n",
       "       who  adult_male deck  embark_town alive  alone  \n",
       "1    woman       False    C    Cherbourg   yes  False  \n",
       "3    woman       False    C  Southampton   yes  False  \n",
       "6      man        True    E  Southampton    no   True  \n",
       "9    child       False  NaN    Cherbourg   yes  False  \n",
       "13     man        True  NaN  Southampton    no  False  \n",
       "..     ...         ...  ...          ...   ...    ...  \n",
       "856  woman       False  NaN  Southampton   yes  False  \n",
       "863  woman       False  NaN  Southampton    no  False  \n",
       "867    man        True    A  Southampton    no   True  \n",
       "871  woman       False    D  Southampton   yes  False  \n",
       "879  woman       False    C    Cherbourg   yes  False  \n",
       "\n",
       "[234 rows x 15 columns]"
      ]
     },
     "execution_count": 769,
     "metadata": {},
     "output_type": "execute_result"
    }
   ],
   "source": [
    "df[df[\"fare\"]>30]"
   ]
  },
  {
   "cell_type": "code",
   "execution_count": 771,
   "id": "f9781fbf",
   "metadata": {},
   "outputs": [
    {
     "data": {
      "text/html": [
       "<div>\n",
       "<style scoped>\n",
       "    .dataframe tbody tr th:only-of-type {\n",
       "        vertical-align: middle;\n",
       "    }\n",
       "\n",
       "    .dataframe tbody tr th {\n",
       "        vertical-align: top;\n",
       "    }\n",
       "\n",
       "    .dataframe thead th {\n",
       "        text-align: right;\n",
       "    }\n",
       "</style>\n",
       "<table border=\"1\" class=\"dataframe\">\n",
       "  <thead>\n",
       "    <tr style=\"text-align: right;\">\n",
       "      <th></th>\n",
       "      <th>survived</th>\n",
       "      <th>pclass</th>\n",
       "      <th>sex</th>\n",
       "      <th>age</th>\n",
       "      <th>sibsp</th>\n",
       "      <th>parch</th>\n",
       "      <th>fare</th>\n",
       "      <th>embarked</th>\n",
       "      <th>class</th>\n",
       "      <th>who</th>\n",
       "      <th>adult_male</th>\n",
       "      <th>deck</th>\n",
       "      <th>embark_town</th>\n",
       "      <th>alive</th>\n",
       "      <th>alone</th>\n",
       "    </tr>\n",
       "  </thead>\n",
       "  <tbody>\n",
       "    <tr>\n",
       "      <th>1</th>\n",
       "      <td>1</td>\n",
       "      <td>1</td>\n",
       "      <td>female</td>\n",
       "      <td>38.0</td>\n",
       "      <td>1</td>\n",
       "      <td>0</td>\n",
       "      <td>71.2833</td>\n",
       "      <td>C</td>\n",
       "      <td>First</td>\n",
       "      <td>woman</td>\n",
       "      <td>False</td>\n",
       "      <td>C</td>\n",
       "      <td>Cherbourg</td>\n",
       "      <td>yes</td>\n",
       "      <td>False</td>\n",
       "    </tr>\n",
       "    <tr>\n",
       "      <th>3</th>\n",
       "      <td>1</td>\n",
       "      <td>1</td>\n",
       "      <td>female</td>\n",
       "      <td>35.0</td>\n",
       "      <td>1</td>\n",
       "      <td>0</td>\n",
       "      <td>53.1000</td>\n",
       "      <td>S</td>\n",
       "      <td>First</td>\n",
       "      <td>woman</td>\n",
       "      <td>False</td>\n",
       "      <td>C</td>\n",
       "      <td>Southampton</td>\n",
       "      <td>yes</td>\n",
       "      <td>False</td>\n",
       "    </tr>\n",
       "    <tr>\n",
       "      <th>9</th>\n",
       "      <td>1</td>\n",
       "      <td>2</td>\n",
       "      <td>female</td>\n",
       "      <td>14.0</td>\n",
       "      <td>1</td>\n",
       "      <td>0</td>\n",
       "      <td>30.0708</td>\n",
       "      <td>C</td>\n",
       "      <td>Second</td>\n",
       "      <td>child</td>\n",
       "      <td>False</td>\n",
       "      <td>NaN</td>\n",
       "      <td>Cherbourg</td>\n",
       "      <td>yes</td>\n",
       "      <td>False</td>\n",
       "    </tr>\n",
       "    <tr>\n",
       "      <th>25</th>\n",
       "      <td>1</td>\n",
       "      <td>3</td>\n",
       "      <td>female</td>\n",
       "      <td>38.0</td>\n",
       "      <td>1</td>\n",
       "      <td>5</td>\n",
       "      <td>31.3875</td>\n",
       "      <td>S</td>\n",
       "      <td>Third</td>\n",
       "      <td>woman</td>\n",
       "      <td>False</td>\n",
       "      <td>NaN</td>\n",
       "      <td>Southampton</td>\n",
       "      <td>yes</td>\n",
       "      <td>False</td>\n",
       "    </tr>\n",
       "    <tr>\n",
       "      <th>31</th>\n",
       "      <td>1</td>\n",
       "      <td>1</td>\n",
       "      <td>female</td>\n",
       "      <td>NaN</td>\n",
       "      <td>1</td>\n",
       "      <td>0</td>\n",
       "      <td>146.5208</td>\n",
       "      <td>C</td>\n",
       "      <td>First</td>\n",
       "      <td>woman</td>\n",
       "      <td>False</td>\n",
       "      <td>B</td>\n",
       "      <td>Cherbourg</td>\n",
       "      <td>yes</td>\n",
       "      <td>False</td>\n",
       "    </tr>\n",
       "    <tr>\n",
       "      <th>...</th>\n",
       "      <td>...</td>\n",
       "      <td>...</td>\n",
       "      <td>...</td>\n",
       "      <td>...</td>\n",
       "      <td>...</td>\n",
       "      <td>...</td>\n",
       "      <td>...</td>\n",
       "      <td>...</td>\n",
       "      <td>...</td>\n",
       "      <td>...</td>\n",
       "      <td>...</td>\n",
       "      <td>...</td>\n",
       "      <td>...</td>\n",
       "      <td>...</td>\n",
       "      <td>...</td>\n",
       "    </tr>\n",
       "    <tr>\n",
       "      <th>853</th>\n",
       "      <td>1</td>\n",
       "      <td>1</td>\n",
       "      <td>female</td>\n",
       "      <td>16.0</td>\n",
       "      <td>0</td>\n",
       "      <td>1</td>\n",
       "      <td>39.4000</td>\n",
       "      <td>S</td>\n",
       "      <td>First</td>\n",
       "      <td>woman</td>\n",
       "      <td>False</td>\n",
       "      <td>D</td>\n",
       "      <td>Southampton</td>\n",
       "      <td>yes</td>\n",
       "      <td>False</td>\n",
       "    </tr>\n",
       "    <tr>\n",
       "      <th>856</th>\n",
       "      <td>1</td>\n",
       "      <td>1</td>\n",
       "      <td>female</td>\n",
       "      <td>45.0</td>\n",
       "      <td>1</td>\n",
       "      <td>1</td>\n",
       "      <td>164.8667</td>\n",
       "      <td>S</td>\n",
       "      <td>First</td>\n",
       "      <td>woman</td>\n",
       "      <td>False</td>\n",
       "      <td>NaN</td>\n",
       "      <td>Southampton</td>\n",
       "      <td>yes</td>\n",
       "      <td>False</td>\n",
       "    </tr>\n",
       "    <tr>\n",
       "      <th>863</th>\n",
       "      <td>0</td>\n",
       "      <td>3</td>\n",
       "      <td>female</td>\n",
       "      <td>NaN</td>\n",
       "      <td>8</td>\n",
       "      <td>2</td>\n",
       "      <td>69.5500</td>\n",
       "      <td>S</td>\n",
       "      <td>Third</td>\n",
       "      <td>woman</td>\n",
       "      <td>False</td>\n",
       "      <td>NaN</td>\n",
       "      <td>Southampton</td>\n",
       "      <td>no</td>\n",
       "      <td>False</td>\n",
       "    </tr>\n",
       "    <tr>\n",
       "      <th>871</th>\n",
       "      <td>1</td>\n",
       "      <td>1</td>\n",
       "      <td>female</td>\n",
       "      <td>47.0</td>\n",
       "      <td>1</td>\n",
       "      <td>1</td>\n",
       "      <td>52.5542</td>\n",
       "      <td>S</td>\n",
       "      <td>First</td>\n",
       "      <td>woman</td>\n",
       "      <td>False</td>\n",
       "      <td>D</td>\n",
       "      <td>Southampton</td>\n",
       "      <td>yes</td>\n",
       "      <td>False</td>\n",
       "    </tr>\n",
       "    <tr>\n",
       "      <th>879</th>\n",
       "      <td>1</td>\n",
       "      <td>1</td>\n",
       "      <td>female</td>\n",
       "      <td>56.0</td>\n",
       "      <td>0</td>\n",
       "      <td>1</td>\n",
       "      <td>83.1583</td>\n",
       "      <td>C</td>\n",
       "      <td>First</td>\n",
       "      <td>woman</td>\n",
       "      <td>False</td>\n",
       "      <td>C</td>\n",
       "      <td>Cherbourg</td>\n",
       "      <td>yes</td>\n",
       "      <td>False</td>\n",
       "    </tr>\n",
       "  </tbody>\n",
       "</table>\n",
       "<p>113 rows × 15 columns</p>\n",
       "</div>"
      ],
      "text/plain": [
       "     survived  pclass     sex   age  sibsp  parch      fare embarked   class  \\\n",
       "1           1       1  female  38.0      1      0   71.2833        C   First   \n",
       "3           1       1  female  35.0      1      0   53.1000        S   First   \n",
       "9           1       2  female  14.0      1      0   30.0708        C  Second   \n",
       "25          1       3  female  38.0      1      5   31.3875        S   Third   \n",
       "31          1       1  female   NaN      1      0  146.5208        C   First   \n",
       "..        ...     ...     ...   ...    ...    ...       ...      ...     ...   \n",
       "853         1       1  female  16.0      0      1   39.4000        S   First   \n",
       "856         1       1  female  45.0      1      1  164.8667        S   First   \n",
       "863         0       3  female   NaN      8      2   69.5500        S   Third   \n",
       "871         1       1  female  47.0      1      1   52.5542        S   First   \n",
       "879         1       1  female  56.0      0      1   83.1583        C   First   \n",
       "\n",
       "       who  adult_male deck  embark_town alive  alone  \n",
       "1    woman       False    C    Cherbourg   yes  False  \n",
       "3    woman       False    C  Southampton   yes  False  \n",
       "9    child       False  NaN    Cherbourg   yes  False  \n",
       "25   woman       False  NaN  Southampton   yes  False  \n",
       "31   woman       False    B    Cherbourg   yes  False  \n",
       "..     ...         ...  ...          ...   ...    ...  \n",
       "853  woman       False    D  Southampton   yes  False  \n",
       "856  woman       False  NaN  Southampton   yes  False  \n",
       "863  woman       False  NaN  Southampton    no  False  \n",
       "871  woman       False    D  Southampton   yes  False  \n",
       "879  woman       False    C    Cherbourg   yes  False  \n",
       "\n",
       "[113 rows x 15 columns]"
      ]
     },
     "execution_count": 771,
     "metadata": {},
     "output_type": "execute_result"
    }
   ],
   "source": [
    "#logic = (df[\"fare\"]>30) & (df[\"sex\"]==\"female\")\n",
    "#df[]\n",
    "#df[logic]\n",
    "\n",
    "df[(df[\"fare\"]>30) & (df[\"sex\"]==\"female\")]"
   ]
  },
  {
   "cell_type": "code",
   "execution_count": 774,
   "id": "d38198dc",
   "metadata": {},
   "outputs": [
    {
     "data": {
      "text/plain": [
       "31.38"
      ]
     },
     "execution_count": 774,
     "metadata": {},
     "output_type": "execute_result"
    }
   ],
   "source": [
    "df[(df[\"fare\"]>30) & (df[\"sex\"]==\"female\")][\"age\"].mean()"
   ]
  },
  {
   "cell_type": "code",
   "execution_count": 775,
   "id": "0d178761",
   "metadata": {},
   "outputs": [
    {
     "data": {
      "text/html": [
       "<div>\n",
       "<style scoped>\n",
       "    .dataframe tbody tr th:only-of-type {\n",
       "        vertical-align: middle;\n",
       "    }\n",
       "\n",
       "    .dataframe tbody tr th {\n",
       "        vertical-align: top;\n",
       "    }\n",
       "\n",
       "    .dataframe thead th {\n",
       "        text-align: right;\n",
       "    }\n",
       "</style>\n",
       "<table border=\"1\" class=\"dataframe\">\n",
       "  <thead>\n",
       "    <tr style=\"text-align: right;\">\n",
       "      <th></th>\n",
       "      <th>survived</th>\n",
       "      <th>pclass</th>\n",
       "      <th>sex</th>\n",
       "      <th>age</th>\n",
       "      <th>sibsp</th>\n",
       "      <th>parch</th>\n",
       "      <th>fare</th>\n",
       "      <th>embarked</th>\n",
       "      <th>class</th>\n",
       "      <th>who</th>\n",
       "      <th>adult_male</th>\n",
       "      <th>deck</th>\n",
       "      <th>embark_town</th>\n",
       "      <th>alive</th>\n",
       "      <th>alone</th>\n",
       "    </tr>\n",
       "  </thead>\n",
       "  <tbody>\n",
       "    <tr>\n",
       "      <th>1</th>\n",
       "      <td>1</td>\n",
       "      <td>1</td>\n",
       "      <td>female</td>\n",
       "      <td>38.0</td>\n",
       "      <td>1</td>\n",
       "      <td>0</td>\n",
       "      <td>71.2833</td>\n",
       "      <td>C</td>\n",
       "      <td>First</td>\n",
       "      <td>woman</td>\n",
       "      <td>False</td>\n",
       "      <td>C</td>\n",
       "      <td>Cherbourg</td>\n",
       "      <td>yes</td>\n",
       "      <td>False</td>\n",
       "    </tr>\n",
       "    <tr>\n",
       "      <th>2</th>\n",
       "      <td>1</td>\n",
       "      <td>3</td>\n",
       "      <td>female</td>\n",
       "      <td>26.0</td>\n",
       "      <td>0</td>\n",
       "      <td>0</td>\n",
       "      <td>7.9250</td>\n",
       "      <td>S</td>\n",
       "      <td>Third</td>\n",
       "      <td>woman</td>\n",
       "      <td>False</td>\n",
       "      <td>NaN</td>\n",
       "      <td>Southampton</td>\n",
       "      <td>yes</td>\n",
       "      <td>True</td>\n",
       "    </tr>\n",
       "    <tr>\n",
       "      <th>3</th>\n",
       "      <td>1</td>\n",
       "      <td>1</td>\n",
       "      <td>female</td>\n",
       "      <td>35.0</td>\n",
       "      <td>1</td>\n",
       "      <td>0</td>\n",
       "      <td>53.1000</td>\n",
       "      <td>S</td>\n",
       "      <td>First</td>\n",
       "      <td>woman</td>\n",
       "      <td>False</td>\n",
       "      <td>C</td>\n",
       "      <td>Southampton</td>\n",
       "      <td>yes</td>\n",
       "      <td>False</td>\n",
       "    </tr>\n",
       "    <tr>\n",
       "      <th>8</th>\n",
       "      <td>1</td>\n",
       "      <td>3</td>\n",
       "      <td>female</td>\n",
       "      <td>27.0</td>\n",
       "      <td>0</td>\n",
       "      <td>2</td>\n",
       "      <td>11.1333</td>\n",
       "      <td>S</td>\n",
       "      <td>Third</td>\n",
       "      <td>woman</td>\n",
       "      <td>False</td>\n",
       "      <td>NaN</td>\n",
       "      <td>Southampton</td>\n",
       "      <td>yes</td>\n",
       "      <td>False</td>\n",
       "    </tr>\n",
       "    <tr>\n",
       "      <th>9</th>\n",
       "      <td>1</td>\n",
       "      <td>2</td>\n",
       "      <td>female</td>\n",
       "      <td>14.0</td>\n",
       "      <td>1</td>\n",
       "      <td>0</td>\n",
       "      <td>30.0708</td>\n",
       "      <td>C</td>\n",
       "      <td>Second</td>\n",
       "      <td>child</td>\n",
       "      <td>False</td>\n",
       "      <td>NaN</td>\n",
       "      <td>Cherbourg</td>\n",
       "      <td>yes</td>\n",
       "      <td>False</td>\n",
       "    </tr>\n",
       "  </tbody>\n",
       "</table>\n",
       "</div>"
      ],
      "text/plain": [
       "   survived  pclass     sex   age  sibsp  parch     fare embarked   class  \\\n",
       "1         1       1  female  38.0      1      0  71.2833        C   First   \n",
       "2         1       3  female  26.0      0      0   7.9250        S   Third   \n",
       "3         1       1  female  35.0      1      0  53.1000        S   First   \n",
       "8         1       3  female  27.0      0      2  11.1333        S   Third   \n",
       "9         1       2  female  14.0      1      0  30.0708        C  Second   \n",
       "\n",
       "     who  adult_male deck  embark_town alive  alone  \n",
       "1  woman       False    C    Cherbourg   yes  False  \n",
       "2  woman       False  NaN  Southampton   yes   True  \n",
       "3  woman       False    C  Southampton   yes  False  \n",
       "8  woman       False  NaN  Southampton   yes  False  \n",
       "9  child       False  NaN    Cherbourg   yes  False  "
      ]
     },
     "execution_count": 775,
     "metadata": {},
     "output_type": "execute_result"
    }
   ],
   "source": [
    "#df[]\n",
    "#df[\"survived\"]==1\n",
    "\n",
    "df[df[\"survived\"]==1].head()"
   ]
  },
  {
   "cell_type": "code",
   "execution_count": 776,
   "id": "74595a5f",
   "metadata": {},
   "outputs": [
    {
     "data": {
      "text/html": [
       "<div>\n",
       "<style scoped>\n",
       "    .dataframe tbody tr th:only-of-type {\n",
       "        vertical-align: middle;\n",
       "    }\n",
       "\n",
       "    .dataframe tbody tr th {\n",
       "        vertical-align: top;\n",
       "    }\n",
       "\n",
       "    .dataframe thead th {\n",
       "        text-align: right;\n",
       "    }\n",
       "</style>\n",
       "<table border=\"1\" class=\"dataframe\">\n",
       "  <thead>\n",
       "    <tr style=\"text-align: right;\">\n",
       "      <th></th>\n",
       "      <th>survived</th>\n",
       "      <th>pclass</th>\n",
       "      <th>sex</th>\n",
       "      <th>age</th>\n",
       "      <th>sibsp</th>\n",
       "      <th>parch</th>\n",
       "      <th>fare</th>\n",
       "      <th>embarked</th>\n",
       "      <th>class</th>\n",
       "      <th>who</th>\n",
       "      <th>adult_male</th>\n",
       "      <th>deck</th>\n",
       "      <th>embark_town</th>\n",
       "      <th>alive</th>\n",
       "      <th>alone</th>\n",
       "    </tr>\n",
       "  </thead>\n",
       "  <tbody>\n",
       "    <tr>\n",
       "      <th>1</th>\n",
       "      <td>1</td>\n",
       "      <td>1</td>\n",
       "      <td>female</td>\n",
       "      <td>38.0</td>\n",
       "      <td>1</td>\n",
       "      <td>0</td>\n",
       "      <td>71.2833</td>\n",
       "      <td>C</td>\n",
       "      <td>First</td>\n",
       "      <td>woman</td>\n",
       "      <td>False</td>\n",
       "      <td>C</td>\n",
       "      <td>Cherbourg</td>\n",
       "      <td>yes</td>\n",
       "      <td>False</td>\n",
       "    </tr>\n",
       "    <tr>\n",
       "      <th>2</th>\n",
       "      <td>1</td>\n",
       "      <td>3</td>\n",
       "      <td>female</td>\n",
       "      <td>26.0</td>\n",
       "      <td>0</td>\n",
       "      <td>0</td>\n",
       "      <td>7.9250</td>\n",
       "      <td>S</td>\n",
       "      <td>Third</td>\n",
       "      <td>woman</td>\n",
       "      <td>False</td>\n",
       "      <td>NaN</td>\n",
       "      <td>Southampton</td>\n",
       "      <td>yes</td>\n",
       "      <td>True</td>\n",
       "    </tr>\n",
       "    <tr>\n",
       "      <th>3</th>\n",
       "      <td>1</td>\n",
       "      <td>1</td>\n",
       "      <td>female</td>\n",
       "      <td>35.0</td>\n",
       "      <td>1</td>\n",
       "      <td>0</td>\n",
       "      <td>53.1000</td>\n",
       "      <td>S</td>\n",
       "      <td>First</td>\n",
       "      <td>woman</td>\n",
       "      <td>False</td>\n",
       "      <td>C</td>\n",
       "      <td>Southampton</td>\n",
       "      <td>yes</td>\n",
       "      <td>False</td>\n",
       "    </tr>\n",
       "    <tr>\n",
       "      <th>8</th>\n",
       "      <td>1</td>\n",
       "      <td>3</td>\n",
       "      <td>female</td>\n",
       "      <td>27.0</td>\n",
       "      <td>0</td>\n",
       "      <td>2</td>\n",
       "      <td>11.1333</td>\n",
       "      <td>S</td>\n",
       "      <td>Third</td>\n",
       "      <td>woman</td>\n",
       "      <td>False</td>\n",
       "      <td>NaN</td>\n",
       "      <td>Southampton</td>\n",
       "      <td>yes</td>\n",
       "      <td>False</td>\n",
       "    </tr>\n",
       "    <tr>\n",
       "      <th>11</th>\n",
       "      <td>1</td>\n",
       "      <td>1</td>\n",
       "      <td>female</td>\n",
       "      <td>58.0</td>\n",
       "      <td>0</td>\n",
       "      <td>0</td>\n",
       "      <td>26.5500</td>\n",
       "      <td>S</td>\n",
       "      <td>First</td>\n",
       "      <td>woman</td>\n",
       "      <td>False</td>\n",
       "      <td>C</td>\n",
       "      <td>Southampton</td>\n",
       "      <td>yes</td>\n",
       "      <td>True</td>\n",
       "    </tr>\n",
       "    <tr>\n",
       "      <th>...</th>\n",
       "      <td>...</td>\n",
       "      <td>...</td>\n",
       "      <td>...</td>\n",
       "      <td>...</td>\n",
       "      <td>...</td>\n",
       "      <td>...</td>\n",
       "      <td>...</td>\n",
       "      <td>...</td>\n",
       "      <td>...</td>\n",
       "      <td>...</td>\n",
       "      <td>...</td>\n",
       "      <td>...</td>\n",
       "      <td>...</td>\n",
       "      <td>...</td>\n",
       "      <td>...</td>\n",
       "    </tr>\n",
       "    <tr>\n",
       "      <th>871</th>\n",
       "      <td>1</td>\n",
       "      <td>1</td>\n",
       "      <td>female</td>\n",
       "      <td>47.0</td>\n",
       "      <td>1</td>\n",
       "      <td>1</td>\n",
       "      <td>52.5542</td>\n",
       "      <td>S</td>\n",
       "      <td>First</td>\n",
       "      <td>woman</td>\n",
       "      <td>False</td>\n",
       "      <td>D</td>\n",
       "      <td>Southampton</td>\n",
       "      <td>yes</td>\n",
       "      <td>False</td>\n",
       "    </tr>\n",
       "    <tr>\n",
       "      <th>874</th>\n",
       "      <td>1</td>\n",
       "      <td>2</td>\n",
       "      <td>female</td>\n",
       "      <td>28.0</td>\n",
       "      <td>1</td>\n",
       "      <td>0</td>\n",
       "      <td>24.0000</td>\n",
       "      <td>C</td>\n",
       "      <td>Second</td>\n",
       "      <td>woman</td>\n",
       "      <td>False</td>\n",
       "      <td>NaN</td>\n",
       "      <td>Cherbourg</td>\n",
       "      <td>yes</td>\n",
       "      <td>False</td>\n",
       "    </tr>\n",
       "    <tr>\n",
       "      <th>879</th>\n",
       "      <td>1</td>\n",
       "      <td>1</td>\n",
       "      <td>female</td>\n",
       "      <td>56.0</td>\n",
       "      <td>0</td>\n",
       "      <td>1</td>\n",
       "      <td>83.1583</td>\n",
       "      <td>C</td>\n",
       "      <td>First</td>\n",
       "      <td>woman</td>\n",
       "      <td>False</td>\n",
       "      <td>C</td>\n",
       "      <td>Cherbourg</td>\n",
       "      <td>yes</td>\n",
       "      <td>False</td>\n",
       "    </tr>\n",
       "    <tr>\n",
       "      <th>880</th>\n",
       "      <td>1</td>\n",
       "      <td>2</td>\n",
       "      <td>female</td>\n",
       "      <td>25.0</td>\n",
       "      <td>0</td>\n",
       "      <td>1</td>\n",
       "      <td>26.0000</td>\n",
       "      <td>S</td>\n",
       "      <td>Second</td>\n",
       "      <td>woman</td>\n",
       "      <td>False</td>\n",
       "      <td>NaN</td>\n",
       "      <td>Southampton</td>\n",
       "      <td>yes</td>\n",
       "      <td>False</td>\n",
       "    </tr>\n",
       "    <tr>\n",
       "      <th>887</th>\n",
       "      <td>1</td>\n",
       "      <td>1</td>\n",
       "      <td>female</td>\n",
       "      <td>19.0</td>\n",
       "      <td>0</td>\n",
       "      <td>0</td>\n",
       "      <td>30.0000</td>\n",
       "      <td>S</td>\n",
       "      <td>First</td>\n",
       "      <td>woman</td>\n",
       "      <td>False</td>\n",
       "      <td>B</td>\n",
       "      <td>Southampton</td>\n",
       "      <td>yes</td>\n",
       "      <td>True</td>\n",
       "    </tr>\n",
       "  </tbody>\n",
       "</table>\n",
       "<p>205 rows × 15 columns</p>\n",
       "</div>"
      ],
      "text/plain": [
       "     survived  pclass     sex   age  sibsp  parch     fare embarked   class  \\\n",
       "1           1       1  female  38.0      1      0  71.2833        C   First   \n",
       "2           1       3  female  26.0      0      0   7.9250        S   Third   \n",
       "3           1       1  female  35.0      1      0  53.1000        S   First   \n",
       "8           1       3  female  27.0      0      2  11.1333        S   Third   \n",
       "11          1       1  female  58.0      0      0  26.5500        S   First   \n",
       "..        ...     ...     ...   ...    ...    ...      ...      ...     ...   \n",
       "871         1       1  female  47.0      1      1  52.5542        S   First   \n",
       "874         1       2  female  28.0      1      0  24.0000        C  Second   \n",
       "879         1       1  female  56.0      0      1  83.1583        C   First   \n",
       "880         1       2  female  25.0      0      1  26.0000        S  Second   \n",
       "887         1       1  female  19.0      0      0  30.0000        S   First   \n",
       "\n",
       "       who  adult_male deck  embark_town alive  alone  \n",
       "1    woman       False    C    Cherbourg   yes  False  \n",
       "2    woman       False  NaN  Southampton   yes   True  \n",
       "3    woman       False    C  Southampton   yes  False  \n",
       "8    woman       False  NaN  Southampton   yes  False  \n",
       "11   woman       False    C  Southampton   yes   True  \n",
       "..     ...         ...  ...          ...   ...    ...  \n",
       "871  woman       False    D  Southampton   yes  False  \n",
       "874  woman       False  NaN    Cherbourg   yes  False  \n",
       "879  woman       False    C    Cherbourg   yes  False  \n",
       "880  woman       False  NaN  Southampton   yes  False  \n",
       "887  woman       False    B  Southampton   yes   True  \n",
       "\n",
       "[205 rows x 15 columns]"
      ]
     },
     "execution_count": 776,
     "metadata": {},
     "output_type": "execute_result"
    }
   ],
   "source": [
    "df[(df[\"survived\"]==1) & (df[\"who\"]==\"woman\")]"
   ]
  },
  {
   "cell_type": "code",
   "execution_count": 780,
   "id": "9c7923a0",
   "metadata": {},
   "outputs": [
    {
     "data": {
      "text/plain": [
       "(205, 15)"
      ]
     },
     "execution_count": 780,
     "metadata": {},
     "output_type": "execute_result"
    }
   ],
   "source": [
    "#df[]\n",
    "#(df[\"survived\"]==1) & (df[\"who\"]==\"woman\")\n",
    "#shape\n",
    "#shape[0]\n",
    "\n",
    "df[(df[\"survived\"]==1) & (df[\"who\"]==\"woman\")].shape"
   ]
  },
  {
   "cell_type": "code",
   "execution_count": 777,
   "id": "e14d7748",
   "metadata": {},
   "outputs": [
    {
     "data": {
      "text/html": [
       "<div>\n",
       "<style scoped>\n",
       "    .dataframe tbody tr th:only-of-type {\n",
       "        vertical-align: middle;\n",
       "    }\n",
       "\n",
       "    .dataframe tbody tr th {\n",
       "        vertical-align: top;\n",
       "    }\n",
       "\n",
       "    .dataframe thead th {\n",
       "        text-align: right;\n",
       "    }\n",
       "</style>\n",
       "<table border=\"1\" class=\"dataframe\">\n",
       "  <thead>\n",
       "    <tr style=\"text-align: right;\">\n",
       "      <th></th>\n",
       "      <th>survived</th>\n",
       "      <th>pclass</th>\n",
       "      <th>sex</th>\n",
       "      <th>age</th>\n",
       "      <th>sibsp</th>\n",
       "      <th>parch</th>\n",
       "      <th>fare</th>\n",
       "      <th>embarked</th>\n",
       "      <th>class</th>\n",
       "      <th>who</th>\n",
       "      <th>adult_male</th>\n",
       "      <th>deck</th>\n",
       "      <th>embark_town</th>\n",
       "      <th>alive</th>\n",
       "      <th>alone</th>\n",
       "    </tr>\n",
       "  </thead>\n",
       "  <tbody>\n",
       "    <tr>\n",
       "      <th>0</th>\n",
       "      <td>0</td>\n",
       "      <td>3</td>\n",
       "      <td>male</td>\n",
       "      <td>22.0</td>\n",
       "      <td>1</td>\n",
       "      <td>0</td>\n",
       "      <td>7.2500</td>\n",
       "      <td>S</td>\n",
       "      <td>Third</td>\n",
       "      <td>man</td>\n",
       "      <td>True</td>\n",
       "      <td>NaN</td>\n",
       "      <td>Southampton</td>\n",
       "      <td>no</td>\n",
       "      <td>False</td>\n",
       "    </tr>\n",
       "    <tr>\n",
       "      <th>1</th>\n",
       "      <td>1</td>\n",
       "      <td>1</td>\n",
       "      <td>female</td>\n",
       "      <td>38.0</td>\n",
       "      <td>1</td>\n",
       "      <td>0</td>\n",
       "      <td>71.2833</td>\n",
       "      <td>C</td>\n",
       "      <td>First</td>\n",
       "      <td>woman</td>\n",
       "      <td>False</td>\n",
       "      <td>C</td>\n",
       "      <td>Cherbourg</td>\n",
       "      <td>yes</td>\n",
       "      <td>False</td>\n",
       "    </tr>\n",
       "    <tr>\n",
       "      <th>2</th>\n",
       "      <td>1</td>\n",
       "      <td>3</td>\n",
       "      <td>female</td>\n",
       "      <td>26.0</td>\n",
       "      <td>0</td>\n",
       "      <td>0</td>\n",
       "      <td>7.9250</td>\n",
       "      <td>S</td>\n",
       "      <td>Third</td>\n",
       "      <td>woman</td>\n",
       "      <td>False</td>\n",
       "      <td>NaN</td>\n",
       "      <td>Southampton</td>\n",
       "      <td>yes</td>\n",
       "      <td>True</td>\n",
       "    </tr>\n",
       "    <tr>\n",
       "      <th>3</th>\n",
       "      <td>1</td>\n",
       "      <td>1</td>\n",
       "      <td>female</td>\n",
       "      <td>35.0</td>\n",
       "      <td>1</td>\n",
       "      <td>0</td>\n",
       "      <td>53.1000</td>\n",
       "      <td>S</td>\n",
       "      <td>First</td>\n",
       "      <td>woman</td>\n",
       "      <td>False</td>\n",
       "      <td>C</td>\n",
       "      <td>Southampton</td>\n",
       "      <td>yes</td>\n",
       "      <td>False</td>\n",
       "    </tr>\n",
       "    <tr>\n",
       "      <th>4</th>\n",
       "      <td>0</td>\n",
       "      <td>3</td>\n",
       "      <td>male</td>\n",
       "      <td>35.0</td>\n",
       "      <td>0</td>\n",
       "      <td>0</td>\n",
       "      <td>8.0500</td>\n",
       "      <td>S</td>\n",
       "      <td>Third</td>\n",
       "      <td>man</td>\n",
       "      <td>True</td>\n",
       "      <td>NaN</td>\n",
       "      <td>Southampton</td>\n",
       "      <td>no</td>\n",
       "      <td>True</td>\n",
       "    </tr>\n",
       "  </tbody>\n",
       "</table>\n",
       "</div>"
      ],
      "text/plain": [
       "   survived  pclass     sex   age  sibsp  parch     fare embarked  class  \\\n",
       "0         0       3    male  22.0      1      0   7.2500        S  Third   \n",
       "1         1       1  female  38.0      1      0  71.2833        C  First   \n",
       "2         1       3  female  26.0      0      0   7.9250        S  Third   \n",
       "3         1       1  female  35.0      1      0  53.1000        S  First   \n",
       "4         0       3    male  35.0      0      0   8.0500        S  Third   \n",
       "\n",
       "     who  adult_male deck  embark_town alive  alone  \n",
       "0    man        True  NaN  Southampton    no  False  \n",
       "1  woman       False    C    Cherbourg   yes  False  \n",
       "2  woman       False  NaN  Southampton   yes   True  \n",
       "3  woman       False    C  Southampton   yes  False  \n",
       "4    man        True  NaN  Southampton    no   True  "
      ]
     },
     "execution_count": 777,
     "metadata": {},
     "output_type": "execute_result"
    }
   ],
   "source": [
    "df.head()"
   ]
  },
  {
   "cell_type": "code",
   "execution_count": 781,
   "id": "1c2a7828",
   "metadata": {},
   "outputs": [
    {
     "data": {
      "text/plain": [
       "Index(['survived', 'pclass', 'sex', 'age', 'sibsp', 'parch', 'fare',\n",
       "       'embarked', 'class', 'who', 'adult_male', 'deck', 'embark_town',\n",
       "       'alive', 'alone'],\n",
       "      dtype='object')"
      ]
     },
     "execution_count": 781,
     "metadata": {},
     "output_type": "execute_result"
    }
   ],
   "source": [
    "df.columns"
   ]
  },
  {
   "cell_type": "code",
   "execution_count": 782,
   "id": "aabcf5dc",
   "metadata": {},
   "outputs": [],
   "source": [
    "kolonlar = ['survived', 'pclass', 'sex', 'age', 'sibsp', 'parch', 'fare',\n",
    "       'embarked', 'class', 'who', 'adult_male', 'deck', 'embark_town',\n",
    "       'alive', 'alone']"
   ]
  },
  {
   "cell_type": "code",
   "execution_count": null,
   "id": "a0004634",
   "metadata": {},
   "outputs": [],
   "source": [
    "secilmis_kolonlar = ['survived', 'pclass', 'sex']"
   ]
  },
  {
   "cell_type": "code",
   "execution_count": 783,
   "id": "fa990bb7",
   "metadata": {},
   "outputs": [
    {
     "data": {
      "text/html": [
       "<div>\n",
       "<style scoped>\n",
       "    .dataframe tbody tr th:only-of-type {\n",
       "        vertical-align: middle;\n",
       "    }\n",
       "\n",
       "    .dataframe tbody tr th {\n",
       "        vertical-align: top;\n",
       "    }\n",
       "\n",
       "    .dataframe thead th {\n",
       "        text-align: right;\n",
       "    }\n",
       "</style>\n",
       "<table border=\"1\" class=\"dataframe\">\n",
       "  <thead>\n",
       "    <tr style=\"text-align: right;\">\n",
       "      <th></th>\n",
       "      <th>survived</th>\n",
       "      <th>pclass</th>\n",
       "      <th>sex</th>\n",
       "    </tr>\n",
       "  </thead>\n",
       "  <tbody>\n",
       "    <tr>\n",
       "      <th>0</th>\n",
       "      <td>0</td>\n",
       "      <td>3</td>\n",
       "      <td>male</td>\n",
       "    </tr>\n",
       "    <tr>\n",
       "      <th>1</th>\n",
       "      <td>1</td>\n",
       "      <td>1</td>\n",
       "      <td>female</td>\n",
       "    </tr>\n",
       "    <tr>\n",
       "      <th>2</th>\n",
       "      <td>1</td>\n",
       "      <td>3</td>\n",
       "      <td>female</td>\n",
       "    </tr>\n",
       "    <tr>\n",
       "      <th>3</th>\n",
       "      <td>1</td>\n",
       "      <td>1</td>\n",
       "      <td>female</td>\n",
       "    </tr>\n",
       "    <tr>\n",
       "      <th>4</th>\n",
       "      <td>0</td>\n",
       "      <td>3</td>\n",
       "      <td>male</td>\n",
       "    </tr>\n",
       "    <tr>\n",
       "      <th>...</th>\n",
       "      <td>...</td>\n",
       "      <td>...</td>\n",
       "      <td>...</td>\n",
       "    </tr>\n",
       "    <tr>\n",
       "      <th>886</th>\n",
       "      <td>0</td>\n",
       "      <td>2</td>\n",
       "      <td>male</td>\n",
       "    </tr>\n",
       "    <tr>\n",
       "      <th>887</th>\n",
       "      <td>1</td>\n",
       "      <td>1</td>\n",
       "      <td>female</td>\n",
       "    </tr>\n",
       "    <tr>\n",
       "      <th>888</th>\n",
       "      <td>0</td>\n",
       "      <td>3</td>\n",
       "      <td>female</td>\n",
       "    </tr>\n",
       "    <tr>\n",
       "      <th>889</th>\n",
       "      <td>1</td>\n",
       "      <td>1</td>\n",
       "      <td>male</td>\n",
       "    </tr>\n",
       "    <tr>\n",
       "      <th>890</th>\n",
       "      <td>0</td>\n",
       "      <td>3</td>\n",
       "      <td>male</td>\n",
       "    </tr>\n",
       "  </tbody>\n",
       "</table>\n",
       "<p>891 rows × 3 columns</p>\n",
       "</div>"
      ],
      "text/plain": [
       "     survived  pclass     sex\n",
       "0           0       3    male\n",
       "1           1       1  female\n",
       "2           1       3  female\n",
       "3           1       1  female\n",
       "4           0       3    male\n",
       "..        ...     ...     ...\n",
       "886         0       2    male\n",
       "887         1       1  female\n",
       "888         0       3  female\n",
       "889         1       1    male\n",
       "890         0       3    male\n",
       "\n",
       "[891 rows x 3 columns]"
      ]
     },
     "execution_count": 783,
     "metadata": {},
     "output_type": "execute_result"
    }
   ],
   "source": [
    "df[secilmis_kolonlar]"
   ]
  },
  {
   "cell_type": "code",
   "execution_count": 784,
   "id": "b4952938",
   "metadata": {},
   "outputs": [
    {
     "ename": "SyntaxError",
     "evalue": "cannot assign to subscript here. Maybe you meant '==' instead of '='? (3041703960.py, line 1)",
     "output_type": "error",
     "traceback": [
      "\u001b[0;36m  Cell \u001b[0;32mIn[784], line 1\u001b[0;36m\u001b[0m\n\u001b[0;31m    logic = (df[\"survived\"]=1)\u001b[0m\n\u001b[0m             ^\u001b[0m\n\u001b[0;31mSyntaxError\u001b[0m\u001b[0;31m:\u001b[0m cannot assign to subscript here. Maybe you meant '==' instead of '='?\n"
     ]
    }
   ],
   "source": [
    "#logic = \"df[\"survived\"]==1\""
   ]
  },
  {
   "cell_type": "code",
   "execution_count": 785,
   "id": "06c4a0c2",
   "metadata": {},
   "outputs": [
    {
     "data": {
      "text/html": [
       "<div>\n",
       "<style scoped>\n",
       "    .dataframe tbody tr th:only-of-type {\n",
       "        vertical-align: middle;\n",
       "    }\n",
       "\n",
       "    .dataframe tbody tr th {\n",
       "        vertical-align: top;\n",
       "    }\n",
       "\n",
       "    .dataframe thead th {\n",
       "        text-align: right;\n",
       "    }\n",
       "</style>\n",
       "<table border=\"1\" class=\"dataframe\">\n",
       "  <thead>\n",
       "    <tr style=\"text-align: right;\">\n",
       "      <th></th>\n",
       "      <th>survived</th>\n",
       "      <th>pclass</th>\n",
       "      <th>sex</th>\n",
       "    </tr>\n",
       "  </thead>\n",
       "  <tbody>\n",
       "    <tr>\n",
       "      <th>1</th>\n",
       "      <td>1</td>\n",
       "      <td>1</td>\n",
       "      <td>female</td>\n",
       "    </tr>\n",
       "    <tr>\n",
       "      <th>2</th>\n",
       "      <td>1</td>\n",
       "      <td>3</td>\n",
       "      <td>female</td>\n",
       "    </tr>\n",
       "    <tr>\n",
       "      <th>3</th>\n",
       "      <td>1</td>\n",
       "      <td>1</td>\n",
       "      <td>female</td>\n",
       "    </tr>\n",
       "    <tr>\n",
       "      <th>8</th>\n",
       "      <td>1</td>\n",
       "      <td>3</td>\n",
       "      <td>female</td>\n",
       "    </tr>\n",
       "    <tr>\n",
       "      <th>9</th>\n",
       "      <td>1</td>\n",
       "      <td>2</td>\n",
       "      <td>female</td>\n",
       "    </tr>\n",
       "    <tr>\n",
       "      <th>...</th>\n",
       "      <td>...</td>\n",
       "      <td>...</td>\n",
       "      <td>...</td>\n",
       "    </tr>\n",
       "    <tr>\n",
       "      <th>875</th>\n",
       "      <td>1</td>\n",
       "      <td>3</td>\n",
       "      <td>female</td>\n",
       "    </tr>\n",
       "    <tr>\n",
       "      <th>879</th>\n",
       "      <td>1</td>\n",
       "      <td>1</td>\n",
       "      <td>female</td>\n",
       "    </tr>\n",
       "    <tr>\n",
       "      <th>880</th>\n",
       "      <td>1</td>\n",
       "      <td>2</td>\n",
       "      <td>female</td>\n",
       "    </tr>\n",
       "    <tr>\n",
       "      <th>887</th>\n",
       "      <td>1</td>\n",
       "      <td>1</td>\n",
       "      <td>female</td>\n",
       "    </tr>\n",
       "    <tr>\n",
       "      <th>889</th>\n",
       "      <td>1</td>\n",
       "      <td>1</td>\n",
       "      <td>male</td>\n",
       "    </tr>\n",
       "  </tbody>\n",
       "</table>\n",
       "<p>342 rows × 3 columns</p>\n",
       "</div>"
      ],
      "text/plain": [
       "     survived  pclass     sex\n",
       "1           1       1  female\n",
       "2           1       3  female\n",
       "3           1       1  female\n",
       "8           1       3  female\n",
       "9           1       2  female\n",
       "..        ...     ...     ...\n",
       "875         1       3  female\n",
       "879         1       1  female\n",
       "880         1       2  female\n",
       "887         1       1  female\n",
       "889         1       1    male\n",
       "\n",
       "[342 rows x 3 columns]"
      ]
     },
     "execution_count": 785,
     "metadata": {},
     "output_type": "execute_result"
    }
   ],
   "source": [
    "df[secilmis_kolonlar][df[\"survived\"]==1]"
   ]
  },
  {
   "cell_type": "code",
   "execution_count": null,
   "id": "da141497",
   "metadata": {},
   "outputs": [],
   "source": [
    "df[secilmis_kolonlar]"
   ]
  },
  {
   "cell_type": "code",
   "execution_count": 786,
   "id": "f7f96923",
   "metadata": {},
   "outputs": [
    {
     "data": {
      "text/html": [
       "<div>\n",
       "<style scoped>\n",
       "    .dataframe tbody tr th:only-of-type {\n",
       "        vertical-align: middle;\n",
       "    }\n",
       "\n",
       "    .dataframe tbody tr th {\n",
       "        vertical-align: top;\n",
       "    }\n",
       "\n",
       "    .dataframe thead th {\n",
       "        text-align: right;\n",
       "    }\n",
       "</style>\n",
       "<table border=\"1\" class=\"dataframe\">\n",
       "  <thead>\n",
       "    <tr style=\"text-align: right;\">\n",
       "      <th></th>\n",
       "      <th>who</th>\n",
       "    </tr>\n",
       "  </thead>\n",
       "  <tbody>\n",
       "    <tr>\n",
       "      <th>1</th>\n",
       "      <td>woman</td>\n",
       "    </tr>\n",
       "    <tr>\n",
       "      <th>2</th>\n",
       "      <td>woman</td>\n",
       "    </tr>\n",
       "    <tr>\n",
       "      <th>3</th>\n",
       "      <td>woman</td>\n",
       "    </tr>\n",
       "    <tr>\n",
       "      <th>8</th>\n",
       "      <td>woman</td>\n",
       "    </tr>\n",
       "    <tr>\n",
       "      <th>11</th>\n",
       "      <td>woman</td>\n",
       "    </tr>\n",
       "    <tr>\n",
       "      <th>...</th>\n",
       "      <td>...</td>\n",
       "    </tr>\n",
       "    <tr>\n",
       "      <th>871</th>\n",
       "      <td>woman</td>\n",
       "    </tr>\n",
       "    <tr>\n",
       "      <th>874</th>\n",
       "      <td>woman</td>\n",
       "    </tr>\n",
       "    <tr>\n",
       "      <th>879</th>\n",
       "      <td>woman</td>\n",
       "    </tr>\n",
       "    <tr>\n",
       "      <th>880</th>\n",
       "      <td>woman</td>\n",
       "    </tr>\n",
       "    <tr>\n",
       "      <th>887</th>\n",
       "      <td>woman</td>\n",
       "    </tr>\n",
       "  </tbody>\n",
       "</table>\n",
       "<p>205 rows × 1 columns</p>\n",
       "</div>"
      ],
      "text/plain": [
       "       who\n",
       "1    woman\n",
       "2    woman\n",
       "3    woman\n",
       "8    woman\n",
       "11   woman\n",
       "..     ...\n",
       "871  woman\n",
       "874  woman\n",
       "879  woman\n",
       "880  woman\n",
       "887  woman\n",
       "\n",
       "[205 rows x 1 columns]"
      ]
     },
     "execution_count": 786,
     "metadata": {},
     "output_type": "execute_result"
    }
   ],
   "source": [
    "#df[]\n",
    "\n",
    "#(df[\"survived\"]==1) & (df[\"who\"]==\"woman\")\n",
    "\n",
    "#[[\"who\"]]\n",
    "\n",
    "df[(df[\"survived\"]==1) & (df[\"who\"]==\"woman\")][[\"who\"]]"
   ]
  },
  {
   "cell_type": "code",
   "execution_count": 787,
   "id": "68d60293",
   "metadata": {},
   "outputs": [
    {
     "data": {
      "text/html": [
       "<div>\n",
       "<style scoped>\n",
       "    .dataframe tbody tr th:only-of-type {\n",
       "        vertical-align: middle;\n",
       "    }\n",
       "\n",
       "    .dataframe tbody tr th {\n",
       "        vertical-align: top;\n",
       "    }\n",
       "\n",
       "    .dataframe thead th {\n",
       "        text-align: right;\n",
       "    }\n",
       "</style>\n",
       "<table border=\"1\" class=\"dataframe\">\n",
       "  <thead>\n",
       "    <tr style=\"text-align: right;\">\n",
       "      <th></th>\n",
       "      <th>pclass</th>\n",
       "      <th>fare</th>\n",
       "    </tr>\n",
       "  </thead>\n",
       "  <tbody>\n",
       "    <tr>\n",
       "      <th>0</th>\n",
       "      <td>3</td>\n",
       "      <td>7.2500</td>\n",
       "    </tr>\n",
       "    <tr>\n",
       "      <th>1</th>\n",
       "      <td>1</td>\n",
       "      <td>71.2833</td>\n",
       "    </tr>\n",
       "    <tr>\n",
       "      <th>2</th>\n",
       "      <td>3</td>\n",
       "      <td>7.9250</td>\n",
       "    </tr>\n",
       "    <tr>\n",
       "      <th>3</th>\n",
       "      <td>1</td>\n",
       "      <td>53.1000</td>\n",
       "    </tr>\n",
       "    <tr>\n",
       "      <th>4</th>\n",
       "      <td>3</td>\n",
       "      <td>8.0500</td>\n",
       "    </tr>\n",
       "  </tbody>\n",
       "</table>\n",
       "</div>"
      ],
      "text/plain": [
       "   pclass     fare\n",
       "0       3   7.2500\n",
       "1       1  71.2833\n",
       "2       3   7.9250\n",
       "3       1  53.1000\n",
       "4       3   8.0500"
      ]
     },
     "execution_count": 787,
     "metadata": {},
     "output_type": "execute_result"
    }
   ],
   "source": [
    "df[[\"pclass\",\"fare\"]].head()"
   ]
  },
  {
   "cell_type": "code",
   "execution_count": 788,
   "id": "4ee20431",
   "metadata": {},
   "outputs": [
    {
     "data": {
      "text/plain": [
       "32.204207968574636"
      ]
     },
     "execution_count": 788,
     "metadata": {},
     "output_type": "execute_result"
    }
   ],
   "source": [
    "df[\"fare\"].mean()"
   ]
  },
  {
   "cell_type": "code",
   "execution_count": 789,
   "id": "80a9d64d",
   "metadata": {},
   "outputs": [
    {
     "data": {
      "text/plain": [
       "13.675550101832993"
      ]
     },
     "execution_count": 789,
     "metadata": {},
     "output_type": "execute_result"
    }
   ],
   "source": [
    "df[df[\"pclass\"] == 3][\"fare\"].mean()"
   ]
  },
  {
   "cell_type": "code",
   "execution_count": 790,
   "id": "a804b6c5",
   "metadata": {},
   "outputs": [
    {
     "data": {
      "text/plain": [
       "84.1546875"
      ]
     },
     "execution_count": 790,
     "metadata": {},
     "output_type": "execute_result"
    }
   ],
   "source": [
    "df[df[\"pclass\"] == 1][\"fare\"].mean()"
   ]
  },
  {
   "cell_type": "code",
   "execution_count": 792,
   "id": "1763c50a",
   "metadata": {},
   "outputs": [
    {
     "data": {
      "text/plain": [
       "6.153660136035067"
      ]
     },
     "execution_count": 792,
     "metadata": {},
     "output_type": "execute_result"
    }
   ],
   "source": [
    "#df[]\n",
    "#df[\"pclass\"] == 1\n",
    "#[\"fare\"]\n",
    "#.mean()  \n",
    "\n",
    "#df[df[\"pclass\"] == 3][\"fare\"].mean() \n",
    "\n",
    "df[df[\"pclass\"] == 1][\"fare\"].mean() / df[df[\"pclass\"] == 3][\"fare\"].mean() "
   ]
  },
  {
   "cell_type": "code",
   "execution_count": 793,
   "id": "b46ec85c",
   "metadata": {},
   "outputs": [
    {
     "data": {
      "text/html": [
       "<div>\n",
       "<style scoped>\n",
       "    .dataframe tbody tr th:only-of-type {\n",
       "        vertical-align: middle;\n",
       "    }\n",
       "\n",
       "    .dataframe tbody tr th {\n",
       "        vertical-align: top;\n",
       "    }\n",
       "\n",
       "    .dataframe thead th {\n",
       "        text-align: right;\n",
       "    }\n",
       "</style>\n",
       "<table border=\"1\" class=\"dataframe\">\n",
       "  <thead>\n",
       "    <tr style=\"text-align: right;\">\n",
       "      <th></th>\n",
       "      <th>survived</th>\n",
       "      <th>pclass</th>\n",
       "      <th>sex</th>\n",
       "      <th>age</th>\n",
       "      <th>sibsp</th>\n",
       "      <th>parch</th>\n",
       "      <th>fare</th>\n",
       "      <th>embarked</th>\n",
       "      <th>class</th>\n",
       "      <th>who</th>\n",
       "      <th>adult_male</th>\n",
       "      <th>deck</th>\n",
       "      <th>embark_town</th>\n",
       "      <th>alive</th>\n",
       "      <th>alone</th>\n",
       "    </tr>\n",
       "  </thead>\n",
       "  <tbody>\n",
       "    <tr>\n",
       "      <th>0</th>\n",
       "      <td>0</td>\n",
       "      <td>3</td>\n",
       "      <td>male</td>\n",
       "      <td>22.0</td>\n",
       "      <td>1</td>\n",
       "      <td>0</td>\n",
       "      <td>7.2500</td>\n",
       "      <td>S</td>\n",
       "      <td>Third</td>\n",
       "      <td>man</td>\n",
       "      <td>True</td>\n",
       "      <td>NaN</td>\n",
       "      <td>Southampton</td>\n",
       "      <td>no</td>\n",
       "      <td>False</td>\n",
       "    </tr>\n",
       "    <tr>\n",
       "      <th>1</th>\n",
       "      <td>1</td>\n",
       "      <td>1</td>\n",
       "      <td>female</td>\n",
       "      <td>38.0</td>\n",
       "      <td>1</td>\n",
       "      <td>0</td>\n",
       "      <td>71.2833</td>\n",
       "      <td>C</td>\n",
       "      <td>First</td>\n",
       "      <td>woman</td>\n",
       "      <td>False</td>\n",
       "      <td>C</td>\n",
       "      <td>Cherbourg</td>\n",
       "      <td>yes</td>\n",
       "      <td>False</td>\n",
       "    </tr>\n",
       "    <tr>\n",
       "      <th>2</th>\n",
       "      <td>1</td>\n",
       "      <td>3</td>\n",
       "      <td>female</td>\n",
       "      <td>26.0</td>\n",
       "      <td>0</td>\n",
       "      <td>0</td>\n",
       "      <td>7.9250</td>\n",
       "      <td>S</td>\n",
       "      <td>Third</td>\n",
       "      <td>woman</td>\n",
       "      <td>False</td>\n",
       "      <td>NaN</td>\n",
       "      <td>Southampton</td>\n",
       "      <td>yes</td>\n",
       "      <td>True</td>\n",
       "    </tr>\n",
       "    <tr>\n",
       "      <th>3</th>\n",
       "      <td>1</td>\n",
       "      <td>1</td>\n",
       "      <td>female</td>\n",
       "      <td>35.0</td>\n",
       "      <td>1</td>\n",
       "      <td>0</td>\n",
       "      <td>53.1000</td>\n",
       "      <td>S</td>\n",
       "      <td>First</td>\n",
       "      <td>woman</td>\n",
       "      <td>False</td>\n",
       "      <td>C</td>\n",
       "      <td>Southampton</td>\n",
       "      <td>yes</td>\n",
       "      <td>False</td>\n",
       "    </tr>\n",
       "    <tr>\n",
       "      <th>4</th>\n",
       "      <td>0</td>\n",
       "      <td>3</td>\n",
       "      <td>male</td>\n",
       "      <td>35.0</td>\n",
       "      <td>0</td>\n",
       "      <td>0</td>\n",
       "      <td>8.0500</td>\n",
       "      <td>S</td>\n",
       "      <td>Third</td>\n",
       "      <td>man</td>\n",
       "      <td>True</td>\n",
       "      <td>NaN</td>\n",
       "      <td>Southampton</td>\n",
       "      <td>no</td>\n",
       "      <td>True</td>\n",
       "    </tr>\n",
       "  </tbody>\n",
       "</table>\n",
       "</div>"
      ],
      "text/plain": [
       "   survived  pclass     sex   age  sibsp  parch     fare embarked  class  \\\n",
       "0         0       3    male  22.0      1      0   7.2500        S  Third   \n",
       "1         1       1  female  38.0      1      0  71.2833        C  First   \n",
       "2         1       3  female  26.0      0      0   7.9250        S  Third   \n",
       "3         1       1  female  35.0      1      0  53.1000        S  First   \n",
       "4         0       3    male  35.0      0      0   8.0500        S  Third   \n",
       "\n",
       "     who  adult_male deck  embark_town alive  alone  \n",
       "0    man        True  NaN  Southampton    no  False  \n",
       "1  woman       False    C    Cherbourg   yes  False  \n",
       "2  woman       False  NaN  Southampton   yes   True  \n",
       "3  woman       False    C  Southampton   yes  False  \n",
       "4    man        True  NaN  Southampton    no   True  "
      ]
     },
     "execution_count": 793,
     "metadata": {},
     "output_type": "execute_result"
    }
   ],
   "source": [
    "df.head()"
   ]
  },
  {
   "cell_type": "code",
   "execution_count": 794,
   "id": "4494d9ca",
   "metadata": {},
   "outputs": [
    {
     "data": {
      "text/plain": [
       "survived    0.383838\n",
       "dtype: float64"
      ]
     },
     "execution_count": 794,
     "metadata": {},
     "output_type": "execute_result"
    }
   ],
   "source": [
    "df[[\"survived\"]].mean()"
   ]
  },
  {
   "cell_type": "code",
   "execution_count": 798,
   "id": "6e4a911c",
   "metadata": {},
   "outputs": [],
   "source": [
    "#df[\"pclass\"]"
   ]
  },
  {
   "cell_type": "code",
   "execution_count": 799,
   "id": "d637fd58",
   "metadata": {},
   "outputs": [
    {
     "data": {
      "text/plain": [
       "0.6296296296296297"
      ]
     },
     "execution_count": 799,
     "metadata": {},
     "output_type": "execute_result"
    }
   ],
   "source": [
    "df[df[\"pclass\"] == 1][\"survived\"].mean()"
   ]
  },
  {
   "cell_type": "code",
   "execution_count": 800,
   "id": "61a2936b",
   "metadata": {},
   "outputs": [
    {
     "data": {
      "text/plain": [
       "0.47282608695652173"
      ]
     },
     "execution_count": 800,
     "metadata": {},
     "output_type": "execute_result"
    }
   ],
   "source": [
    "df[df[\"pclass\"] == 2][\"survived\"].mean()"
   ]
  },
  {
   "cell_type": "code",
   "execution_count": 801,
   "id": "7b06ac58",
   "metadata": {},
   "outputs": [
    {
     "data": {
      "text/plain": [
       "0.24236252545824846"
      ]
     },
     "execution_count": 801,
     "metadata": {},
     "output_type": "execute_result"
    }
   ],
   "source": [
    "df[df[\"pclass\"] == 3][\"survived\"].mean()"
   ]
  },
  {
   "cell_type": "code",
   "execution_count": 802,
   "id": "0bac261a",
   "metadata": {},
   "outputs": [
    {
     "data": {
      "text/plain": [
       "0.7420382165605095"
      ]
     },
     "execution_count": 802,
     "metadata": {},
     "output_type": "execute_result"
    }
   ],
   "source": [
    "df[df[\"sex\"] == \"female\"][\"survived\"].mean()"
   ]
  },
  {
   "cell_type": "code",
   "execution_count": 803,
   "id": "82c646b5",
   "metadata": {},
   "outputs": [
    {
     "data": {
      "text/plain": [
       "0.18890814558058924"
      ]
     },
     "execution_count": 803,
     "metadata": {},
     "output_type": "execute_result"
    }
   ],
   "source": [
    "df[df[\"sex\"] == \"male\"][\"survived\"].mean()"
   ]
  },
  {
   "cell_type": "code",
   "execution_count": 804,
   "id": "1f77b457",
   "metadata": {},
   "outputs": [
    {
     "data": {
      "text/plain": [
       "0      False\n",
       "1       True\n",
       "2      False\n",
       "3       True\n",
       "4      False\n",
       "       ...  \n",
       "886    False\n",
       "887     True\n",
       "888    False\n",
       "889    False\n",
       "890    False\n",
       "Length: 891, dtype: bool"
      ]
     },
     "execution_count": 804,
     "metadata": {},
     "output_type": "execute_result"
    }
   ],
   "source": [
    "(df[\"sex\"] == \"female\") & (df[\"pclass\"] == 1)"
   ]
  },
  {
   "cell_type": "code",
   "execution_count": 805,
   "id": "4de37d3c",
   "metadata": {},
   "outputs": [
    {
     "data": {
      "text/plain": [
       "0.9680851063829787"
      ]
     },
     "execution_count": 805,
     "metadata": {},
     "output_type": "execute_result"
    }
   ],
   "source": [
    "df[(df[\"sex\"] == \"female\") & (df[\"pclass\"] == 1)][\"survived\"].mean()"
   ]
  },
  {
   "cell_type": "code",
   "execution_count": 806,
   "id": "37f104a0",
   "metadata": {},
   "outputs": [
    {
     "data": {
      "text/plain": [
       "0.36885245901639346"
      ]
     },
     "execution_count": 806,
     "metadata": {},
     "output_type": "execute_result"
    }
   ],
   "source": [
    "df[(df[\"sex\"] == \"male\") & (df[\"pclass\"] == 1)][\"survived\"].mean()"
   ]
  },
  {
   "cell_type": "code",
   "execution_count": 808,
   "id": "4ba9d48f",
   "metadata": {},
   "outputs": [
    {
     "data": {
      "text/plain": [
       "0.5"
      ]
     },
     "execution_count": 808,
     "metadata": {},
     "output_type": "execute_result"
    }
   ],
   "source": [
    "df[(df[\"sex\"] == \"female\") & (df[\"pclass\"] == 3)][\"survived\"].mean()"
   ]
  },
  {
   "cell_type": "code",
   "execution_count": 809,
   "id": "c37944ef",
   "metadata": {},
   "outputs": [
    {
     "data": {
      "text/plain": [
       "0.13544668587896252"
      ]
     },
     "execution_count": 809,
     "metadata": {},
     "output_type": "execute_result"
    }
   ],
   "source": [
    "df[(df[\"sex\"] == \"male\") & (df[\"pclass\"] == 3)][\"survived\"].mean()"
   ]
  },
  {
   "cell_type": "code",
   "execution_count": 810,
   "id": "fb70a69e",
   "metadata": {},
   "outputs": [],
   "source": [
    "# DINLENME ve TEKRAR"
   ]
  },
  {
   "cell_type": "code",
   "execution_count": 812,
   "id": "ac97a1a6",
   "metadata": {},
   "outputs": [
    {
     "data": {
      "text/plain": [
       "who\n",
       "man      537\n",
       "woman    271\n",
       "child     83\n",
       "Name: count, dtype: int64"
      ]
     },
     "execution_count": 812,
     "metadata": {},
     "output_type": "execute_result"
    }
   ],
   "source": [
    "df[\"who\"].value_counts()"
   ]
  },
  {
   "cell_type": "code",
   "execution_count": 813,
   "id": "50767be8",
   "metadata": {},
   "outputs": [
    {
     "data": {
      "text/plain": [
       "0.5903614457831325"
      ]
     },
     "execution_count": 813,
     "metadata": {},
     "output_type": "execute_result"
    }
   ],
   "source": [
    "df[(df[\"who\"] == \"child\")][\"survived\"].mean()"
   ]
  },
  {
   "cell_type": "code",
   "execution_count": 819,
   "id": "94315465",
   "metadata": {
    "scrolled": true
   },
   "outputs": [
    {
     "data": {
      "image/png": "[encoded data removed]",
      "text/plain": [
       "<Figure size 640x480 with 1 Axes>"
      ]
     },
     "metadata": {},
     "output_type": "display_data"
    }
   ],
   "source": [
    "df[\"age\"].hist(bins=60);"
   ]
  },
  {
   "cell_type": "code",
   "execution_count": null,
   "id": "5856750c",
   "metadata": {},
   "outputs": [],
   "source": []
  },
  {
   "cell_type": "markdown",
   "id": "69bba7a2",
   "metadata": {},
   "source": [
    "## Ödev Plus\n",
    "\n",
    "* Notebooku baştan sona RUN edin\n",
    "\n",
    "* İstediğiniz 20 tane satıra o satırda olan işlemi comment olarak yazın\n",
    "\n",
    "* a = [10,20,30,40] ve b = [22,23,24,25] iki listeyi toplayıp c = [32,43,54,65] olușturun, for, append() kullanınız\n",
    "* Titanik verisinde erkek,hayatta kalan ve 30 dan fazla ödeyen yolcuların yaşlarının ortlaması ve standart sapması"
   ]
  }
 ],
 "metadata": {
  "kernelspec": {
   "display_name": "Python 3 (ipykernel)",
   "language": "python",
   "name": "python3"
  },
  "language_info": {
   "codemirror_mode": {
    "name": "ipython",
    "version": 3
   },
   "file_extension": ".py",
   "mimetype": "text/x-python",
   "name": "python",
   "nbconvert_exporter": "python",
   "pygments_lexer": "ipython3",
   "version": "3.11.5"
  }
 },
 "nbformat": 4,
 "nbformat_minor": 5
}
